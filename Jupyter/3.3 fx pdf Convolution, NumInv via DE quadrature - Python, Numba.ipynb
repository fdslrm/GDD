{
 "cells": [
  {
   "cell_type": "markdown",
   "metadata": {},
   "source": [
    "**Authors:** Jozef Hanč, Martina Hančová <br> *[Faculty of Science](https://www.upjs.sk/en/faculty-of-science/?prefferedLang=EN), P. J. Šafárik University in Košice, Slovakia* <br> emails: [martina.hancova@upjs.sk](mailto:martina.hancova@upjs.sk)\n",
    "***\n",
    "\n",
    "# <font color = brown, size=6> DE quadrature for convolution and numerical inversion <br> $\\mathcal{GDD}$ pdf calculations</font>\n",
    "\n",
    "<font size=4> Computational tools: </font>  **<font size=4>Python, Numba</font>**  "
   ]
  },
  {
   "cell_type": "code",
   "execution_count": 1,
   "metadata": {
    "ExecuteTime": {
     "end_time": "2021-06-01T21:06:13.968728Z",
     "start_time": "2021-06-01T21:06:13.642959Z"
    }
   },
   "outputs": [],
   "source": [
    "N = 4 #test up to 10^N\n",
    "\n",
    "import numpy as np\n",
    "import pandas as pd\n",
    "import matplotlib.pyplot as plt\n",
    "plt.style.use('seaborn-whitegrid')\n",
    "\n",
    "from numpy import inf as INF\n",
    "from time import time\n",
    "from numpy import array as v\n",
    "\n",
    "import math, cmath\n",
    "import scipy\n",
    "\n",
    "# approximate formulas for precisions expressed in bits and decimal places\n",
    "bits = lambda d:round((d+1)*ln(10)/ln(2)) \n",
    "dps = lambda b:round(b*ln(2)/ln(10) - 1)\n",
    "\n",
    "# accuracy in Python\n",
    "def abs_errs(df1, df2):\n",
    "    N = len(df1)\n",
    "    errors = [abs(df1[i]-df2[i]) for i in range(N)]\n",
    "    return errors"
   ]
  },
  {
   "cell_type": "code",
   "execution_count": 2,
   "metadata": {
    "ExecuteTime": {
     "end_time": "2021-06-01T21:06:15.498294Z",
     "start_time": "2021-06-01T21:06:15.486135Z"
    }
   },
   "outputs": [
    {
     "data": {
      "text/plain": [
       "('1.6.0', '1.19.2', '1.2.3')"
      ]
     },
     "execution_count": 2,
     "metadata": {},
     "output_type": "execute_result"
    }
   ],
   "source": [
    "scipy.__version__, np.__version__, pd.__version__"
   ]
  },
  {
   "cell_type": "markdown",
   "metadata": {},
   "source": [
    "# Pdf computation"
   ]
  },
  {
   "cell_type": "markdown",
   "metadata": {},
   "source": [
    "## Pdf via analytic expression"
   ]
  },
  {
   "cell_type": "markdown",
   "metadata": {},
   "source": [
    "$\n",
    "f(z)=\n",
    "\\dfrac{\\beta_{1}^{\\alpha_{1}} \\beta_{2}^{\\alpha_{2}}}{\\beta^{\\alpha-1}}\n",
    "\\begin{cases}\n",
    "{\\dfrac{e^{z \\beta_{2}}}{\\Gamma\\left(\\alpha_{2}\\right)} U\\left(1-\\alpha_{2}, 2-\\alpha,-z \\beta\\right),} & {z<0} \\\\[12pt]\n",
    "\\begin{array}{cc} \n",
    "\\frac{\\Gamma(\\alpha-1)}{\\beta^{a / 2-1} \\Gamma\\left(\\alpha_{1}\\right) \\Gamma\\left(\\alpha_{2}\\right)}, & \\scriptstyle 1<\\alpha \\\\ \n",
    "\\infty,  & \\scriptstyle 0<\\alpha \\leq 1 \n",
    "\\end{array}, & z=0 \\\\[12pt] \n",
    "{\\dfrac{e^{-z \\beta_{1}}}{\\Gamma\\left(\\alpha_{1}\\right)} U\\left(1-\\alpha_{1}, 2-\\alpha, z \\beta\\right),} & {z>0}\n",
    "\\end{cases}\n",
    "$\n",
    "\n",
    "\n",
    "$\\alpha=\\alpha_{1}+\\alpha_{2}, \\quad \\beta=\\beta_{1}+\\beta_{2}$"
   ]
  },
  {
   "cell_type": "code",
   "execution_count": 4,
   "metadata": {
    "ExecuteTime": {
     "end_time": "2021-06-01T21:06:52.018385Z",
     "start_time": "2021-06-01T21:06:51.982386Z"
    }
   },
   "outputs": [],
   "source": [
    "# pre-calculated all values\n",
    "dpari = {str(10**(n+1)):np.loadtxt('data/Pari_Sage_pdf'+str(10**(n+1))+'.txt', delimiter=',',\n",
    "                                    dtype=np.longdouble) for n in range(N)}"
   ]
  },
  {
   "cell_type": "markdown",
   "metadata": {},
   "source": [
    "## Pdf convolution via DE"
   ]
  },
  {
   "cell_type": "markdown",
   "metadata": {},
   "source": [
    "$\n",
    "f(z)=\n",
    "\\dfrac{\\beta_{1}^{\\alpha_{1}} \\beta_{2}^{\\alpha_{2}}}{\\Gamma\\left(\\alpha_{1}\\right) \\Gamma\\left(\\alpha_{2}\\right)}\n",
    "\\begin{cases}\n",
    "{e^{-\\beta_{1} z} \\displaystyle \\int_{-z}^{\\infty} x^{\\alpha_{2}-1}(x+z)^{\\alpha_{1}-1} e^{-\\beta x} d x,} & {z<0} \\\\[12pt]\n",
    "\\begin{array}{cc} \n",
    "\\frac{\\Gamma(\\alpha-1)}{\\beta^{a-1}}, & \\scriptstyle 1<\\alpha \\\\ \n",
    "\\infty,  & \\scriptstyle 0<\\alpha \\leq 1 \n",
    "\\end{array}, & z=0 \\\\[12pt] \n",
    "{e^{\\beta_{2} z} \\displaystyle \\int_{z}^{\\infty} x^{\\alpha_{1}-1}(x-z)^{\\alpha_{2}-1} e^{-\\beta x} d x,} & {z>0}\n",
    "\\end{cases}\n",
    "$\n",
    "\n",
    "$\\alpha=\\alpha_{1}+\\alpha_{2}, \\quad \\beta=\\beta_{1}+\\beta_{2}$"
   ]
  },
  {
   "cell_type": "code",
   "execution_count": 5,
   "metadata": {
    "ExecuteTime": {
     "end_time": "2021-06-01T21:07:59.766038Z",
     "start_time": "2021-06-01T21:07:59.745477Z"
    }
   },
   "outputs": [],
   "source": [
    "import scipy.special as sp\n",
    "from TRandDE.DEQuadratureNumba import *\n",
    "from TRandDE.DEQuadrature import *"
   ]
  },
  {
   "cell_type": "markdown",
   "metadata": {
    "ExecuteTime": {
     "end_time": "2021-04-29T11:40:04.796737Z",
     "start_time": "2021-04-29T11:40:04.781728Z"
    }
   },
   "source": [
    "## Setting parameters and integrands"
   ]
  },
  {
   "cell_type": "code",
   "execution_count": 6,
   "metadata": {
    "ExecuteTime": {
     "end_time": "2021-06-01T21:08:19.390486Z",
     "start_time": "2021-06-01T21:08:19.374454Z"
    }
   },
   "outputs": [],
   "source": [
    "# parameters\n",
    "eps = 1e-8\n",
    "a1, b1, a2, b2 = 0.5, 1.0, 8.5, 93.0\n",
    "a, b = a1+a2, b1+b2\n",
    "c = b1**a1*b2**a2/(sp.gamma(a1)*sp.gamma(a2))\n",
    "cc = c*sp.gamma(a-1)/b**(a-1)"
   ]
  },
  {
   "cell_type": "code",
   "execution_count": 7,
   "metadata": {
    "ExecuteTime": {
     "end_time": "2021-06-01T21:08:24.323977Z",
     "start_time": "2021-06-01T21:08:24.311100Z"
    }
   },
   "outputs": [],
   "source": [
    "# Python integrands\n",
    "def gm(x,z):\n",
    "    if x == -z:\n",
    "        value = c*math.exp(-z*b1)*x**(a2-1)*(1e-16)**(a1-1)*math.exp(-b*x)\n",
    "    if x > -z:\n",
    "        value = c*math.exp(-z*b1)*x**(a2-1)*(x+z)**(a1-1)*math.exp(-b*x)\n",
    "    return value\n",
    "\n",
    "def gp(x,z):\n",
    "    return c*math.exp(z*b2)*x**(a1-1)*(x-z)**(a2-1)*math.exp(-b*x)"
   ]
  },
  {
   "cell_type": "code",
   "execution_count": 8,
   "metadata": {
    "ExecuteTime": {
     "end_time": "2021-06-01T21:08:28.262941Z",
     "start_time": "2021-06-01T21:08:28.242940Z"
    }
   },
   "outputs": [],
   "source": [
    "# Numba integrands\n",
    "@njit(fastmath=True)\n",
    "def gmn(x,z):\n",
    "    if x == -z:\n",
    "        value = c*math.exp(-z*b1)*x**(a2-1)*(1e-16)**(a1-1)*math.exp(-b*x)\n",
    "    if x > -z:\n",
    "        value = c*math.exp(-z*b1)*x**(a2-1)*(x+z)**(a1-1)*math.exp(-b*x)\n",
    "    return value\n",
    "\n",
    "@njit(fastmath=True)\n",
    "def gpn(x,z):\n",
    "    return c*math.exp(z*b2)*x**(a1-1)*(x-z)**(a2-1)*math.exp(-b*x)"
   ]
  },
  {
   "cell_type": "markdown",
   "metadata": {},
   "source": [
    "## Convolution integrals"
   ]
  },
  {
   "cell_type": "code",
   "execution_count": 10,
   "metadata": {
    "ExecuteTime": {
     "end_time": "2021-06-01T21:08:50.574030Z",
     "start_time": "2021-06-01T21:08:50.555150Z"
    }
   },
   "outputs": [],
   "source": [
    "# DE Python\n",
    "def fconde(z, eps_rel = eps):\n",
    "    if z<0:\n",
    "        value = intdei(lambda x:gm(x,z), -z,  eps_rel)[0]\n",
    "    elif z>0:\n",
    "        value = intdei(lambda x:gp(x,z), z, eps_rel)[0]\n",
    "    else:\n",
    "        value = cc\n",
    "    return value"
   ]
  },
  {
   "cell_type": "code",
   "execution_count": 11,
   "metadata": {
    "ExecuteTime": {
     "end_time": "2021-06-01T21:08:56.021779Z",
     "start_time": "2021-06-01T21:08:56.013805Z"
    }
   },
   "outputs": [],
   "source": [
    "# DE numba, factory function\n",
    "intdeim = make_intdei(gmn)\n",
    "intdeip = make_intdei(gpn)\n",
    "\n",
    "def fconden(z, eps_rel = eps):\n",
    "    if z<0:\n",
    "        value = intdeim(-z, z, eps_rel)[0] \n",
    "    elif z>0:\n",
    "        value = intdeip(z, z, eps_rel)[0]\n",
    "    else:\n",
    "        value = cc\n",
    "    return value"
   ]
  },
  {
   "cell_type": "code",
   "execution_count": 12,
   "metadata": {
    "ExecuteTime": {
     "end_time": "2021-06-01T21:08:59.345982Z",
     "start_time": "2021-06-01T21:08:58.690089Z"
    }
   },
   "outputs": [
    {
     "data": {
      "text/plain": [
       "(3.3942737449515605, 3.3942737449515605)"
      ]
     },
     "execution_count": 12,
     "metadata": {},
     "output_type": "execute_result"
    }
   ],
   "source": [
    "fconde(-0.06), fconden(-0.06)"
   ]
  },
  {
   "cell_type": "markdown",
   "metadata": {},
   "source": [
    "## Pdf numerical inversion via DE\n",
    "<div style=\"display:none\">\n",
    "$\n",
    " \\newcommand{\\a}{\\alpha}\n",
    " \\newcommand{\\b}{\\beta}\n",
    " \\newcommand{\\cft}{\\varphi(t)}\n",
    " \\newcommand{\\Rv}[1]{\\mathscr{R}^{#1}}\n",
    "$\n",
    "</div>"
   ]
  },
  {
   "cell_type": "markdown",
   "metadata": {},
   "source": [
    "**<font size=3>Complex numbers $\\mathcal{C}$ </font>** \n",
    "$$\\large f(x)=  \\frac{1}{\\pi} \n",
    "\\int_0^\\infty \\Re \\left[e^{-itx}\\cft\\right]dt \n",
    "$$\n",
    "\n",
    "$$ \n",
    "\\cft=  \\left(1-\\dfrac{it}{\\b_1}\\right)^{-\\a_1}\\left(1+\\dfrac{it}{\\b_2}\\right)^{-\\a_2}, t\\in \\Rv{}\n",
    "$$"
   ]
  },
  {
   "cell_type": "markdown",
   "metadata": {},
   "source": [
    "**<font size=3>Real numbers $\\mathcal{R}$ </font>** \n",
    "$$\n",
    "\\large f(x)= \\int_{0}^{\\infty} g(x,t) dt \n",
    "$$\n",
    "\n",
    "$$ \n",
    "g(x,t) = r(t)\\cos(xt-\\phi(t)), \n",
    "$$\n",
    "\n",
    "$$ r(t)= \\frac{\\b_1^{\\a_1} \\b_2^{\\a_2}}{\\pi\\left(\\b_1^2+t^2\\right)^{\\a_1/2}\n",
    "\\left(\\b_2^2+t^2\\right)^{\\a_2 / 2}}, \\quad \\phi(t) = \\a_1 \\arctan \\frac{t}{\\b_1}-\\a_2 \\arctan \\frac{t}{\\b_2}$$"
   ]
  },
  {
   "cell_type": "markdown",
   "metadata": {
    "ExecuteTime": {
     "end_time": "2021-04-29T11:40:04.796737Z",
     "start_time": "2021-04-29T11:40:04.781728Z"
    }
   },
   "source": [
    "## Setting parameters and integrands"
   ]
  },
  {
   "cell_type": "code",
   "execution_count": 13,
   "metadata": {
    "ExecuteTime": {
     "end_time": "2021-06-01T21:09:07.938041Z",
     "start_time": "2021-06-01T21:09:07.927315Z"
    }
   },
   "outputs": [],
   "source": [
    "# Setting parameters and integrands\n",
    "d = b1**a1*b2**a2/math.pi"
   ]
  },
  {
   "cell_type": "code",
   "execution_count": 14,
   "metadata": {
    "ExecuteTime": {
     "end_time": "2021-06-01T21:09:09.232621Z",
     "start_time": "2021-06-01T21:09:09.224639Z"
    }
   },
   "outputs": [],
   "source": [
    "# integrand Python, complex functions\n",
    "def gcpy(t, x):\n",
    "    phit = (1-1j*t/b1)**(-a1)*(1+1j*t/b2)**(-a2)\n",
    "    return (1/math.pi*cmath.exp(-1j*t*x)*phit).real"
   ]
  },
  {
   "cell_type": "code",
   "execution_count": 15,
   "metadata": {
    "ExecuteTime": {
     "end_time": "2021-06-01T21:09:10.746528Z",
     "start_time": "2021-06-01T21:09:10.734561Z"
    }
   },
   "outputs": [],
   "source": [
    "# integrand Numba\n",
    "@njit(fastmath=True)\n",
    "def gcn(t, x):\n",
    "    phit = (1-1j*t/b1)**(-a1)*(1+1j*t/b2)**(-a2)\n",
    "    return (1/math.pi*cmath.exp(-1j*t*x)*phit).real\n",
    "\n",
    "@njit(fastmath=True)\n",
    "def gn(t,x):\n",
    "    phi = a1*math.atan(t/b1) - a2*math.atan(t/b2)\n",
    "    r = 1/((b1*b1 + t*t)**(a1/2)*(b2*b2 + t*t)**(a2/2))\n",
    "    return d*r*math.cos(x*t-phi)"
   ]
  },
  {
   "cell_type": "markdown",
   "metadata": {},
   "source": [
    "## Numerical inversion integrals"
   ]
  },
  {
   "cell_type": "code",
   "execution_count": 16,
   "metadata": {
    "ExecuteTime": {
     "end_time": "2021-06-01T21:09:24.887974Z",
     "start_time": "2021-06-01T21:09:24.875271Z"
    }
   },
   "outputs": [],
   "source": [
    "# DE python, complex\n",
    "fnumdec = lambda x, eps_rel = eps: intdeo(lambda t: gcpy(t,x), 0, x, eps)[0]"
   ]
  },
  {
   "cell_type": "code",
   "execution_count": 17,
   "metadata": {
    "ExecuteTime": {
     "end_time": "2021-06-01T21:09:32.348570Z",
     "start_time": "2021-06-01T21:09:32.331726Z"
    }
   },
   "outputs": [],
   "source": [
    "# DE numba\n",
    "intdeogcn = make_intdeo(gcn)\n",
    "intdeogn = make_intdeo(gn)\n",
    "\n",
    "# numba, complex\n",
    "fnumdecn = lambda x, eps_rel=eps: intdeogcn(0, x, eps)[0]\n",
    "\n",
    "# numba, float\n",
    "fnumden = lambda x, eps_rel=eps: intdeogn(0, x, eps)[0]"
   ]
  },
  {
   "cell_type": "code",
   "execution_count": 18,
   "metadata": {
    "ExecuteTime": {
     "end_time": "2021-06-01T21:09:38.176612Z",
     "start_time": "2021-06-01T21:09:36.407305Z"
    }
   },
   "outputs": [
    {
     "data": {
      "text/plain": [
       "(0.18154352688026298, 0.18154352688026335, 0.18154352688026396)"
      ]
     },
     "execution_count": 18,
     "metadata": {},
     "output_type": "execute_result"
    }
   ],
   "source": [
    "fnumdec(1), fnumdecn(1), fnumden(1)"
   ]
  },
  {
   "cell_type": "markdown",
   "metadata": {},
   "source": [
    "# Benchmark"
   ]
  },
  {
   "cell_type": "markdown",
   "metadata": {},
   "source": [
    "## cross-checking: plots"
   ]
  },
  {
   "cell_type": "code",
   "execution_count": 19,
   "metadata": {
    "ExecuteTime": {
     "end_time": "2021-06-01T21:09:40.491294Z",
     "start_time": "2021-06-01T21:09:40.478659Z"
    }
   },
   "outputs": [],
   "source": [
    "methods = {'DE-conv':fconde, 'DE-conv-n': fconden, \n",
    "       'DE-numinv-c': fnumdec, 'DE-numinv-cn':fnumdecn,\n",
    "       'DE-numin-n': fnumden}\n",
    "pdf = {m:f for m,f in methods.items()}"
   ]
  },
  {
   "cell_type": "code",
   "execution_count": 20,
   "metadata": {
    "ExecuteTime": {
     "end_time": "2021-06-01T21:09:41.257037Z",
     "start_time": "2021-06-01T21:09:41.236412Z"
    }
   },
   "outputs": [],
   "source": [
    "points = np.linspace(-3, 4, 1000)"
   ]
  },
  {
   "cell_type": "code",
   "execution_count": 21,
   "metadata": {
    "ExecuteTime": {
     "end_time": "2021-06-01T21:09:46.856121Z",
     "start_time": "2021-06-01T21:09:43.342475Z"
    },
    "scrolled": true
   },
   "outputs": [
    {
     "data": {
      "image/png": "[encoded data removed]",
      "text/plain": [
       "<Figure size 432x288 with 1 Axes>"
      ]
     },
     "metadata": {},
     "output_type": "display_data"
    },
    {
     "data": {
      "image/png": "[encoded data removed]",
      "text/plain": [
       "<Figure size 432x288 with 1 Axes>"
      ]
     },
     "metadata": {},
     "output_type": "display_data"
    },
    {
     "data": {
      "image/png": "[encoded data removed]",
      "text/plain": [
       "<Figure size 432x288 with 1 Axes>"
      ]
     },
     "metadata": {},
     "output_type": "display_data"
    },
    {
     "data": {
      "image/png": "[encoded data removed]",
      "text/plain": [
       "<Figure size 432x288 with 1 Axes>"
      ]
     },
     "metadata": {},
     "output_type": "display_data"
    },
    {
     "data": {
      "image/png": "[encoded data removed]",
      "text/plain": [
       "<Figure size 432x288 with 1 Axes>"
      ]
     },
     "metadata": {},
     "output_type": "display_data"
    }
   ],
   "source": [
    "for method in list(pdf.keys()):\n",
    "    yh = [pdf[method](u) for u in points]\n",
    "    plt.plot(points,yh)\n",
    "    plt.title(method)\n",
    "    plt.show();"
   ]
  },
  {
   "cell_type": "markdown",
   "metadata": {},
   "source": [
    "## Computation - one point $x=1$"
   ]
  },
  {
   "cell_type": "code",
   "execution_count": 22,
   "metadata": {
    "ExecuteTime": {
     "end_time": "2021-06-01T21:09:54.312292Z",
     "start_time": "2021-06-01T21:09:53.837687Z"
    }
   },
   "outputs": [
    {
     "name": "stdout",
     "output_type": "stream",
     "text": [
      "DE-conv <class 'numpy.float64'> f(1)= 0.18154352175631908\n",
      "192 µs ± 1.37 µs per loop (mean ± std. dev. of 3 runs, 10 loops each)\n",
      "\n",
      "DE-conv-n <class 'float'> f(1)= 0.1815435217563191\n",
      "3.55 µs ± 151 ns per loop (mean ± std. dev. of 3 runs, 10 loops each)\n",
      "\n",
      "DE-numinv-c <class 'float'> f(1)= 0.18154352688026298\n",
      "119 µs ± 1.47 µs per loop (mean ± std. dev. of 3 runs, 10 loops each)\n",
      "\n",
      "DE-numinv-cn <class 'float'> f(1)= 0.18154352688026335\n",
      "19.7 µs ± 277 ns per loop (mean ± std. dev. of 3 runs, 10 loops each)\n",
      "\n",
      "DE-numin-n <class 'float'> f(1)= 0.18154352688026396\n",
      "5.81 µs ± 178 ns per loop (mean ± std. dev. of 3 runs, 10 loops each)\n",
      "\n"
     ]
    }
   ],
   "source": [
    "t = 1\n",
    "runtimes = dict()\n",
    "for method, fun in pdf.items():\n",
    "    print(method, type(fun(t)), 'f('+str(t)+')=', fun(t))\n",
    "    rt = %timeit -r 3 -n 10 -oq fun(t)\n",
    "    runtimes[method] = rt.average\n",
    "    %timeit -r 3 -n 10 fun(t)\n",
    "    print('')"
   ]
  },
  {
   "cell_type": "code",
   "execution_count": 23,
   "metadata": {
    "ExecuteTime": {
     "end_time": "2021-06-01T21:10:04.124211Z",
     "start_time": "2021-06-01T21:10:04.111637Z"
    }
   },
   "outputs": [
    {
     "name": "stdout",
     "output_type": "stream",
     "text": [
      "1.910 DE-conv\n",
      "0.036 DE-conv-n\n",
      "1.185 DE-numinv-c\n",
      "0.373 DE-numinv-cn\n",
      "0.058 DE-numin-n\n"
     ]
    }
   ],
   "source": [
    "for method, runtime in runtimes.items():\n",
    "    print(f\"{runtime*1e4:.3f}\", method)"
   ]
  },
  {
   "cell_type": "code",
   "execution_count": 24,
   "metadata": {
    "ExecuteTime": {
     "end_time": "2021-06-01T21:10:07.034361Z",
     "start_time": "2021-06-01T21:10:07.021820Z"
    }
   },
   "outputs": [
    {
     "data": {
      "text/plain": [
       "array([ 1. , 53.8,  1.6,  5.1, 33. ])"
      ]
     },
     "execution_count": 24,
     "metadata": {},
     "output_type": "execute_result"
    }
   ],
   "source": [
    "ts = v(list(runtimes.values()))*10000\n",
    "(max(ts)/ts).round(1)"
   ]
  },
  {
   "cell_type": "markdown",
   "metadata": {
    "ExecuteTime": {
     "end_time": "2021-04-29T15:59:35.378421Z",
     "start_time": "2021-04-29T15:59:35.366453Z"
    }
   },
   "source": [
    "## Computation - 10000 points $x \\in (-3,4)$"
   ]
  },
  {
   "cell_type": "code",
   "execution_count": 25,
   "metadata": {
    "ExecuteTime": {
     "end_time": "2021-06-01T21:10:18.857627Z",
     "start_time": "2021-06-01T21:10:18.836961Z"
    }
   },
   "outputs": [],
   "source": [
    "benchmark = pd.DataFrame(index = range(3, 16), \n",
    "            columns = methods.keys())\n",
    "benchmark.insert(0, 'err', v([f\"{10**(-n):.0e}\" for n in range(3, 16)]))"
   ]
  },
  {
   "cell_type": "code",
   "execution_count": 26,
   "metadata": {
    "ExecuteTime": {
     "end_time": "2021-06-01T21:10:21.937623Z",
     "start_time": "2021-06-01T21:10:21.884848Z"
    }
   },
   "outputs": [],
   "source": [
    "# points\n",
    "x = lambda n: np.linspace(-3, 4, n)\n",
    "# pre-calculated all values\n",
    "dx = {str(10**(n+1)):np.loadtxt('data/xvalues'+str(10**(n+1))+'.txt', dtype=np.longdouble) for n in range(N)}"
   ]
  },
  {
   "cell_type": "code",
   "execution_count": 26,
   "metadata": {
    "ExecuteTime": {
     "end_time": "2021-05-03T19:05:49.502521Z",
     "start_time": "2021-05-03T18:38:01.921282Z"
    }
   },
   "outputs": [
    {
     "name": "stdout",
     "output_type": "stream",
     "text": [
      "10000 DE-conv  eps= 0.001\n",
      "10000 DE-conv  eps= 0.0001\n",
      "10000 DE-conv  eps= 1e-05\n",
      "10000 DE-conv  eps= 1e-06\n",
      "10000 DE-conv  eps= 1e-07\n",
      "10000 DE-conv  eps= 1e-08\n",
      "10000 DE-conv  eps= 1e-09\n",
      "10000 DE-conv  eps= 1e-10\n",
      "10000 DE-conv  eps= 1e-11\n",
      "10000 DE-conv  eps= 1e-12\n",
      "10000 DE-conv  eps= 1e-13\n",
      "10000 DE-conv  eps= 1e-14\n",
      "10000 DE-conv  eps= 1e-15\n",
      "runtime = 682.257447719574 s\n",
      "*************************\n",
      "10000 DE-conv-n  eps= 0.001\n",
      "10000 DE-conv-n  eps= 0.0001\n",
      "10000 DE-conv-n  eps= 1e-05\n",
      "10000 DE-conv-n  eps= 1e-06\n",
      "10000 DE-conv-n  eps= 1e-07\n",
      "10000 DE-conv-n  eps= 1e-08\n",
      "10000 DE-conv-n  eps= 1e-09\n",
      "10000 DE-conv-n  eps= 1e-10\n",
      "10000 DE-conv-n  eps= 1e-11\n",
      "10000 DE-conv-n  eps= 1e-12\n",
      "10000 DE-conv-n  eps= 1e-13\n",
      "10000 DE-conv-n  eps= 1e-14\n",
      "10000 DE-conv-n  eps= 1e-15\n",
      "runtime = 690.2264873981476 s\n",
      "*************************\n",
      "10000 DE-numinv-c  eps= 0.001\n",
      "10000 DE-numinv-c  eps= 0.0001\n",
      "10000 DE-numinv-c  eps= 1e-05\n",
      "10000 DE-numinv-c  eps= 1e-06\n",
      "10000 DE-numinv-c  eps= 1e-07\n",
      "10000 DE-numinv-c  eps= 1e-08\n",
      "10000 DE-numinv-c  eps= 1e-09\n",
      "10000 DE-numinv-c  eps= 1e-10\n",
      "10000 DE-numinv-c  eps= 1e-11\n",
      "10000 DE-numinv-c  eps= 1e-12\n",
      "10000 DE-numinv-c  eps= 1e-13\n",
      "10000 DE-numinv-c  eps= 1e-14\n",
      "10000 DE-numinv-c  eps= 1e-15\n",
      "runtime = 1628.9594116210938 s\n",
      "*************************\n",
      "10000 DE-numinv-cn  eps= 0.001\n",
      "10000 DE-numinv-cn  eps= 0.0001\n",
      "10000 DE-numinv-cn  eps= 1e-05\n",
      "10000 DE-numinv-cn  eps= 1e-06\n",
      "10000 DE-numinv-cn  eps= 1e-07\n",
      "10000 DE-numinv-cn  eps= 1e-08\n",
      "10000 DE-numinv-cn  eps= 1e-09\n",
      "10000 DE-numinv-cn  eps= 1e-10\n",
      "10000 DE-numinv-cn  eps= 1e-11\n",
      "10000 DE-numinv-cn  eps= 1e-12\n",
      "10000 DE-numinv-cn  eps= 1e-13\n",
      "10000 DE-numinv-cn  eps= 1e-14\n",
      "10000 DE-numinv-cn  eps= 1e-15\n",
      "runtime = 1658.6304171085358 s\n",
      "*************************\n",
      "10000 DE-numin-n  eps= 0.001\n",
      "10000 DE-numin-n  eps= 0.0001\n",
      "10000 DE-numin-n  eps= 1e-05\n",
      "10000 DE-numin-n  eps= 1e-06\n",
      "10000 DE-numin-n  eps= 1e-07\n",
      "10000 DE-numin-n  eps= 1e-08\n",
      "10000 DE-numin-n  eps= 1e-09\n",
      "10000 DE-numin-n  eps= 1e-10\n",
      "10000 DE-numin-n  eps= 1e-11\n",
      "10000 DE-numin-n  eps= 1e-12\n",
      "10000 DE-numin-n  eps= 1e-13\n",
      "10000 DE-numin-n  eps= 1e-14\n",
      "10000 DE-numin-n  eps= 1e-15\n",
      "runtime = 1667.5746846199036 s\n",
      "*************************\n"
     ]
    }
   ],
   "source": [
    "# start time\n",
    "tic = time()\n",
    "points = dx[str(10**N)]\n",
    "for method, fun in methods.items():\n",
    "    for n in range(3, 16):\n",
    "        eps = 10**(-n)\n",
    "        rt = %timeit -r 3 -n 3 -oq [fun(xh, eps) for xh in points]\n",
    "        print(10**N, method, ' eps=', eps)\n",
    "        dm = [fun(xh, eps) for xh in points]\n",
    "        dp = dparis[str(10**N)]\n",
    "        ch_abs = abs_errs(dm,dp)\n",
    "        ch_rel = rel_errs(dm,dp)\n",
    "        benchmark.at[n,method] = [rt.average, rt.stdev, min(ch_abs), max(ch_abs), min(ch_rel), max(ch_rel)] #stdev\n",
    "    #end time\n",
    "    toc = time()-tic; \n",
    "    print('runtime =',toc,'s')\n",
    "    print(25*'*')"
   ]
  },
  {
   "cell_type": "markdown",
   "metadata": {},
   "source": [
    "# Results"
   ]
  },
  {
   "cell_type": "code",
   "execution_count": 27,
   "metadata": {
    "ExecuteTime": {
     "end_time": "2021-05-03T19:05:49.533474Z",
     "start_time": "2021-05-03T19:05:49.503529Z"
    }
   },
   "outputs": [
    {
     "data": {
      "text/html": [
       "<div>\n",
       "<style scoped>\n",
       "    .dataframe tbody tr th:only-of-type {\n",
       "        vertical-align: middle;\n",
       "    }\n",
       "\n",
       "    .dataframe tbody tr th {\n",
       "        vertical-align: top;\n",
       "    }\n",
       "\n",
       "    .dataframe thead th {\n",
       "        text-align: right;\n",
       "    }\n",
       "</style>\n",
       "<table border=\"1\" class=\"dataframe\">\n",
       "  <thead>\n",
       "    <tr style=\"text-align: right;\">\n",
       "      <th></th>\n",
       "      <th>err</th>\n",
       "      <th>DE-conv</th>\n",
       "      <th>DE-conv-n</th>\n",
       "      <th>DE-numinv-c</th>\n",
       "      <th>DE-numinv-cn</th>\n",
       "      <th>DE-numin-n</th>\n",
       "    </tr>\n",
       "  </thead>\n",
       "  <tbody>\n",
       "    <tr>\n",
       "      <th>3</th>\n",
       "      <td>1e-03</td>\n",
       "      <td>[2.4723068555555554, 0.004581274580558414, 0.0, 1.8637813098631995e-05, 0.0, 8.907895924431572e-06]</td>\n",
       "      <td>[0.03554568888887388, 0.0003299722483639317, 0.0, 1.8637813098631995e-05, 0.0, 8.907895924431572e-06]</td>\n",
       "      <td>[2.6360122888888657, 0.0014263573393429245, 2.3249355496357538e-09, 0.0005182375628612142, 1.5900514501258394e-09, 3.2178562040589453e+100]</td>\n",
       "      <td>[0.08469796666665591, 0.0005244938647026577, 2.324935757802571e-09, 0.0005182375628614209, 1.590051595711309e-09, 3.217856204084461e+100]</td>\n",
       "      <td>[0.028358833333363184, 0.0004901413182352493, 2.324934966768666e-09, 0.0005182375628613131, 1.5900513045403699e-09, 3.217856204260408e+100]</td>\n",
       "    </tr>\n",
       "    <tr>\n",
       "      <th>4</th>\n",
       "      <td>1e-04</td>\n",
       "      <td>[2.9674419888888885, 0.01843579161969193, 0.0, 6.789215198921283e-07, 0.0, 3.458136480944812e-07]</td>\n",
       "      <td>[0.04029371111112646, 0.00014158606944052543, 0.0, 6.789215198921283e-07, 0.0, 3.458136480944812e-07]</td>\n",
       "      <td>[3.299378788888879, 0.020123643745711153, 4.5335207810026645e-11, 5.3174944811567866e-05, 1.2040342844328036e-10, 6.892178121743892e+99]</td>\n",
       "      <td>[0.10451815555554983, 0.0005073677636998759, 4.533537434348034e-11, 5.317494481162151e-05, 1.2040363231405375e-10, 6.892178120364671e+99]</td>\n",
       "      <td>[0.0361216000000392, 0.0003783765330067685, 4.533479147639241e-11, 5.317494481121534e-05, 1.2040342844328036e-10, 6.892178120544513e+99]</td>\n",
       "    </tr>\n",
       "    <tr>\n",
       "      <th>5</th>\n",
       "      <td>1e-05</td>\n",
       "      <td>[3.552963177777779, 0.0507852889002499, 0.0, 1.0841544610507015e-05, 0.0, 5.33715310224259e-06]</td>\n",
       "      <td>[0.045994655555571425, 0.00015586131142137063, 0.0, 1.0841544610507015e-05, 0.0, 5.33715310224259e-06]</td>\n",
       "      <td>[3.9712027777777874, 0.03714380216414664, 3.6980640771844264e-11, 1.0843028461549054e-05, 1.2112536449180874e-11, 7.512144434976409e+98]</td>\n",
       "      <td>[0.12618655555555355, 0.0007909206666990755, 3.6980640771844264e-11, 1.0843028461660076e-05, 1.2112536449180874e-11, 7.512144426515123e+98]</td>\n",
       "      <td>[0.03928687777776455, 8.044377072607687e-05, 3.6981084861054114e-11, 1.0843028462437232e-05, 1.2112681904928225e-11, 7.512144435063122e+98]</td>\n",
       "    </tr>\n",
       "    <tr>\n",
       "      <th>6</th>\n",
       "      <td>1e-06</td>\n",
       "      <td>[2.8078413555555564, 0.003738734623563064, 0.0, 2.8781400707167393e-06, 0.0, 1.4368263844067562e-06]</td>\n",
       "      <td>[0.03848571111110585, 0.00038093703214546183, 0.0, 2.8781400707167393e-06, 0.0, 1.4368263844067562e-06]</td>\n",
       "      <td>[4.657731233333329, 0.008363871382365945, 1.7763568394002505e-14, 1.3161065099828608e-06, 7.071620019394573e-15, 1.0600128407803545e+98]</td>\n",
       "      <td>[0.1485227444444364, 0.0008218889396666174, 1.7319479184152442e-14, 1.316106510355627e-06, 6.894829518909709e-15, 1.0600128057638176e+98]</td>\n",
       "      <td>[0.04544850000002043, 0.00031423397628476524, 1.7763568394002505e-14, 1.3161065101310878e-06, 7.071620019394573e-15, 1.0600128300792585e+98]</td>\n",
       "    </tr>\n",
       "    <tr>\n",
       "      <th>7</th>\n",
       "      <td>1e-07</td>\n",
       "      <td>[3.2258445888888865, 0.05453281985298855, 0.0, 2.2171380642532768e-07, 0.0, 1.1999062331575288e-07]</td>\n",
       "      <td>[0.04143634444445373, 0.00011258005327948678, 0.0, 2.2171380664737228e-07, 0.0, 1.1999062331575288e-07]</td>\n",
       "      <td>[5.388092933333332, 0.03510643304393717, 1.1102230246251565e-14, 3.4094504464121655e-07, 3.9213473024565036e-15, 5.897054299755282e+96]</td>\n",
       "      <td>[0.1719534222222339, 0.000801735396152051, 1.199040866595169e-14, 3.4094504375303814e-07, 4.235055086653023e-15, 5.897047055377125e+96]</td>\n",
       "      <td>[0.051486888888878944, 0.00040379745228246073, 1.1546319456101628e-14, 3.409450433089489e-07, 4.0782011945547634e-15, 5.897050783005392e+96]</td>\n",
       "    </tr>\n",
       "    <tr>\n",
       "      <th>8</th>\n",
       "      <td>1e-08</td>\n",
       "      <td>[3.6184713888888873, 0.04781845471952669, 0.0, 5.786895806991765e-08, 0.0, 6.809795460693755e-08]</td>\n",
       "      <td>[0.04510608888887823, 0.0002217932309196526, 0.0, 5.786895851400686e-08, 0.0, 6.809795460693755e-08]</td>\n",
       "      <td>[6.1585371777777915, 0.010323198476843822, 2.1989354781482007e-14, 3.407683646372561e-08, 7.571570340886087e-14, 6.230818290157256e+95]</td>\n",
       "      <td>[0.1957697777777664, 0.0010771093531738943, 2.325917236589703e-14, 3.407683824008245e-08, 7.532237507946419e-14, 6.230779457409375e+95]</td>\n",
       "      <td>[0.060165144444428935, 0.0018983765384399801, 2.318284453295405e-14, 3.407683735190403e-08, 7.59123675735592e-14, 6.230829687605744e+95]</td>\n",
       "    </tr>\n",
       "    <tr>\n",
       "      <th>9</th>\n",
       "      <td>1e-09</td>\n",
       "      <td>[3.024341655555554, 0.006188797640203599, 0.0, 2.5923004631778213e-08, 0.0, 8.799332213859525e-08]</td>\n",
       "      <td>[0.04040171111110643, 0.0001667810548386677, 0.0, 2.5923004187689003e-08, 0.0, 8.799332213859525e-08]</td>\n",
       "      <td>[7.086401022222226, 0.02675461850503137, 4.399258735077183e-15, 2.8920315031655264e-09, 5.778047879829375e-15, 8.07836777558062e+94]</td>\n",
       "      <td>[0.22318487777776377, 0.0005663810033738633, 4.274358644806853e-15, 2.8920319472547362e-09, 5.158971321276228e-15, 8.077737916049827e+94]</td>\n",
       "      <td>[0.06608997777776596, 0.0002775542447355021, 4.3576253716537394e-15, 2.8920315031655264e-09, 4.952612468425179e-15, 8.077363871195814e+94]</td>\n",
       "    </tr>\n",
       "    <tr>\n",
       "      <th>10</th>\n",
       "      <td>1e-10</td>\n",
       "      <td>[3.3728690333333304, 0.008161943280911133, 0.0, 3.4290965622574276e-08, 0.0, 5.579163603931288e-08]</td>\n",
       "      <td>[0.043855844444452584, 0.0002791113760634459, 0.0, 3.4290965622574276e-08, 0.0, 5.579163577859428e-08]</td>\n",
       "      <td>[7.837792944444472, 0.043087126252241974, 2.220446049250313e-16, 2.5075852505551666e-10, 4.105273642257779e-16, 3.7561288704840997e+93]</td>\n",
       "      <td>[0.2477899333333274, 0.0011616672280958392, 0.0, 2.5075852505551666e-10, 0.0, 3.7539655148487697e+93]</td>\n",
       "      <td>[0.07284672222224092, 0.00035194582319496493, 0.0, 2.507571927878871e-10, 0.0, 3.761409436395234e+93]</td>\n",
       "    </tr>\n",
       "    <tr>\n",
       "      <th>11</th>\n",
       "      <td>1e-11</td>\n",
       "      <td>[3.7308370222222287, 0.021629541493344954, 0.0, 4.296098499168011e-08, 0.0, 7.222874976960803e-08]</td>\n",
       "      <td>[0.046816455555560625, 0.00038153226195201587, 0.0, 4.29609845475909e-08, 0.0, 7.222874963924873e-08]</td>\n",
       "      <td>[8.719718533333358, 0.022862272641084654, 1.9081958235744878e-17, 1.488809076022335e-10, 2.0895553167139583e-16, 2.100419095621174e+92]</td>\n",
       "      <td>[0.27447126666667526, 0.0007043725566288044, 4.9284777823037326e-17, 1.488809076022335e-10, 2.0895553167139583e-16, 2.1388219972264917e+92]</td>\n",
       "      <td>[0.08088014444446244, 0.0009577170240031258, 5.488010499217872e-17, 1.4888046351302364e-10, 2.0895553167139583e-16, 2.1072058535753142e+92]</td>\n",
       "    </tr>\n",
       "    <tr>\n",
       "      <th>12</th>\n",
       "      <td>1e-12</td>\n",
       "      <td>[4.058319199999997, 0.0034760394197123658, 0.0, 3.967280193251099e-08, 0.0, 1.0518729913653198e-07]</td>\n",
       "      <td>[0.05041130000000118, 0.00029542350891616334, 0.0, 3.967280193251099e-08, 0.0, 1.0518729890240662e-07]</td>\n",
       "      <td>[9.610789844444449, 0.014905635905475799, 0.0, 1.290256790298372e-11, 0.0, 1.1944701835320275e+91]</td>\n",
       "      <td>[0.3021189777777838, 0.0016294083946236015, 0.0, 1.290256790298372e-11, 0.0, 1.004307677837154e+91]</td>\n",
       "      <td>[0.08849862222223237, 0.0017134061840117676, 0.0, 1.290256790298372e-11, 0.0, 1.672622479509064e+91]</td>\n",
       "    </tr>\n",
       "    <tr>\n",
       "      <th>13</th>\n",
       "      <td>1e-13</td>\n",
       "      <td>[4.403638266666665, 0.013386915405973525, 0.0, 4.7259587354631094e-08, 0.0, 6.065935374794027e-08]</td>\n",
       "      <td>[0.054251955555552435, 0.0009194453216421658, 0.0, 4.7259586466452674e-08, 0.0, 6.065935387829958e-08]</td>\n",
       "      <td>[10.496127355555599, 0.03425214759778482, 0.0, 1.6672774272308288e-13, 0.0, 9.780737046728478e+90]</td>\n",
       "      <td>[0.3266150222222374, 0.0007068053833212012, 0.0, 1.66644475996236e-13, 0.0, 7.591377811993935e+90]</td>\n",
       "      <td>[0.09554318888889511, 0.0008181691078788029, 0.0, 1.6697754290362354e-13, 0.0, 9.386033951847204e+90]</td>\n",
       "    </tr>\n",
       "    <tr>\n",
       "      <th>14</th>\n",
       "      <td>1e-14</td>\n",
       "      <td>[7.273913577777781, 0.026007238688138437, 0.0, 3.228242517749891e-08, 0.0, 6.035528648435732e-08]</td>\n",
       "      <td>[0.0774732888888947, 8.996366482321686e-05, 0.0, 3.228242562158812e-08, 0.0, 6.035528631954525e-08]</td>\n",
       "      <td>[11.579399422222195, 0.1682786812015566, 0.0, 1.432187701766452e-14, 0.0, 1.1267084092632047e+91]</td>\n",
       "      <td>[0.35580048888891724, 0.0008149327126760278, 0.0, 1.419697692739419e-14, 0.0, 8.765029740312388e+90]</td>\n",
       "      <td>[0.10322879999999816, 0.000539343554336802, 0.0, 1.4224732503009818e-14, 0.0, 1.0586795578709116e+91]</td>\n",
       "    </tr>\n",
       "    <tr>\n",
       "      <th>15</th>\n",
       "      <td>1e-15</td>\n",
       "      <td>[23.696880022222235, 0.25377839832068627, 0.0, 4.139620202181504e-08, 0.0, 5.5751481059767987e-08]</td>\n",
       "      <td>[0.22019344444443809, 0.0011377944526672408, 0.0, 4.139620202181504e-08, 0.0, 5.5751481059767987e-08]</td>\n",
       "      <td>[12.396331988888909, 0.030500278538943333, 0.0, 3.1086244689504383e-15, 0.0, 1.1515993477369422e+91]</td>\n",
       "      <td>[0.38859104444443604, 0.00504101008779318, 0.0, 4.440892098500626e-15, 0.0, 9.106852467171606e+90]</td>\n",
       "      <td>[0.11104758888889894, 0.00030365864036977966, 0.0, 4.440892098500626e-15, 0.0, 7.200202611149659e+90]</td>\n",
       "    </tr>\n",
       "  </tbody>\n",
       "</table>\n",
       "</div>"
      ],
      "text/plain": [
       "      err  \\\n",
       "3   1e-03   \n",
       "4   1e-04   \n",
       "5   1e-05   \n",
       "6   1e-06   \n",
       "7   1e-07   \n",
       "8   1e-08   \n",
       "9   1e-09   \n",
       "10  1e-10   \n",
       "11  1e-11   \n",
       "12  1e-12   \n",
       "13  1e-13   \n",
       "14  1e-14   \n",
       "15  1e-15   \n",
       "\n",
       "                                                                                                 DE-conv  \\\n",
       "3    [2.4723068555555554, 0.004581274580558414, 0.0, 1.8637813098631995e-05, 0.0, 8.907895924431572e-06]   \n",
       "4      [2.9674419888888885, 0.01843579161969193, 0.0, 6.789215198921283e-07, 0.0, 3.458136480944812e-07]   \n",
       "5        [3.552963177777779, 0.0507852889002499, 0.0, 1.0841544610507015e-05, 0.0, 5.33715310224259e-06]   \n",
       "6   [2.8078413555555564, 0.003738734623563064, 0.0, 2.8781400707167393e-06, 0.0, 1.4368263844067562e-06]   \n",
       "7    [3.2258445888888865, 0.05453281985298855, 0.0, 2.2171380642532768e-07, 0.0, 1.1999062331575288e-07]   \n",
       "8      [3.6184713888888873, 0.04781845471952669, 0.0, 5.786895806991765e-08, 0.0, 6.809795460693755e-08]   \n",
       "9     [3.024341655555554, 0.006188797640203599, 0.0, 2.5923004631778213e-08, 0.0, 8.799332213859525e-08]   \n",
       "10   [3.3728690333333304, 0.008161943280911133, 0.0, 3.4290965622574276e-08, 0.0, 5.579163603931288e-08]   \n",
       "11    [3.7308370222222287, 0.021629541493344954, 0.0, 4.296098499168011e-08, 0.0, 7.222874976960803e-08]   \n",
       "12   [4.058319199999997, 0.0034760394197123658, 0.0, 3.967280193251099e-08, 0.0, 1.0518729913653198e-07]   \n",
       "13    [4.403638266666665, 0.013386915405973525, 0.0, 4.7259587354631094e-08, 0.0, 6.065935374794027e-08]   \n",
       "14     [7.273913577777781, 0.026007238688138437, 0.0, 3.228242517749891e-08, 0.0, 6.035528648435732e-08]   \n",
       "15    [23.696880022222235, 0.25377839832068627, 0.0, 4.139620202181504e-08, 0.0, 5.5751481059767987e-08]   \n",
       "\n",
       "                                                                                                  DE-conv-n  \\\n",
       "3     [0.03554568888887388, 0.0003299722483639317, 0.0, 1.8637813098631995e-05, 0.0, 8.907895924431572e-06]   \n",
       "4     [0.04029371111112646, 0.00014158606944052543, 0.0, 6.789215198921283e-07, 0.0, 3.458136480944812e-07]   \n",
       "5    [0.045994655555571425, 0.00015586131142137063, 0.0, 1.0841544610507015e-05, 0.0, 5.33715310224259e-06]   \n",
       "6   [0.03848571111110585, 0.00038093703214546183, 0.0, 2.8781400707167393e-06, 0.0, 1.4368263844067562e-06]   \n",
       "7   [0.04143634444445373, 0.00011258005327948678, 0.0, 2.2171380664737228e-07, 0.0, 1.1999062331575288e-07]   \n",
       "8      [0.04510608888887823, 0.0002217932309196526, 0.0, 5.786895851400686e-08, 0.0, 6.809795460693755e-08]   \n",
       "9     [0.04040171111110643, 0.0001667810548386677, 0.0, 2.5923004187689003e-08, 0.0, 8.799332213859525e-08]   \n",
       "10   [0.043855844444452584, 0.0002791113760634459, 0.0, 3.4290965622574276e-08, 0.0, 5.579163577859428e-08]   \n",
       "11    [0.046816455555560625, 0.00038153226195201587, 0.0, 4.29609845475909e-08, 0.0, 7.222874963924873e-08]   \n",
       "12   [0.05041130000000118, 0.00029542350891616334, 0.0, 3.967280193251099e-08, 0.0, 1.0518729890240662e-07]   \n",
       "13   [0.054251955555552435, 0.0009194453216421658, 0.0, 4.7259586466452674e-08, 0.0, 6.065935387829958e-08]   \n",
       "14      [0.0774732888888947, 8.996366482321686e-05, 0.0, 3.228242562158812e-08, 0.0, 6.035528631954525e-08]   \n",
       "15    [0.22019344444443809, 0.0011377944526672408, 0.0, 4.139620202181504e-08, 0.0, 5.5751481059767987e-08]   \n",
       "\n",
       "                                                                                                                                    DE-numinv-c  \\\n",
       "3   [2.6360122888888657, 0.0014263573393429245, 2.3249355496357538e-09, 0.0005182375628612142, 1.5900514501258394e-09, 3.2178562040589453e+100]   \n",
       "4      [3.299378788888879, 0.020123643745711153, 4.5335207810026645e-11, 5.3174944811567866e-05, 1.2040342844328036e-10, 6.892178121743892e+99]   \n",
       "5      [3.9712027777777874, 0.03714380216414664, 3.6980640771844264e-11, 1.0843028461549054e-05, 1.2112536449180874e-11, 7.512144434976409e+98]   \n",
       "6      [4.657731233333329, 0.008363871382365945, 1.7763568394002505e-14, 1.3161065099828608e-06, 7.071620019394573e-15, 1.0600128407803545e+98]   \n",
       "7       [5.388092933333332, 0.03510643304393717, 1.1102230246251565e-14, 3.4094504464121655e-07, 3.9213473024565036e-15, 5.897054299755282e+96]   \n",
       "8       [6.1585371777777915, 0.010323198476843822, 2.1989354781482007e-14, 3.407683646372561e-08, 7.571570340886087e-14, 6.230818290157256e+95]   \n",
       "9          [7.086401022222226, 0.02675461850503137, 4.399258735077183e-15, 2.8920315031655264e-09, 5.778047879829375e-15, 8.07836777558062e+94]   \n",
       "10      [7.837792944444472, 0.043087126252241974, 2.220446049250313e-16, 2.5075852505551666e-10, 4.105273642257779e-16, 3.7561288704840997e+93]   \n",
       "11      [8.719718533333358, 0.022862272641084654, 1.9081958235744878e-17, 1.488809076022335e-10, 2.0895553167139583e-16, 2.100419095621174e+92]   \n",
       "12                                           [9.610789844444449, 0.014905635905475799, 0.0, 1.290256790298372e-11, 0.0, 1.1944701835320275e+91]   \n",
       "13                                           [10.496127355555599, 0.03425214759778482, 0.0, 1.6672774272308288e-13, 0.0, 9.780737046728478e+90]   \n",
       "14                                            [11.579399422222195, 0.1682786812015566, 0.0, 1.432187701766452e-14, 0.0, 1.1267084092632047e+91]   \n",
       "15                                         [12.396331988888909, 0.030500278538943333, 0.0, 3.1086244689504383e-15, 0.0, 1.1515993477369422e+91]   \n",
       "\n",
       "                                                                                                                                   DE-numinv-cn  \\\n",
       "3     [0.08469796666665591, 0.0005244938647026577, 2.324935757802571e-09, 0.0005182375628614209, 1.590051595711309e-09, 3.217856204084461e+100]   \n",
       "4     [0.10451815555554983, 0.0005073677636998759, 4.533537434348034e-11, 5.317494481162151e-05, 1.2040363231405375e-10, 6.892178120364671e+99]   \n",
       "5   [0.12618655555555355, 0.0007909206666990755, 3.6980640771844264e-11, 1.0843028461660076e-05, 1.2112536449180874e-11, 7.512144426515123e+98]   \n",
       "6     [0.1485227444444364, 0.0008218889396666174, 1.7319479184152442e-14, 1.316106510355627e-06, 6.894829518909709e-15, 1.0600128057638176e+98]   \n",
       "7       [0.1719534222222339, 0.000801735396152051, 1.199040866595169e-14, 3.4094504375303814e-07, 4.235055086653023e-15, 5.897047055377125e+96]   \n",
       "8       [0.1957697777777664, 0.0010771093531738943, 2.325917236589703e-14, 3.407683824008245e-08, 7.532237507946419e-14, 6.230779457409375e+95]   \n",
       "9     [0.22318487777776377, 0.0005663810033738633, 4.274358644806853e-15, 2.8920319472547362e-09, 5.158971321276228e-15, 8.077737916049827e+94]   \n",
       "10                                        [0.2477899333333274, 0.0011616672280958392, 0.0, 2.5075852505551666e-10, 0.0, 3.7539655148487697e+93]   \n",
       "11  [0.27447126666667526, 0.0007043725566288044, 4.9284777823037326e-17, 1.488809076022335e-10, 2.0895553167139583e-16, 2.1388219972264917e+92]   \n",
       "12                                          [0.3021189777777838, 0.0016294083946236015, 0.0, 1.290256790298372e-11, 0.0, 1.004307677837154e+91]   \n",
       "13                                           [0.3266150222222374, 0.0007068053833212012, 0.0, 1.66644475996236e-13, 0.0, 7.591377811993935e+90]   \n",
       "14                                         [0.35580048888891724, 0.0008149327126760278, 0.0, 1.419697692739419e-14, 0.0, 8.765029740312388e+90]   \n",
       "15                                           [0.38859104444443604, 0.00504101008779318, 0.0, 4.440892098500626e-15, 0.0, 9.106852467171606e+90]   \n",
       "\n",
       "                                                                                                                                      DE-numin-n  \n",
       "3    [0.028358833333363184, 0.0004901413182352493, 2.324934966768666e-09, 0.0005182375628613131, 1.5900513045403699e-09, 3.217856204260408e+100]  \n",
       "4       [0.0361216000000392, 0.0003783765330067685, 4.533479147639241e-11, 5.317494481121534e-05, 1.2040342844328036e-10, 6.892178120544513e+99]  \n",
       "5    [0.03928687777776455, 8.044377072607687e-05, 3.6981084861054114e-11, 1.0843028462437232e-05, 1.2112681904928225e-11, 7.512144435063122e+98]  \n",
       "6   [0.04544850000002043, 0.00031423397628476524, 1.7763568394002505e-14, 1.3161065101310878e-06, 7.071620019394573e-15, 1.0600128300792585e+98]  \n",
       "7   [0.051486888888878944, 0.00040379745228246073, 1.1546319456101628e-14, 3.409450433089489e-07, 4.0782011945547634e-15, 5.897050783005392e+96]  \n",
       "8       [0.060165144444428935, 0.0018983765384399801, 2.318284453295405e-14, 3.407683735190403e-08, 7.59123675735592e-14, 6.230829687605744e+95]  \n",
       "9     [0.06608997777776596, 0.0002775542447355021, 4.3576253716537394e-15, 2.8920315031655264e-09, 4.952612468425179e-15, 8.077363871195814e+94]  \n",
       "10                                         [0.07284672222224092, 0.00035194582319496493, 0.0, 2.507571927878871e-10, 0.0, 3.761409436395234e+93]  \n",
       "11   [0.08088014444446244, 0.0009577170240031258, 5.488010499217872e-17, 1.4888046351302364e-10, 2.0895553167139583e-16, 2.1072058535753142e+92]  \n",
       "12                                          [0.08849862222223237, 0.0017134061840117676, 0.0, 1.290256790298372e-11, 0.0, 1.672622479509064e+91]  \n",
       "13                                         [0.09554318888889511, 0.0008181691078788029, 0.0, 1.6697754290362354e-13, 0.0, 9.386033951847204e+90]  \n",
       "14                                         [0.10322879999999816, 0.000539343554336802, 0.0, 1.4224732503009818e-14, 0.0, 1.0586795578709116e+91]  \n",
       "15                                         [0.11104758888889894, 0.00030365864036977966, 0.0, 4.440892098500626e-15, 0.0, 7.200202611149659e+90]  "
      ]
     },
     "metadata": {},
     "output_type": "display_data"
    }
   ],
   "source": [
    "scn = lambda series, prec: [np.format_float_scientific(item, precision=prec) for item in v(series)]\n",
    "benchres = benchmark\n",
    "show_allrowscols(benchres, fullcolwidth=True)"
   ]
  },
  {
   "cell_type": "code",
   "execution_count": 28,
   "metadata": {
    "ExecuteTime": {
     "end_time": "2021-05-03T19:05:49.564402Z",
     "start_time": "2021-05-03T19:05:49.534435Z"
    }
   },
   "outputs": [],
   "source": [
    "benchmark.to_excel('DEporovnanie.xlsx')"
   ]
  },
  {
   "cell_type": "markdown",
   "metadata": {},
   "source": [
    "## Run Times"
   ]
  },
  {
   "cell_type": "code",
   "execution_count": 29,
   "metadata": {
    "ExecuteTime": {
     "end_time": "2021-05-03T19:05:49.579349Z",
     "start_time": "2021-05-03T19:05:49.565355Z"
    }
   },
   "outputs": [
    {
     "data": {
      "text/html": [
       "<div>\n",
       "<style scoped>\n",
       "    .dataframe tbody tr th:only-of-type {\n",
       "        vertical-align: middle;\n",
       "    }\n",
       "\n",
       "    .dataframe tbody tr th {\n",
       "        vertical-align: top;\n",
       "    }\n",
       "\n",
       "    .dataframe thead th {\n",
       "        text-align: right;\n",
       "    }\n",
       "</style>\n",
       "<table border=\"1\" class=\"dataframe\">\n",
       "  <thead>\n",
       "    <tr style=\"text-align: right;\">\n",
       "      <th></th>\n",
       "      <th>DE-conv</th>\n",
       "      <th>DE-conv-n</th>\n",
       "      <th>DE-numinv-c</th>\n",
       "      <th>DE-numinv-cn</th>\n",
       "      <th>DE-numin-n</th>\n",
       "    </tr>\n",
       "  </thead>\n",
       "  <tbody>\n",
       "    <tr>\n",
       "      <th>3</th>\n",
       "      <td>0.000247</td>\n",
       "      <td>0.000004</td>\n",
       "      <td>0.000264</td>\n",
       "      <td>0.000008</td>\n",
       "      <td>0.000003</td>\n",
       "    </tr>\n",
       "    <tr>\n",
       "      <th>4</th>\n",
       "      <td>0.000297</td>\n",
       "      <td>0.000004</td>\n",
       "      <td>0.000330</td>\n",
       "      <td>0.000010</td>\n",
       "      <td>0.000004</td>\n",
       "    </tr>\n",
       "    <tr>\n",
       "      <th>5</th>\n",
       "      <td>0.000355</td>\n",
       "      <td>0.000005</td>\n",
       "      <td>0.000397</td>\n",
       "      <td>0.000013</td>\n",
       "      <td>0.000004</td>\n",
       "    </tr>\n",
       "    <tr>\n",
       "      <th>6</th>\n",
       "      <td>0.000281</td>\n",
       "      <td>0.000004</td>\n",
       "      <td>0.000466</td>\n",
       "      <td>0.000015</td>\n",
       "      <td>0.000005</td>\n",
       "    </tr>\n",
       "    <tr>\n",
       "      <th>7</th>\n",
       "      <td>0.000323</td>\n",
       "      <td>0.000004</td>\n",
       "      <td>0.000539</td>\n",
       "      <td>0.000017</td>\n",
       "      <td>0.000005</td>\n",
       "    </tr>\n",
       "    <tr>\n",
       "      <th>8</th>\n",
       "      <td>0.000362</td>\n",
       "      <td>0.000005</td>\n",
       "      <td>0.000616</td>\n",
       "      <td>0.000020</td>\n",
       "      <td>0.000006</td>\n",
       "    </tr>\n",
       "    <tr>\n",
       "      <th>9</th>\n",
       "      <td>0.000302</td>\n",
       "      <td>0.000004</td>\n",
       "      <td>0.000709</td>\n",
       "      <td>0.000022</td>\n",
       "      <td>0.000007</td>\n",
       "    </tr>\n",
       "    <tr>\n",
       "      <th>10</th>\n",
       "      <td>0.000337</td>\n",
       "      <td>0.000004</td>\n",
       "      <td>0.000784</td>\n",
       "      <td>0.000025</td>\n",
       "      <td>0.000007</td>\n",
       "    </tr>\n",
       "    <tr>\n",
       "      <th>11</th>\n",
       "      <td>0.000373</td>\n",
       "      <td>0.000005</td>\n",
       "      <td>0.000872</td>\n",
       "      <td>0.000027</td>\n",
       "      <td>0.000008</td>\n",
       "    </tr>\n",
       "    <tr>\n",
       "      <th>12</th>\n",
       "      <td>0.000406</td>\n",
       "      <td>0.000005</td>\n",
       "      <td>0.000961</td>\n",
       "      <td>0.000030</td>\n",
       "      <td>0.000009</td>\n",
       "    </tr>\n",
       "    <tr>\n",
       "      <th>13</th>\n",
       "      <td>0.000440</td>\n",
       "      <td>0.000005</td>\n",
       "      <td>0.001050</td>\n",
       "      <td>0.000033</td>\n",
       "      <td>0.000010</td>\n",
       "    </tr>\n",
       "    <tr>\n",
       "      <th>14</th>\n",
       "      <td>0.000727</td>\n",
       "      <td>0.000008</td>\n",
       "      <td>0.001158</td>\n",
       "      <td>0.000036</td>\n",
       "      <td>0.000010</td>\n",
       "    </tr>\n",
       "    <tr>\n",
       "      <th>15</th>\n",
       "      <td>0.002370</td>\n",
       "      <td>0.000022</td>\n",
       "      <td>0.001240</td>\n",
       "      <td>0.000039</td>\n",
       "      <td>0.000011</td>\n",
       "    </tr>\n",
       "  </tbody>\n",
       "</table>\n",
       "</div>"
      ],
      "text/plain": [
       "     DE-conv  DE-conv-n  DE-numinv-c  DE-numinv-cn  DE-numin-n\n",
       "3   0.000247   0.000004     0.000264      0.000008    0.000003\n",
       "4   0.000297   0.000004     0.000330      0.000010    0.000004\n",
       "5   0.000355   0.000005     0.000397      0.000013    0.000004\n",
       "6   0.000281   0.000004     0.000466      0.000015    0.000005\n",
       "7   0.000323   0.000004     0.000539      0.000017    0.000005\n",
       "8   0.000362   0.000005     0.000616      0.000020    0.000006\n",
       "9   0.000302   0.000004     0.000709      0.000022    0.000007\n",
       "10  0.000337   0.000004     0.000784      0.000025    0.000007\n",
       "11  0.000373   0.000005     0.000872      0.000027    0.000008\n",
       "12  0.000406   0.000005     0.000961      0.000030    0.000009\n",
       "13  0.000440   0.000005     0.001050      0.000033    0.000010\n",
       "14  0.000727   0.000008     0.001158      0.000036    0.000010\n",
       "15  0.002370   0.000022     0.001240      0.000039    0.000011"
      ]
     },
     "execution_count": 29,
     "metadata": {},
     "output_type": "execute_result"
    }
   ],
   "source": [
    "times = benchres.iloc[:,1:].applymap(lambda x: x[0]).div(10000)\n",
    "times"
   ]
  },
  {
   "cell_type": "code",
   "execution_count": 30,
   "metadata": {
    "ExecuteTime": {
     "end_time": "2021-05-03T19:05:49.595317Z",
     "start_time": "2021-05-03T19:05:49.580327Z"
    }
   },
   "outputs": [
    {
     "data": {
      "text/html": [
       "<div>\n",
       "<style scoped>\n",
       "    .dataframe tbody tr th:only-of-type {\n",
       "        vertical-align: middle;\n",
       "    }\n",
       "\n",
       "    .dataframe tbody tr th {\n",
       "        vertical-align: top;\n",
       "    }\n",
       "\n",
       "    .dataframe thead th {\n",
       "        text-align: right;\n",
       "    }\n",
       "</style>\n",
       "<table border=\"1\" class=\"dataframe\">\n",
       "  <thead>\n",
       "    <tr style=\"text-align: right;\">\n",
       "      <th></th>\n",
       "      <th>DE-conv</th>\n",
       "      <th>DE-conv-n</th>\n",
       "      <th>DE-numinv-c</th>\n",
       "      <th>DE-numinv-cn</th>\n",
       "      <th>DE-numin-n</th>\n",
       "    </tr>\n",
       "  </thead>\n",
       "  <tbody>\n",
       "    <tr>\n",
       "      <th>3</th>\n",
       "      <td>2.472307</td>\n",
       "      <td>0.035546</td>\n",
       "      <td>2.636012</td>\n",
       "      <td>0.084698</td>\n",
       "      <td>0.028359</td>\n",
       "    </tr>\n",
       "    <tr>\n",
       "      <th>4</th>\n",
       "      <td>2.967442</td>\n",
       "      <td>0.040294</td>\n",
       "      <td>3.299379</td>\n",
       "      <td>0.104518</td>\n",
       "      <td>0.036122</td>\n",
       "    </tr>\n",
       "    <tr>\n",
       "      <th>5</th>\n",
       "      <td>3.552963</td>\n",
       "      <td>0.045995</td>\n",
       "      <td>3.971203</td>\n",
       "      <td>0.126187</td>\n",
       "      <td>0.039287</td>\n",
       "    </tr>\n",
       "    <tr>\n",
       "      <th>6</th>\n",
       "      <td>2.807841</td>\n",
       "      <td>0.038486</td>\n",
       "      <td>4.657731</td>\n",
       "      <td>0.148523</td>\n",
       "      <td>0.045449</td>\n",
       "    </tr>\n",
       "    <tr>\n",
       "      <th>7</th>\n",
       "      <td>3.225845</td>\n",
       "      <td>0.041436</td>\n",
       "      <td>5.388093</td>\n",
       "      <td>0.171953</td>\n",
       "      <td>0.051487</td>\n",
       "    </tr>\n",
       "    <tr>\n",
       "      <th>8</th>\n",
       "      <td>3.618471</td>\n",
       "      <td>0.045106</td>\n",
       "      <td>6.158537</td>\n",
       "      <td>0.195770</td>\n",
       "      <td>0.060165</td>\n",
       "    </tr>\n",
       "    <tr>\n",
       "      <th>9</th>\n",
       "      <td>3.024342</td>\n",
       "      <td>0.040402</td>\n",
       "      <td>7.086401</td>\n",
       "      <td>0.223185</td>\n",
       "      <td>0.066090</td>\n",
       "    </tr>\n",
       "    <tr>\n",
       "      <th>10</th>\n",
       "      <td>3.372869</td>\n",
       "      <td>0.043856</td>\n",
       "      <td>7.837793</td>\n",
       "      <td>0.247790</td>\n",
       "      <td>0.072847</td>\n",
       "    </tr>\n",
       "    <tr>\n",
       "      <th>11</th>\n",
       "      <td>3.730837</td>\n",
       "      <td>0.046816</td>\n",
       "      <td>8.719719</td>\n",
       "      <td>0.274471</td>\n",
       "      <td>0.080880</td>\n",
       "    </tr>\n",
       "    <tr>\n",
       "      <th>12</th>\n",
       "      <td>4.058319</td>\n",
       "      <td>0.050411</td>\n",
       "      <td>9.610790</td>\n",
       "      <td>0.302119</td>\n",
       "      <td>0.088499</td>\n",
       "    </tr>\n",
       "    <tr>\n",
       "      <th>13</th>\n",
       "      <td>4.403638</td>\n",
       "      <td>0.054252</td>\n",
       "      <td>10.496127</td>\n",
       "      <td>0.326615</td>\n",
       "      <td>0.095543</td>\n",
       "    </tr>\n",
       "    <tr>\n",
       "      <th>14</th>\n",
       "      <td>7.273914</td>\n",
       "      <td>0.077473</td>\n",
       "      <td>11.579399</td>\n",
       "      <td>0.355800</td>\n",
       "      <td>0.103229</td>\n",
       "    </tr>\n",
       "    <tr>\n",
       "      <th>15</th>\n",
       "      <td>23.696880</td>\n",
       "      <td>0.220193</td>\n",
       "      <td>12.396332</td>\n",
       "      <td>0.388591</td>\n",
       "      <td>0.111048</td>\n",
       "    </tr>\n",
       "  </tbody>\n",
       "</table>\n",
       "</div>"
      ],
      "text/plain": [
       "      DE-conv  DE-conv-n  DE-numinv-c  DE-numinv-cn  DE-numin-n\n",
       "3    2.472307   0.035546     2.636012      0.084698    0.028359\n",
       "4    2.967442   0.040294     3.299379      0.104518    0.036122\n",
       "5    3.552963   0.045995     3.971203      0.126187    0.039287\n",
       "6    2.807841   0.038486     4.657731      0.148523    0.045449\n",
       "7    3.225845   0.041436     5.388093      0.171953    0.051487\n",
       "8    3.618471   0.045106     6.158537      0.195770    0.060165\n",
       "9    3.024342   0.040402     7.086401      0.223185    0.066090\n",
       "10   3.372869   0.043856     7.837793      0.247790    0.072847\n",
       "11   3.730837   0.046816     8.719719      0.274471    0.080880\n",
       "12   4.058319   0.050411     9.610790      0.302119    0.088499\n",
       "13   4.403638   0.054252    10.496127      0.326615    0.095543\n",
       "14   7.273914   0.077473    11.579399      0.355800    0.103229\n",
       "15  23.696880   0.220193    12.396332      0.388591    0.111048"
      ]
     },
     "execution_count": 30,
     "metadata": {},
     "output_type": "execute_result"
    }
   ],
   "source": [
    "times.mul(10000)"
   ]
  },
  {
   "cell_type": "code",
   "execution_count": 31,
   "metadata": {
    "ExecuteTime": {
     "end_time": "2021-05-03T19:05:49.611268Z",
     "start_time": "2021-05-03T19:05:49.596271Z"
    }
   },
   "outputs": [
    {
     "data": {
      "text/html": [
       "<div>\n",
       "<style scoped>\n",
       "    .dataframe tbody tr th:only-of-type {\n",
       "        vertical-align: middle;\n",
       "    }\n",
       "\n",
       "    .dataframe tbody tr th {\n",
       "        vertical-align: top;\n",
       "    }\n",
       "\n",
       "    .dataframe thead th {\n",
       "        text-align: right;\n",
       "    }\n",
       "</style>\n",
       "<table border=\"1\" class=\"dataframe\">\n",
       "  <thead>\n",
       "    <tr style=\"text-align: right;\">\n",
       "      <th></th>\n",
       "      <th>DE-conv</th>\n",
       "      <th>DE-conv-n</th>\n",
       "      <th>DE-numinv-c</th>\n",
       "      <th>DE-numinv-cn</th>\n",
       "      <th>DE-numin-n</th>\n",
       "    </tr>\n",
       "  </thead>\n",
       "  <tbody>\n",
       "    <tr>\n",
       "      <th>3</th>\n",
       "      <td>0.185304</td>\n",
       "      <td>0.928305</td>\n",
       "      <td>0.054110</td>\n",
       "      <td>0.619252</td>\n",
       "      <td>1.728355</td>\n",
       "    </tr>\n",
       "    <tr>\n",
       "      <th>4</th>\n",
       "      <td>0.621269</td>\n",
       "      <td>0.351385</td>\n",
       "      <td>0.609922</td>\n",
       "      <td>0.485435</td>\n",
       "      <td>1.047508</td>\n",
       "    </tr>\n",
       "    <tr>\n",
       "      <th>5</th>\n",
       "      <td>1.429378</td>\n",
       "      <td>0.338868</td>\n",
       "      <td>0.935329</td>\n",
       "      <td>0.626787</td>\n",
       "      <td>0.204760</td>\n",
       "    </tr>\n",
       "    <tr>\n",
       "      <th>6</th>\n",
       "      <td>0.133153</td>\n",
       "      <td>0.989814</td>\n",
       "      <td>0.179570</td>\n",
       "      <td>0.553376</td>\n",
       "      <td>0.691407</td>\n",
       "    </tr>\n",
       "    <tr>\n",
       "      <th>7</th>\n",
       "      <td>1.690497</td>\n",
       "      <td>0.271694</td>\n",
       "      <td>0.651556</td>\n",
       "      <td>0.466251</td>\n",
       "      <td>0.784272</td>\n",
       "    </tr>\n",
       "    <tr>\n",
       "      <th>8</th>\n",
       "      <td>1.321510</td>\n",
       "      <td>0.491715</td>\n",
       "      <td>0.167624</td>\n",
       "      <td>0.550192</td>\n",
       "      <td>3.155276</td>\n",
       "    </tr>\n",
       "    <tr>\n",
       "      <th>9</th>\n",
       "      <td>0.204633</td>\n",
       "      <td>0.412807</td>\n",
       "      <td>0.377549</td>\n",
       "      <td>0.253772</td>\n",
       "      <td>0.419964</td>\n",
       "    </tr>\n",
       "    <tr>\n",
       "      <th>10</th>\n",
       "      <td>0.241988</td>\n",
       "      <td>0.636429</td>\n",
       "      <td>0.549735</td>\n",
       "      <td>0.468811</td>\n",
       "      <td>0.483132</td>\n",
       "    </tr>\n",
       "    <tr>\n",
       "      <th>11</th>\n",
       "      <td>0.579750</td>\n",
       "      <td>0.814953</td>\n",
       "      <td>0.262190</td>\n",
       "      <td>0.256629</td>\n",
       "      <td>1.184119</td>\n",
       "    </tr>\n",
       "    <tr>\n",
       "      <th>12</th>\n",
       "      <td>0.085652</td>\n",
       "      <td>0.586026</td>\n",
       "      <td>0.155093</td>\n",
       "      <td>0.539327</td>\n",
       "      <td>1.936082</td>\n",
       "    </tr>\n",
       "    <tr>\n",
       "      <th>13</th>\n",
       "      <td>0.303997</td>\n",
       "      <td>1.694769</td>\n",
       "      <td>0.326331</td>\n",
       "      <td>0.216403</td>\n",
       "      <td>0.856334</td>\n",
       "    </tr>\n",
       "    <tr>\n",
       "      <th>14</th>\n",
       "      <td>0.357541</td>\n",
       "      <td>0.116122</td>\n",
       "      <td>1.453259</td>\n",
       "      <td>0.229042</td>\n",
       "      <td>0.522474</td>\n",
       "    </tr>\n",
       "    <tr>\n",
       "      <th>15</th>\n",
       "      <td>1.070936</td>\n",
       "      <td>0.516725</td>\n",
       "      <td>0.246043</td>\n",
       "      <td>1.297253</td>\n",
       "      <td>0.273449</td>\n",
       "    </tr>\n",
       "  </tbody>\n",
       "</table>\n",
       "</div>"
      ],
      "text/plain": [
       "     DE-conv  DE-conv-n  DE-numinv-c  DE-numinv-cn  DE-numin-n\n",
       "3   0.185304   0.928305     0.054110      0.619252    1.728355\n",
       "4   0.621269   0.351385     0.609922      0.485435    1.047508\n",
       "5   1.429378   0.338868     0.935329      0.626787    0.204760\n",
       "6   0.133153   0.989814     0.179570      0.553376    0.691407\n",
       "7   1.690497   0.271694     0.651556      0.466251    0.784272\n",
       "8   1.321510   0.491715     0.167624      0.550192    3.155276\n",
       "9   0.204633   0.412807     0.377549      0.253772    0.419964\n",
       "10  0.241988   0.636429     0.549735      0.468811    0.483132\n",
       "11  0.579750   0.814953     0.262190      0.256629    1.184119\n",
       "12  0.085652   0.586026     0.155093      0.539327    1.936082\n",
       "13  0.303997   1.694769     0.326331      0.216403    0.856334\n",
       "14  0.357541   0.116122     1.453259      0.229042    0.522474\n",
       "15  1.070936   0.516725     0.246043      1.297253    0.273449"
      ]
     },
     "execution_count": 31,
     "metadata": {},
     "output_type": "execute_result"
    }
   ],
   "source": [
    "delta = benchres.iloc[:,1:].applymap(lambda x: x[1]/x[0]).multiply(100)\n",
    "delta"
   ]
  },
  {
   "cell_type": "code",
   "execution_count": 32,
   "metadata": {
    "ExecuteTime": {
     "end_time": "2021-05-03T19:05:49.627189Z",
     "start_time": "2021-05-03T19:05:49.614224Z"
    }
   },
   "outputs": [
    {
     "data": {
      "text/plain": [
       "2.8358833333363185e-06"
      ]
     },
     "execution_count": 32,
     "metadata": {},
     "output_type": "execute_result"
    }
   ],
   "source": [
    "tmin = min(times.min())\n",
    "tmin"
   ]
  },
  {
   "cell_type": "code",
   "execution_count": 33,
   "metadata": {
    "ExecuteTime": {
     "end_time": "2021-05-03T19:05:49.643176Z",
     "start_time": "2021-05-03T19:05:49.628185Z"
    }
   },
   "outputs": [
    {
     "data": {
      "text/html": [
       "<div>\n",
       "<style scoped>\n",
       "    .dataframe tbody tr th:only-of-type {\n",
       "        vertical-align: middle;\n",
       "    }\n",
       "\n",
       "    .dataframe tbody tr th {\n",
       "        vertical-align: top;\n",
       "    }\n",
       "\n",
       "    .dataframe thead th {\n",
       "        text-align: right;\n",
       "    }\n",
       "</style>\n",
       "<table border=\"1\" class=\"dataframe\">\n",
       "  <thead>\n",
       "    <tr style=\"text-align: right;\">\n",
       "      <th></th>\n",
       "      <th>DE-conv</th>\n",
       "      <th>DE-conv-n</th>\n",
       "      <th>DE-numinv-c</th>\n",
       "      <th>DE-numinv-cn</th>\n",
       "      <th>DE-numin-n</th>\n",
       "    </tr>\n",
       "  </thead>\n",
       "  <tbody>\n",
       "    <tr>\n",
       "      <th>3</th>\n",
       "      <td>87.2</td>\n",
       "      <td>1.3</td>\n",
       "      <td>93.0</td>\n",
       "      <td>3.0</td>\n",
       "      <td>1.0</td>\n",
       "    </tr>\n",
       "    <tr>\n",
       "      <th>4</th>\n",
       "      <td>104.6</td>\n",
       "      <td>1.4</td>\n",
       "      <td>116.3</td>\n",
       "      <td>3.7</td>\n",
       "      <td>1.3</td>\n",
       "    </tr>\n",
       "    <tr>\n",
       "      <th>5</th>\n",
       "      <td>125.3</td>\n",
       "      <td>1.6</td>\n",
       "      <td>140.0</td>\n",
       "      <td>4.4</td>\n",
       "      <td>1.4</td>\n",
       "    </tr>\n",
       "    <tr>\n",
       "      <th>6</th>\n",
       "      <td>99.0</td>\n",
       "      <td>1.4</td>\n",
       "      <td>164.2</td>\n",
       "      <td>5.2</td>\n",
       "      <td>1.6</td>\n",
       "    </tr>\n",
       "    <tr>\n",
       "      <th>7</th>\n",
       "      <td>113.8</td>\n",
       "      <td>1.5</td>\n",
       "      <td>190.0</td>\n",
       "      <td>6.1</td>\n",
       "      <td>1.8</td>\n",
       "    </tr>\n",
       "    <tr>\n",
       "      <th>8</th>\n",
       "      <td>127.6</td>\n",
       "      <td>1.6</td>\n",
       "      <td>217.2</td>\n",
       "      <td>6.9</td>\n",
       "      <td>2.1</td>\n",
       "    </tr>\n",
       "    <tr>\n",
       "      <th>9</th>\n",
       "      <td>106.6</td>\n",
       "      <td>1.4</td>\n",
       "      <td>249.9</td>\n",
       "      <td>7.9</td>\n",
       "      <td>2.3</td>\n",
       "    </tr>\n",
       "    <tr>\n",
       "      <th>10</th>\n",
       "      <td>118.9</td>\n",
       "      <td>1.5</td>\n",
       "      <td>276.4</td>\n",
       "      <td>8.7</td>\n",
       "      <td>2.6</td>\n",
       "    </tr>\n",
       "    <tr>\n",
       "      <th>11</th>\n",
       "      <td>131.6</td>\n",
       "      <td>1.7</td>\n",
       "      <td>307.5</td>\n",
       "      <td>9.7</td>\n",
       "      <td>2.9</td>\n",
       "    </tr>\n",
       "    <tr>\n",
       "      <th>12</th>\n",
       "      <td>143.1</td>\n",
       "      <td>1.8</td>\n",
       "      <td>338.9</td>\n",
       "      <td>10.7</td>\n",
       "      <td>3.1</td>\n",
       "    </tr>\n",
       "    <tr>\n",
       "      <th>13</th>\n",
       "      <td>155.3</td>\n",
       "      <td>1.9</td>\n",
       "      <td>370.1</td>\n",
       "      <td>11.5</td>\n",
       "      <td>3.4</td>\n",
       "    </tr>\n",
       "    <tr>\n",
       "      <th>14</th>\n",
       "      <td>256.5</td>\n",
       "      <td>2.7</td>\n",
       "      <td>408.3</td>\n",
       "      <td>12.5</td>\n",
       "      <td>3.6</td>\n",
       "    </tr>\n",
       "    <tr>\n",
       "      <th>15</th>\n",
       "      <td>835.6</td>\n",
       "      <td>7.8</td>\n",
       "      <td>437.1</td>\n",
       "      <td>13.7</td>\n",
       "      <td>3.9</td>\n",
       "    </tr>\n",
       "  </tbody>\n",
       "</table>\n",
       "</div>"
      ],
      "text/plain": [
       "    DE-conv  DE-conv-n  DE-numinv-c  DE-numinv-cn  DE-numin-n\n",
       "3      87.2        1.3         93.0           3.0         1.0\n",
       "4     104.6        1.4        116.3           3.7         1.3\n",
       "5     125.3        1.6        140.0           4.4         1.4\n",
       "6      99.0        1.4        164.2           5.2         1.6\n",
       "7     113.8        1.5        190.0           6.1         1.8\n",
       "8     127.6        1.6        217.2           6.9         2.1\n",
       "9     106.6        1.4        249.9           7.9         2.3\n",
       "10    118.9        1.5        276.4           8.7         2.6\n",
       "11    131.6        1.7        307.5           9.7         2.9\n",
       "12    143.1        1.8        338.9          10.7         3.1\n",
       "13    155.3        1.9        370.1          11.5         3.4\n",
       "14    256.5        2.7        408.3          12.5         3.6\n",
       "15    835.6        7.8        437.1          13.7         3.9"
      ]
     },
     "execution_count": 33,
     "metadata": {},
     "output_type": "execute_result"
    }
   ],
   "source": [
    "Times = times.div(tmin)\n",
    "Times.round(1)"
   ]
  },
  {
   "cell_type": "code",
   "execution_count": 34,
   "metadata": {
    "ExecuteTime": {
     "end_time": "2021-05-03T19:05:49.659145Z",
     "start_time": "2021-05-03T19:05:49.644142Z"
    }
   },
   "outputs": [
    {
     "data": {
      "text/plain": [
       "0.0023696880022222233"
      ]
     },
     "execution_count": 34,
     "metadata": {},
     "output_type": "execute_result"
    }
   ],
   "source": [
    "tmax = max(times.max())\n",
    "tmax"
   ]
  },
  {
   "cell_type": "code",
   "execution_count": 35,
   "metadata": {
    "ExecuteTime": {
     "end_time": "2021-05-03T19:05:49.675101Z",
     "start_time": "2021-05-03T19:05:49.660099Z"
    }
   },
   "outputs": [
    {
     "data": {
      "text/html": [
       "<div>\n",
       "<style scoped>\n",
       "    .dataframe tbody tr th:only-of-type {\n",
       "        vertical-align: middle;\n",
       "    }\n",
       "\n",
       "    .dataframe tbody tr th {\n",
       "        vertical-align: top;\n",
       "    }\n",
       "\n",
       "    .dataframe thead th {\n",
       "        text-align: right;\n",
       "    }\n",
       "</style>\n",
       "<table border=\"1\" class=\"dataframe\">\n",
       "  <thead>\n",
       "    <tr style=\"text-align: right;\">\n",
       "      <th></th>\n",
       "      <th>3</th>\n",
       "      <th>4</th>\n",
       "      <th>5</th>\n",
       "      <th>6</th>\n",
       "      <th>7</th>\n",
       "      <th>8</th>\n",
       "      <th>9</th>\n",
       "      <th>10</th>\n",
       "      <th>11</th>\n",
       "      <th>12</th>\n",
       "      <th>13</th>\n",
       "      <th>14</th>\n",
       "      <th>15</th>\n",
       "    </tr>\n",
       "  </thead>\n",
       "  <tbody>\n",
       "    <tr>\n",
       "      <th>DE-conv</th>\n",
       "      <td>2.5e-04</td>\n",
       "      <td>3.e-04</td>\n",
       "      <td>3.6e-04</td>\n",
       "      <td>2.8e-04</td>\n",
       "      <td>3.2e-04</td>\n",
       "      <td>3.6e-04</td>\n",
       "      <td>3.0e-04</td>\n",
       "      <td>3.4e-04</td>\n",
       "      <td>3.7e-04</td>\n",
       "      <td>4.1e-04</td>\n",
       "      <td>4.4e-04</td>\n",
       "      <td>7.3e-04</td>\n",
       "      <td>2.4e-03</td>\n",
       "    </tr>\n",
       "    <tr>\n",
       "      <th>DE-conv-n</th>\n",
       "      <td>3.6e-06</td>\n",
       "      <td>4.0e-06</td>\n",
       "      <td>4.6e-06</td>\n",
       "      <td>3.8e-06</td>\n",
       "      <td>4.1e-06</td>\n",
       "      <td>4.5e-06</td>\n",
       "      <td>4.0e-06</td>\n",
       "      <td>4.4e-06</td>\n",
       "      <td>4.7e-06</td>\n",
       "      <td>5.0e-06</td>\n",
       "      <td>5.4e-06</td>\n",
       "      <td>7.7e-06</td>\n",
       "      <td>2.2e-05</td>\n",
       "    </tr>\n",
       "    <tr>\n",
       "      <th>DE-numinv-c</th>\n",
       "      <td>2.6e-04</td>\n",
       "      <td>3.3e-04</td>\n",
       "      <td>4.e-04</td>\n",
       "      <td>4.7e-04</td>\n",
       "      <td>5.4e-04</td>\n",
       "      <td>6.2e-04</td>\n",
       "      <td>7.1e-04</td>\n",
       "      <td>7.8e-04</td>\n",
       "      <td>8.7e-04</td>\n",
       "      <td>9.6e-04</td>\n",
       "      <td>1.0e-03</td>\n",
       "      <td>1.2e-03</td>\n",
       "      <td>1.2e-03</td>\n",
       "    </tr>\n",
       "    <tr>\n",
       "      <th>DE-numinv-cn</th>\n",
       "      <td>8.5e-06</td>\n",
       "      <td>1.0e-05</td>\n",
       "      <td>1.3e-05</td>\n",
       "      <td>1.5e-05</td>\n",
       "      <td>1.7e-05</td>\n",
       "      <td>2.e-05</td>\n",
       "      <td>2.2e-05</td>\n",
       "      <td>2.5e-05</td>\n",
       "      <td>2.7e-05</td>\n",
       "      <td>3.0e-05</td>\n",
       "      <td>3.3e-05</td>\n",
       "      <td>3.6e-05</td>\n",
       "      <td>3.9e-05</td>\n",
       "    </tr>\n",
       "    <tr>\n",
       "      <th>DE-numin-n</th>\n",
       "      <td>2.8e-06</td>\n",
       "      <td>3.6e-06</td>\n",
       "      <td>3.9e-06</td>\n",
       "      <td>4.5e-06</td>\n",
       "      <td>5.1e-06</td>\n",
       "      <td>6.0e-06</td>\n",
       "      <td>6.6e-06</td>\n",
       "      <td>7.3e-06</td>\n",
       "      <td>8.1e-06</td>\n",
       "      <td>8.8e-06</td>\n",
       "      <td>9.6e-06</td>\n",
       "      <td>1.0e-05</td>\n",
       "      <td>1.1e-05</td>\n",
       "    </tr>\n",
       "  </tbody>\n",
       "</table>\n",
       "</div>"
      ],
      "text/plain": [
       "                   3        4        5        6        7        8        9   \\\n",
       "DE-conv       2.5e-04   3.e-04  3.6e-04  2.8e-04  3.2e-04  3.6e-04  3.0e-04   \n",
       "DE-conv-n     3.6e-06  4.0e-06  4.6e-06  3.8e-06  4.1e-06  4.5e-06  4.0e-06   \n",
       "DE-numinv-c   2.6e-04  3.3e-04   4.e-04  4.7e-04  5.4e-04  6.2e-04  7.1e-04   \n",
       "DE-numinv-cn  8.5e-06  1.0e-05  1.3e-05  1.5e-05  1.7e-05   2.e-05  2.2e-05   \n",
       "DE-numin-n    2.8e-06  3.6e-06  3.9e-06  4.5e-06  5.1e-06  6.0e-06  6.6e-06   \n",
       "\n",
       "                   10       11       12       13       14       15  \n",
       "DE-conv       3.4e-04  3.7e-04  4.1e-04  4.4e-04  7.3e-04  2.4e-03  \n",
       "DE-conv-n     4.4e-06  4.7e-06  5.0e-06  5.4e-06  7.7e-06  2.2e-05  \n",
       "DE-numinv-c   7.8e-04  8.7e-04  9.6e-04  1.0e-03  1.2e-03  1.2e-03  \n",
       "DE-numinv-cn  2.5e-05  2.7e-05  3.0e-05  3.3e-05  3.6e-05  3.9e-05  \n",
       "DE-numin-n    7.3e-06  8.1e-06  8.8e-06  9.6e-06  1.0e-05  1.1e-05  "
      ]
     },
     "execution_count": 35,
     "metadata": {},
     "output_type": "execute_result"
    }
   ],
   "source": [
    "times.T.apply(lambda x: scn(x,1))"
   ]
  },
  {
   "cell_type": "code",
   "execution_count": 36,
   "metadata": {
    "ExecuteTime": {
     "end_time": "2021-05-03T19:05:49.691018Z",
     "start_time": "2021-05-03T19:05:49.676058Z"
    }
   },
   "outputs": [
    {
     "data": {
      "text/html": [
       "<div>\n",
       "<style scoped>\n",
       "    .dataframe tbody tr th:only-of-type {\n",
       "        vertical-align: middle;\n",
       "    }\n",
       "\n",
       "    .dataframe tbody tr th {\n",
       "        vertical-align: top;\n",
       "    }\n",
       "\n",
       "    .dataframe thead th {\n",
       "        text-align: right;\n",
       "    }\n",
       "</style>\n",
       "<table border=\"1\" class=\"dataframe\">\n",
       "  <thead>\n",
       "    <tr style=\"text-align: right;\">\n",
       "      <th></th>\n",
       "      <th>3</th>\n",
       "      <th>4</th>\n",
       "      <th>5</th>\n",
       "      <th>6</th>\n",
       "      <th>7</th>\n",
       "      <th>8</th>\n",
       "      <th>9</th>\n",
       "      <th>10</th>\n",
       "      <th>11</th>\n",
       "      <th>12</th>\n",
       "      <th>13</th>\n",
       "      <th>14</th>\n",
       "      <th>15</th>\n",
       "    </tr>\n",
       "  </thead>\n",
       "  <tbody>\n",
       "    <tr>\n",
       "      <th>DE-conv</th>\n",
       "      <td>87.2</td>\n",
       "      <td>104.6</td>\n",
       "      <td>125.3</td>\n",
       "      <td>99.0</td>\n",
       "      <td>113.8</td>\n",
       "      <td>127.6</td>\n",
       "      <td>106.6</td>\n",
       "      <td>118.9</td>\n",
       "      <td>131.6</td>\n",
       "      <td>143.1</td>\n",
       "      <td>155.3</td>\n",
       "      <td>256.5</td>\n",
       "      <td>835.6</td>\n",
       "    </tr>\n",
       "    <tr>\n",
       "      <th>DE-conv-n</th>\n",
       "      <td>1.3</td>\n",
       "      <td>1.4</td>\n",
       "      <td>1.6</td>\n",
       "      <td>1.4</td>\n",
       "      <td>1.5</td>\n",
       "      <td>1.6</td>\n",
       "      <td>1.4</td>\n",
       "      <td>1.5</td>\n",
       "      <td>1.7</td>\n",
       "      <td>1.8</td>\n",
       "      <td>1.9</td>\n",
       "      <td>2.7</td>\n",
       "      <td>7.8</td>\n",
       "    </tr>\n",
       "    <tr>\n",
       "      <th>DE-numinv-c</th>\n",
       "      <td>93.0</td>\n",
       "      <td>116.3</td>\n",
       "      <td>140.0</td>\n",
       "      <td>164.2</td>\n",
       "      <td>190.0</td>\n",
       "      <td>217.2</td>\n",
       "      <td>249.9</td>\n",
       "      <td>276.4</td>\n",
       "      <td>307.5</td>\n",
       "      <td>338.9</td>\n",
       "      <td>370.1</td>\n",
       "      <td>408.3</td>\n",
       "      <td>437.1</td>\n",
       "    </tr>\n",
       "    <tr>\n",
       "      <th>DE-numinv-cn</th>\n",
       "      <td>3.0</td>\n",
       "      <td>3.7</td>\n",
       "      <td>4.4</td>\n",
       "      <td>5.2</td>\n",
       "      <td>6.1</td>\n",
       "      <td>6.9</td>\n",
       "      <td>7.9</td>\n",
       "      <td>8.7</td>\n",
       "      <td>9.7</td>\n",
       "      <td>10.7</td>\n",
       "      <td>11.5</td>\n",
       "      <td>12.5</td>\n",
       "      <td>13.7</td>\n",
       "    </tr>\n",
       "    <tr>\n",
       "      <th>DE-numin-n</th>\n",
       "      <td>1.0</td>\n",
       "      <td>1.3</td>\n",
       "      <td>1.4</td>\n",
       "      <td>1.6</td>\n",
       "      <td>1.8</td>\n",
       "      <td>2.1</td>\n",
       "      <td>2.3</td>\n",
       "      <td>2.6</td>\n",
       "      <td>2.9</td>\n",
       "      <td>3.1</td>\n",
       "      <td>3.4</td>\n",
       "      <td>3.6</td>\n",
       "      <td>3.9</td>\n",
       "    </tr>\n",
       "  </tbody>\n",
       "</table>\n",
       "</div>"
      ],
      "text/plain": [
       "                3      4      5      6      7      8      9      10     11  \\\n",
       "DE-conv       87.2  104.6  125.3   99.0  113.8  127.6  106.6  118.9  131.6   \n",
       "DE-conv-n      1.3    1.4    1.6    1.4    1.5    1.6    1.4    1.5    1.7   \n",
       "DE-numinv-c   93.0  116.3  140.0  164.2  190.0  217.2  249.9  276.4  307.5   \n",
       "DE-numinv-cn   3.0    3.7    4.4    5.2    6.1    6.9    7.9    8.7    9.7   \n",
       "DE-numin-n     1.0    1.3    1.4    1.6    1.8    2.1    2.3    2.6    2.9   \n",
       "\n",
       "                 12     13     14     15  \n",
       "DE-conv       143.1  155.3  256.5  835.6  \n",
       "DE-conv-n       1.8    1.9    2.7    7.8  \n",
       "DE-numinv-c   338.9  370.1  408.3  437.1  \n",
       "DE-numinv-cn   10.7   11.5   12.5   13.7  \n",
       "DE-numin-n      3.1    3.4    3.6    3.9  "
      ]
     },
     "execution_count": 36,
     "metadata": {},
     "output_type": "execute_result"
    }
   ],
   "source": [
    "Times = times.div(tmin)\n",
    "Times.round(1).T"
   ]
  },
  {
   "cell_type": "code",
   "execution_count": 37,
   "metadata": {
    "ExecuteTime": {
     "end_time": "2021-05-03T19:05:49.706019Z",
     "start_time": "2021-05-03T19:05:49.692015Z"
    }
   },
   "outputs": [],
   "source": [
    "# testing numerical methods\n",
    "tWpy = 3.7066538833333325"
   ]
  },
  {
   "cell_type": "code",
   "execution_count": 38,
   "metadata": {
    "ExecuteTime": {
     "end_time": "2021-05-03T19:05:49.736935Z",
     "start_time": "2021-05-03T19:05:49.706975Z"
    }
   },
   "outputs": [
    {
     "data": {
      "text/html": [
       "<div>\n",
       "<style scoped>\n",
       "    .dataframe tbody tr th:only-of-type {\n",
       "        vertical-align: middle;\n",
       "    }\n",
       "\n",
       "    .dataframe tbody tr th {\n",
       "        vertical-align: top;\n",
       "    }\n",
       "\n",
       "    .dataframe thead th {\n",
       "        text-align: right;\n",
       "    }\n",
       "</style>\n",
       "<table border=\"1\" class=\"dataframe\">\n",
       "  <thead>\n",
       "    <tr style=\"text-align: right;\">\n",
       "      <th></th>\n",
       "      <th>3</th>\n",
       "      <th>4</th>\n",
       "      <th>5</th>\n",
       "      <th>6</th>\n",
       "      <th>7</th>\n",
       "      <th>8</th>\n",
       "      <th>9</th>\n",
       "      <th>10</th>\n",
       "      <th>11</th>\n",
       "      <th>12</th>\n",
       "      <th>13</th>\n",
       "      <th>14</th>\n",
       "      <th>15</th>\n",
       "    </tr>\n",
       "  </thead>\n",
       "  <tbody>\n",
       "    <tr>\n",
       "      <th>DE-conv</th>\n",
       "      <td>1.50</td>\n",
       "      <td>1.25</td>\n",
       "      <td>1.04</td>\n",
       "      <td>1.32</td>\n",
       "      <td>1.15</td>\n",
       "      <td>1.02</td>\n",
       "      <td>1.23</td>\n",
       "      <td>1.10</td>\n",
       "      <td>0.99</td>\n",
       "      <td>0.91</td>\n",
       "      <td>0.84</td>\n",
       "      <td>0.51</td>\n",
       "      <td>0.16</td>\n",
       "    </tr>\n",
       "    <tr>\n",
       "      <th>DE-conv-n</th>\n",
       "      <td>104.28</td>\n",
       "      <td>91.99</td>\n",
       "      <td>80.59</td>\n",
       "      <td>96.31</td>\n",
       "      <td>89.45</td>\n",
       "      <td>82.18</td>\n",
       "      <td>91.74</td>\n",
       "      <td>84.52</td>\n",
       "      <td>79.17</td>\n",
       "      <td>73.53</td>\n",
       "      <td>68.32</td>\n",
       "      <td>47.84</td>\n",
       "      <td>16.83</td>\n",
       "    </tr>\n",
       "    <tr>\n",
       "      <th>DE-numinv-c</th>\n",
       "      <td>1.41</td>\n",
       "      <td>1.12</td>\n",
       "      <td>0.93</td>\n",
       "      <td>0.80</td>\n",
       "      <td>0.69</td>\n",
       "      <td>0.60</td>\n",
       "      <td>0.52</td>\n",
       "      <td>0.47</td>\n",
       "      <td>0.43</td>\n",
       "      <td>0.39</td>\n",
       "      <td>0.35</td>\n",
       "      <td>0.32</td>\n",
       "      <td>0.30</td>\n",
       "    </tr>\n",
       "    <tr>\n",
       "      <th>DE-numinv-cn</th>\n",
       "      <td>43.76</td>\n",
       "      <td>35.46</td>\n",
       "      <td>29.37</td>\n",
       "      <td>24.96</td>\n",
       "      <td>21.56</td>\n",
       "      <td>18.93</td>\n",
       "      <td>16.61</td>\n",
       "      <td>14.96</td>\n",
       "      <td>13.50</td>\n",
       "      <td>12.27</td>\n",
       "      <td>11.35</td>\n",
       "      <td>10.42</td>\n",
       "      <td>9.54</td>\n",
       "    </tr>\n",
       "    <tr>\n",
       "      <th>DE-numin-n</th>\n",
       "      <td>130.71</td>\n",
       "      <td>102.62</td>\n",
       "      <td>94.35</td>\n",
       "      <td>81.56</td>\n",
       "      <td>71.99</td>\n",
       "      <td>61.61</td>\n",
       "      <td>56.08</td>\n",
       "      <td>50.88</td>\n",
       "      <td>45.83</td>\n",
       "      <td>41.88</td>\n",
       "      <td>38.80</td>\n",
       "      <td>35.91</td>\n",
       "      <td>33.38</td>\n",
       "    </tr>\n",
       "  </tbody>\n",
       "</table>\n",
       "</div>"
      ],
      "text/plain": [
       "                  3       4      5      6      7      8      9      10     11  \\\n",
       "DE-conv         1.50    1.25   1.04   1.32   1.15   1.02   1.23   1.10   0.99   \n",
       "DE-conv-n     104.28   91.99  80.59  96.31  89.45  82.18  91.74  84.52  79.17   \n",
       "DE-numinv-c     1.41    1.12   0.93   0.80   0.69   0.60   0.52   0.47   0.43   \n",
       "DE-numinv-cn   43.76   35.46  29.37  24.96  21.56  18.93  16.61  14.96  13.50   \n",
       "DE-numin-n    130.71  102.62  94.35  81.56  71.99  61.61  56.08  50.88  45.83   \n",
       "\n",
       "                 12     13     14     15  \n",
       "DE-conv        0.91   0.84   0.51   0.16  \n",
       "DE-conv-n     73.53  68.32  47.84  16.83  \n",
       "DE-numinv-c    0.39   0.35   0.32   0.30  \n",
       "DE-numinv-cn  12.27  11.35  10.42   9.54  \n",
       "DE-numin-n    41.88  38.80  35.91  33.38  "
      ]
     },
     "execution_count": 38,
     "metadata": {},
     "output_type": "execute_result"
    }
   ],
   "source": [
    "TimesF = times.div(tWpy).applymap(lambda x: 1/x).div(10000)\n",
    "TimesF[methods].T.round(2)"
   ]
  },
  {
   "cell_type": "markdown",
   "metadata": {},
   "source": [
    "## Errors"
   ]
  },
  {
   "cell_type": "code",
   "execution_count": 39,
   "metadata": {
    "ExecuteTime": {
     "end_time": "2021-05-03T19:05:49.752884Z",
     "start_time": "2021-05-03T19:05:49.737892Z"
    }
   },
   "outputs": [],
   "source": [
    "errsprint = benchres.iloc[:,1:].applymap(lambda x: scn(x[2:4], 0))"
   ]
  },
  {
   "cell_type": "code",
   "execution_count": 40,
   "metadata": {
    "ExecuteTime": {
     "end_time": "2021-05-03T19:05:49.783813Z",
     "start_time": "2021-05-03T19:05:49.753848Z"
    }
   },
   "outputs": [
    {
     "data": {
      "text/html": [
       "<div>\n",
       "<style scoped>\n",
       "    .dataframe tbody tr th:only-of-type {\n",
       "        vertical-align: middle;\n",
       "    }\n",
       "\n",
       "    .dataframe tbody tr th {\n",
       "        vertical-align: top;\n",
       "    }\n",
       "\n",
       "    .dataframe thead th {\n",
       "        text-align: right;\n",
       "    }\n",
       "</style>\n",
       "<table border=\"1\" class=\"dataframe\">\n",
       "  <thead>\n",
       "    <tr style=\"text-align: right;\">\n",
       "      <th></th>\n",
       "      <th>DE-conv</th>\n",
       "      <th>DE-conv-n</th>\n",
       "      <th>DE-numinv-c</th>\n",
       "      <th>DE-numinv-cn</th>\n",
       "      <th>DE-numin-n</th>\n",
       "    </tr>\n",
       "  </thead>\n",
       "  <tbody>\n",
       "    <tr>\n",
       "      <th>3</th>\n",
       "      <td>[0.e+00, 2.e-05]</td>\n",
       "      <td>[0.e+00, 2.e-05]</td>\n",
       "      <td>[2.e-09, 5.e-04]</td>\n",
       "      <td>[2.e-09, 5.e-04]</td>\n",
       "      <td>[2.e-09, 5.e-04]</td>\n",
       "    </tr>\n",
       "    <tr>\n",
       "      <th>4</th>\n",
       "      <td>[0.e+00, 7.e-07]</td>\n",
       "      <td>[0.e+00, 7.e-07]</td>\n",
       "      <td>[5.e-11, 5.e-05]</td>\n",
       "      <td>[5.e-11, 5.e-05]</td>\n",
       "      <td>[5.e-11, 5.e-05]</td>\n",
       "    </tr>\n",
       "    <tr>\n",
       "      <th>5</th>\n",
       "      <td>[0.e+00, 1.e-05]</td>\n",
       "      <td>[0.e+00, 1.e-05]</td>\n",
       "      <td>[4.e-11, 1.e-05]</td>\n",
       "      <td>[4.e-11, 1.e-05]</td>\n",
       "      <td>[4.e-11, 1.e-05]</td>\n",
       "    </tr>\n",
       "    <tr>\n",
       "      <th>6</th>\n",
       "      <td>[0.e+00, 3.e-06]</td>\n",
       "      <td>[0.e+00, 3.e-06]</td>\n",
       "      <td>[2.e-14, 1.e-06]</td>\n",
       "      <td>[2.e-14, 1.e-06]</td>\n",
       "      <td>[2.e-14, 1.e-06]</td>\n",
       "    </tr>\n",
       "    <tr>\n",
       "      <th>7</th>\n",
       "      <td>[0.e+00, 2.e-07]</td>\n",
       "      <td>[0.e+00, 2.e-07]</td>\n",
       "      <td>[1.e-14, 3.e-07]</td>\n",
       "      <td>[1.e-14, 3.e-07]</td>\n",
       "      <td>[1.e-14, 3.e-07]</td>\n",
       "    </tr>\n",
       "    <tr>\n",
       "      <th>8</th>\n",
       "      <td>[0.e+00, 6.e-08]</td>\n",
       "      <td>[0.e+00, 6.e-08]</td>\n",
       "      <td>[2.e-14, 3.e-08]</td>\n",
       "      <td>[2.e-14, 3.e-08]</td>\n",
       "      <td>[2.e-14, 3.e-08]</td>\n",
       "    </tr>\n",
       "    <tr>\n",
       "      <th>9</th>\n",
       "      <td>[0.e+00, 3.e-08]</td>\n",
       "      <td>[0.e+00, 3.e-08]</td>\n",
       "      <td>[4.e-15, 3.e-09]</td>\n",
       "      <td>[4.e-15, 3.e-09]</td>\n",
       "      <td>[4.e-15, 3.e-09]</td>\n",
       "    </tr>\n",
       "    <tr>\n",
       "      <th>10</th>\n",
       "      <td>[0.e+00, 3.e-08]</td>\n",
       "      <td>[0.e+00, 3.e-08]</td>\n",
       "      <td>[2.e-16, 3.e-10]</td>\n",
       "      <td>[0.e+00, 3.e-10]</td>\n",
       "      <td>[0.e+00, 3.e-10]</td>\n",
       "    </tr>\n",
       "    <tr>\n",
       "      <th>11</th>\n",
       "      <td>[0.e+00, 4.e-08]</td>\n",
       "      <td>[0.e+00, 4.e-08]</td>\n",
       "      <td>[2.e-17, 1.e-10]</td>\n",
       "      <td>[5.e-17, 1.e-10]</td>\n",
       "      <td>[5.e-17, 1.e-10]</td>\n",
       "    </tr>\n",
       "    <tr>\n",
       "      <th>12</th>\n",
       "      <td>[0.e+00, 4.e-08]</td>\n",
       "      <td>[0.e+00, 4.e-08]</td>\n",
       "      <td>[0.e+00, 1.e-11]</td>\n",
       "      <td>[0.e+00, 1.e-11]</td>\n",
       "      <td>[0.e+00, 1.e-11]</td>\n",
       "    </tr>\n",
       "    <tr>\n",
       "      <th>13</th>\n",
       "      <td>[0.e+00, 5.e-08]</td>\n",
       "      <td>[0.e+00, 5.e-08]</td>\n",
       "      <td>[0.e+00, 2.e-13]</td>\n",
       "      <td>[0.e+00, 2.e-13]</td>\n",
       "      <td>[0.e+00, 2.e-13]</td>\n",
       "    </tr>\n",
       "    <tr>\n",
       "      <th>14</th>\n",
       "      <td>[0.e+00, 3.e-08]</td>\n",
       "      <td>[0.e+00, 3.e-08]</td>\n",
       "      <td>[0.e+00, 1.e-14]</td>\n",
       "      <td>[0.e+00, 1.e-14]</td>\n",
       "      <td>[0.e+00, 1.e-14]</td>\n",
       "    </tr>\n",
       "    <tr>\n",
       "      <th>15</th>\n",
       "      <td>[0.e+00, 4.e-08]</td>\n",
       "      <td>[0.e+00, 4.e-08]</td>\n",
       "      <td>[0.e+00, 3.e-15]</td>\n",
       "      <td>[0.e+00, 4.e-15]</td>\n",
       "      <td>[0.e+00, 4.e-15]</td>\n",
       "    </tr>\n",
       "  </tbody>\n",
       "</table>\n",
       "</div>"
      ],
      "text/plain": [
       "             DE-conv         DE-conv-n       DE-numinv-c      DE-numinv-cn  \\\n",
       "3   [0.e+00, 2.e-05]  [0.e+00, 2.e-05]  [2.e-09, 5.e-04]  [2.e-09, 5.e-04]   \n",
       "4   [0.e+00, 7.e-07]  [0.e+00, 7.e-07]  [5.e-11, 5.e-05]  [5.e-11, 5.e-05]   \n",
       "5   [0.e+00, 1.e-05]  [0.e+00, 1.e-05]  [4.e-11, 1.e-05]  [4.e-11, 1.e-05]   \n",
       "6   [0.e+00, 3.e-06]  [0.e+00, 3.e-06]  [2.e-14, 1.e-06]  [2.e-14, 1.e-06]   \n",
       "7   [0.e+00, 2.e-07]  [0.e+00, 2.e-07]  [1.e-14, 3.e-07]  [1.e-14, 3.e-07]   \n",
       "8   [0.e+00, 6.e-08]  [0.e+00, 6.e-08]  [2.e-14, 3.e-08]  [2.e-14, 3.e-08]   \n",
       "9   [0.e+00, 3.e-08]  [0.e+00, 3.e-08]  [4.e-15, 3.e-09]  [4.e-15, 3.e-09]   \n",
       "10  [0.e+00, 3.e-08]  [0.e+00, 3.e-08]  [2.e-16, 3.e-10]  [0.e+00, 3.e-10]   \n",
       "11  [0.e+00, 4.e-08]  [0.e+00, 4.e-08]  [2.e-17, 1.e-10]  [5.e-17, 1.e-10]   \n",
       "12  [0.e+00, 4.e-08]  [0.e+00, 4.e-08]  [0.e+00, 1.e-11]  [0.e+00, 1.e-11]   \n",
       "13  [0.e+00, 5.e-08]  [0.e+00, 5.e-08]  [0.e+00, 2.e-13]  [0.e+00, 2.e-13]   \n",
       "14  [0.e+00, 3.e-08]  [0.e+00, 3.e-08]  [0.e+00, 1.e-14]  [0.e+00, 1.e-14]   \n",
       "15  [0.e+00, 4.e-08]  [0.e+00, 4.e-08]  [0.e+00, 3.e-15]  [0.e+00, 4.e-15]   \n",
       "\n",
       "          DE-numin-n  \n",
       "3   [2.e-09, 5.e-04]  \n",
       "4   [5.e-11, 5.e-05]  \n",
       "5   [4.e-11, 1.e-05]  \n",
       "6   [2.e-14, 1.e-06]  \n",
       "7   [1.e-14, 3.e-07]  \n",
       "8   [2.e-14, 3.e-08]  \n",
       "9   [4.e-15, 3.e-09]  \n",
       "10  [0.e+00, 3.e-10]  \n",
       "11  [5.e-17, 1.e-10]  \n",
       "12  [0.e+00, 1.e-11]  \n",
       "13  [0.e+00, 2.e-13]  \n",
       "14  [0.e+00, 1.e-14]  \n",
       "15  [0.e+00, 4.e-15]  "
      ]
     },
     "execution_count": 40,
     "metadata": {},
     "output_type": "execute_result"
    }
   ],
   "source": [
    "errsprint[methods]"
   ]
  },
  {
   "cell_type": "code",
   "execution_count": 41,
   "metadata": {
    "ExecuteTime": {
     "end_time": "2021-05-03T19:05:49.799752Z",
     "start_time": "2021-05-03T19:05:49.784767Z"
    }
   },
   "outputs": [
    {
     "data": {
      "text/html": [
       "<div>\n",
       "<style scoped>\n",
       "    .dataframe tbody tr th:only-of-type {\n",
       "        vertical-align: middle;\n",
       "    }\n",
       "\n",
       "    .dataframe tbody tr th {\n",
       "        vertical-align: top;\n",
       "    }\n",
       "\n",
       "    .dataframe thead th {\n",
       "        text-align: right;\n",
       "    }\n",
       "</style>\n",
       "<table border=\"1\" class=\"dataframe\">\n",
       "  <thead>\n",
       "    <tr style=\"text-align: right;\">\n",
       "      <th></th>\n",
       "      <th>DE-conv</th>\n",
       "      <th>DE-conv-n</th>\n",
       "      <th>DE-numinv-c</th>\n",
       "      <th>DE-numinv-cn</th>\n",
       "      <th>DE-numin-n</th>\n",
       "    </tr>\n",
       "  </thead>\n",
       "  <tbody>\n",
       "    <tr>\n",
       "      <th>3</th>\n",
       "      <td>1.863781e-05</td>\n",
       "      <td>1.863781e-05</td>\n",
       "      <td>5.182376e-04</td>\n",
       "      <td>5.182376e-04</td>\n",
       "      <td>5.182376e-04</td>\n",
       "    </tr>\n",
       "    <tr>\n",
       "      <th>4</th>\n",
       "      <td>6.789215e-07</td>\n",
       "      <td>6.789215e-07</td>\n",
       "      <td>5.317494e-05</td>\n",
       "      <td>5.317494e-05</td>\n",
       "      <td>5.317494e-05</td>\n",
       "    </tr>\n",
       "    <tr>\n",
       "      <th>5</th>\n",
       "      <td>1.084154e-05</td>\n",
       "      <td>1.084154e-05</td>\n",
       "      <td>1.084303e-05</td>\n",
       "      <td>1.084303e-05</td>\n",
       "      <td>1.084303e-05</td>\n",
       "    </tr>\n",
       "    <tr>\n",
       "      <th>6</th>\n",
       "      <td>2.878140e-06</td>\n",
       "      <td>2.878140e-06</td>\n",
       "      <td>1.316107e-06</td>\n",
       "      <td>1.316107e-06</td>\n",
       "      <td>1.316107e-06</td>\n",
       "    </tr>\n",
       "    <tr>\n",
       "      <th>7</th>\n",
       "      <td>2.217138e-07</td>\n",
       "      <td>2.217138e-07</td>\n",
       "      <td>3.409450e-07</td>\n",
       "      <td>3.409450e-07</td>\n",
       "      <td>3.409450e-07</td>\n",
       "    </tr>\n",
       "    <tr>\n",
       "      <th>8</th>\n",
       "      <td>5.786896e-08</td>\n",
       "      <td>5.786896e-08</td>\n",
       "      <td>3.407684e-08</td>\n",
       "      <td>3.407684e-08</td>\n",
       "      <td>3.407684e-08</td>\n",
       "    </tr>\n",
       "    <tr>\n",
       "      <th>9</th>\n",
       "      <td>2.592300e-08</td>\n",
       "      <td>2.592300e-08</td>\n",
       "      <td>2.892032e-09</td>\n",
       "      <td>2.892032e-09</td>\n",
       "      <td>2.892032e-09</td>\n",
       "    </tr>\n",
       "    <tr>\n",
       "      <th>10</th>\n",
       "      <td>3.429097e-08</td>\n",
       "      <td>3.429097e-08</td>\n",
       "      <td>2.507585e-10</td>\n",
       "      <td>2.507585e-10</td>\n",
       "      <td>2.507572e-10</td>\n",
       "    </tr>\n",
       "    <tr>\n",
       "      <th>11</th>\n",
       "      <td>4.296098e-08</td>\n",
       "      <td>4.296098e-08</td>\n",
       "      <td>1.488809e-10</td>\n",
       "      <td>1.488809e-10</td>\n",
       "      <td>1.488805e-10</td>\n",
       "    </tr>\n",
       "    <tr>\n",
       "      <th>12</th>\n",
       "      <td>3.967280e-08</td>\n",
       "      <td>3.967280e-08</td>\n",
       "      <td>1.290257e-11</td>\n",
       "      <td>1.290257e-11</td>\n",
       "      <td>1.290257e-11</td>\n",
       "    </tr>\n",
       "    <tr>\n",
       "      <th>13</th>\n",
       "      <td>4.725959e-08</td>\n",
       "      <td>4.725959e-08</td>\n",
       "      <td>1.667277e-13</td>\n",
       "      <td>1.666445e-13</td>\n",
       "      <td>1.669775e-13</td>\n",
       "    </tr>\n",
       "    <tr>\n",
       "      <th>14</th>\n",
       "      <td>3.228243e-08</td>\n",
       "      <td>3.228243e-08</td>\n",
       "      <td>1.432188e-14</td>\n",
       "      <td>1.419698e-14</td>\n",
       "      <td>1.422473e-14</td>\n",
       "    </tr>\n",
       "    <tr>\n",
       "      <th>15</th>\n",
       "      <td>4.139620e-08</td>\n",
       "      <td>4.139620e-08</td>\n",
       "      <td>3.108624e-15</td>\n",
       "      <td>4.440892e-15</td>\n",
       "      <td>4.440892e-15</td>\n",
       "    </tr>\n",
       "  </tbody>\n",
       "</table>\n",
       "</div>"
      ],
      "text/plain": [
       "         DE-conv     DE-conv-n   DE-numinv-c  DE-numinv-cn    DE-numin-n\n",
       "3   1.863781e-05  1.863781e-05  5.182376e-04  5.182376e-04  5.182376e-04\n",
       "4   6.789215e-07  6.789215e-07  5.317494e-05  5.317494e-05  5.317494e-05\n",
       "5   1.084154e-05  1.084154e-05  1.084303e-05  1.084303e-05  1.084303e-05\n",
       "6   2.878140e-06  2.878140e-06  1.316107e-06  1.316107e-06  1.316107e-06\n",
       "7   2.217138e-07  2.217138e-07  3.409450e-07  3.409450e-07  3.409450e-07\n",
       "8   5.786896e-08  5.786896e-08  3.407684e-08  3.407684e-08  3.407684e-08\n",
       "9   2.592300e-08  2.592300e-08  2.892032e-09  2.892032e-09  2.892032e-09\n",
       "10  3.429097e-08  3.429097e-08  2.507585e-10  2.507585e-10  2.507572e-10\n",
       "11  4.296098e-08  4.296098e-08  1.488809e-10  1.488809e-10  1.488805e-10\n",
       "12  3.967280e-08  3.967280e-08  1.290257e-11  1.290257e-11  1.290257e-11\n",
       "13  4.725959e-08  4.725959e-08  1.667277e-13  1.666445e-13  1.669775e-13\n",
       "14  3.228243e-08  3.228243e-08  1.432188e-14  1.419698e-14  1.422473e-14\n",
       "15  4.139620e-08  4.139620e-08  3.108624e-15  4.440892e-15  4.440892e-15"
      ]
     },
     "execution_count": 41,
     "metadata": {},
     "output_type": "execute_result"
    }
   ],
   "source": [
    "maxerrs = benchres.iloc[:,1:].applymap(lambda x:x[3])\n",
    "maxerrs"
   ]
  },
  {
   "cell_type": "markdown",
   "metadata": {},
   "source": [
    "# Plots"
   ]
  },
  {
   "cell_type": "code",
   "execution_count": 42,
   "metadata": {
    "ExecuteTime": {
     "end_time": "2021-05-03T19:05:49.815684Z",
     "start_time": "2021-05-03T19:05:49.800724Z"
    }
   },
   "outputs": [],
   "source": [
    "kwargs = [{'label':'DE conv. Python','marker':'o', 'markerfacecolor':'w'}, \n",
    "          {'label':'DE conv. Numba', 'marker':'s', 'markerfacecolor':'w' }, \n",
    "          {'label':'DE num.inv. Python $(\\mathcal{C})$', 'marker':'o'}, \n",
    "          {'label':'DE num.inv. Numba $(\\mathcal{C})$', 'marker':'v'}, \n",
    "          {'label':'DE num.inv. Numba $(\\mathcal{R})$', 'marker':'s'}]\n",
    "\n",
    "Label = {key:kwarg for key, kwarg in zip(methods.keys(), kwargs)}"
   ]
  },
  {
   "cell_type": "code",
   "execution_count": 43,
   "metadata": {
    "ExecuteTime": {
     "end_time": "2021-05-03T19:05:49.831219Z",
     "start_time": "2021-05-03T19:05:49.816682Z"
    }
   },
   "outputs": [
    {
     "data": {
      "text/plain": [
       "[('DE-numinv-c',\n",
       "  {'label': 'DE num.inv. Python $(\\\\mathcal{C})$', 'marker': 'o'}),\n",
       " ('DE-numinv-cn',\n",
       "  {'label': 'DE num.inv. Numba $(\\\\mathcal{C})$', 'marker': 'v'}),\n",
       " ('DE-numin-n',\n",
       "  {'label': 'DE num.inv. Numba $(\\\\mathcal{R})$', 'marker': 's'}),\n",
       " ('DE-conv',\n",
       "  {'label': 'DE conv. Python', 'marker': 'o', 'markerfacecolor': 'w'}),\n",
       " ('DE-conv-n',\n",
       "  {'label': 'DE conv. Numba', 'marker': 's', 'markerfacecolor': 'w'})]"
      ]
     },
     "execution_count": 43,
     "metadata": {},
     "output_type": "execute_result"
    }
   ],
   "source": [
    "K = list(Label.items())\n",
    "K[2:]+K[:2]"
   ]
  },
  {
   "cell_type": "code",
   "execution_count": 44,
   "metadata": {
    "ExecuteTime": {
     "end_time": "2021-05-03T19:05:50.664687Z",
     "start_time": "2021-05-03T19:05:49.832202Z"
    }
   },
   "outputs": [
    {
     "data": {
      "image/png": "[encoded data removed]",
      "text/plain": [
       "<Figure size 720x576 with 1 Axes>"
      ]
     },
     "metadata": {},
     "output_type": "display_data"
    }
   ],
   "source": [
    "from matplotlib.ticker import MultipleLocator\n",
    "\n",
    "plt.rcParams['font.size'] = '16'\n",
    "plt.rcParams['lines.markersize'] = '8'\n",
    "\n",
    "x = times.index\n",
    "\n",
    "fig, ax = plt.subplots(figsize=(10,8))\n",
    "for method, kwarg in Label.items():\n",
    "    ax.plot(x,times[method], markeredgewidth=1.5, **kwarg)\n",
    "ax.set_yscale('log')\n",
    "ax.set_ylim(1e-6, 0.2e-1)\n",
    "\n",
    "ax.set_xticks(range(3,16,2))\n",
    "ax.set_xticklabels(['$10^{-'+str(n)+'}$' for n in range(3,16,2)])\n",
    "#ax.set_yticklabels(['1e-'+str(n) for n in [6,5,4,]])\n",
    "ax.set_xlabel('passed relative-error parameter')\n",
    "ax.set_ylabel('runtime per one calculation (s)')\n",
    "\n",
    "\n",
    "leg = ax.legend(frameon=True)\n",
    "\n",
    "ax.minorticks_on()\n",
    "minorXlocator = MultipleLocator(1)\n",
    "ax.xaxis.set_minor_locator(minorXlocator)\n",
    "ax.grid(b=True, which='minor', axis='x', linestyle='-', alpha=0.3)\n",
    "\n",
    "plt.setp(ax.spines.values(), color='black');"
   ]
  },
  {
   "cell_type": "code",
   "execution_count": 45,
   "metadata": {
    "ExecuteTime": {
     "end_time": "2021-05-03T19:05:50.680647Z",
     "start_time": "2021-05-03T19:05:50.665638Z"
    }
   },
   "outputs": [
    {
     "data": {
      "text/plain": [
       "dict_keys(['DE-conv', 'DE-conv-n', 'DE-numinv-c', 'DE-numinv-cn', 'DE-numin-n'])"
      ]
     },
     "execution_count": 45,
     "metadata": {},
     "output_type": "execute_result"
    }
   ],
   "source": [
    "methods.keys()"
   ]
  },
  {
   "cell_type": "code",
   "execution_count": 46,
   "metadata": {
    "ExecuteTime": {
     "end_time": "2021-05-03T19:05:50.696556Z",
     "start_time": "2021-05-03T19:05:50.682596Z"
    }
   },
   "outputs": [],
   "source": [
    "ekwargs = [{'label':'DE conv. (Python, Numba)','marker':'o', 'markerfacecolor':'w'}, \n",
    "          {'label':'DE num.inv. (Python, Numba)', 'marker':'s'}]\n",
    "eLabel = {key:kwarg for key, kwarg in zip(['DE-conv','DE-numin-n'], ekwargs)}"
   ]
  },
  {
   "cell_type": "code",
   "execution_count": 49,
   "metadata": {
    "ExecuteTime": {
     "end_time": "2021-05-03T19:12:34.465826Z",
     "start_time": "2021-05-03T19:12:33.936883Z"
    }
   },
   "outputs": [
    {
     "data": {
      "image/png": "[encoded data removed]",
      "text/plain": [
       "<Figure size 720x432 with 1 Axes>"
      ]
     },
     "metadata": {},
     "output_type": "display_data"
    }
   ],
   "source": [
    "from matplotlib.ticker import MultipleLocator\n",
    "\n",
    "plt.rcParams['font.size'] = '16'\n",
    "plt.rcParams['lines.markersize'] = '8'\n",
    "\n",
    "x = times.index\n",
    "\n",
    "fig, ax = plt.subplots(figsize=(10,6))\n",
    "for method, kwarg in eLabel.items():\n",
    "    ax.plot(x,maxerrs[method], markeredgewidth=1.5, **kwarg)\n",
    "ax.set_yscale('log')\n",
    "ax.set_ylim(1e-15, 1e-3)\n",
    "\n",
    "ax.set_xticks(range(3,16,2))\n",
    "ax.set_xticklabels(['$10^{-'+str(n)+'}$' for n in range(3,16,2)])\n",
    "#ax.set_yticklabels(['1e-'+str(n) for n in [6,5,4,]])\n",
    "ax.set_xlabel('passed relative-error parameter')\n",
    "ax.set_ylabel('real maximum abs. error')\n",
    "\n",
    "\n",
    "leg = ax.legend(frameon=True)\n",
    "\n",
    "ax.minorticks_on()\n",
    "minorXlocator = MultipleLocator(1)\n",
    "ax.xaxis.set_minor_locator(minorXlocator)\n",
    "ax.grid(b=True, which='minor', axis='x', linestyle='-', alpha=0.3)\n",
    "\n",
    "plt.setp(ax.spines.values(), color='black');"
   ]
  },
  {
   "cell_type": "code",
   "execution_count": 48,
   "metadata": {
    "ExecuteTime": {
     "end_time": "2021-05-03T19:05:51.189292Z",
     "start_time": "2021-05-03T19:05:51.174300Z"
    }
   },
   "outputs": [],
   "source": [
    "# plot_kwargs = {'figsize':(10,7), 'fontsize':14}\n",
    "# fig = times.plot(logy=True, ylim = (1e-6, 1e-3),  **plot_kwargs);"
   ]
  },
  {
   "cell_type": "markdown",
   "metadata": {},
   "source": [
    "***\n",
    "<a id=references></a>\n",
    "# <font color=brown> References </font>\n",
    "This notebook belongs to supplementary materials of the paper submitted to Journal of Statistical Computation and\n",
    "Simulation and available at  <https://arxiv.org/abs/2105.04427>.\n",
    "* Hančová, M., Gajdoš, A., Hanč, J. (2021). A practical, effective calculation of gamma difference distributions with open data science tools. arXiv:2105.04427 [cs, math, stat], https://arxiv.org/abs/2105.04427\n",
    "\n",
    "### Abstract of the paper\n",
    "\n",
    "At present, there is still no officially accepted and extensively verified implementation of computing the gamma difference distribution allowing unequal shape parameters. We explore four computational ways of the gamma difference distribution with the different shape parameters resulting from time series kriging, a forecasting approach based on the best linear unbiased prediction, and linear mixed models. The results of our numerical study, with emphasis on using open data science tools, demonstrate that our open tool implemented in high-performance Python(with Numba) is exponentially fast, highly accurate, and very reliable. It combines numerical inversion of the characteristic function and the trapezoidal rule with the double exponential oscillatory transformation (DE quadrature). At the double 53-bit precision, our tool outperformed the speed of the analytical computation based on Tricomi's $U(a, b, z)$ function in CAS software (commercial Mathematica, open SageMath) by 1.5-2 orders. At the precision of scientific numerical computational tools, it exceeded open SciPy, NumPy, and commercial MATLAB 5-10 times. The potential future application of our tool for a mixture of characteristic functions could open new possibilities for fast data analysis based on exact probability distributions in areas like multidimensional statistics, measurement uncertainty analysis in metrology as well as in financial mathematics and risk analysis. "
   ]
  }
 ],
 "metadata": {
  "kernelspec": {
   "display_name": "Python 3",
   "language": "python",
   "name": "python3"
  },
  "language_info": {
   "codemirror_mode": {
    "name": "ipython",
    "version": 3
   },
   "file_extension": ".py",
   "mimetype": "text/x-python",
   "name": "python",
   "nbconvert_exporter": "python",
   "pygments_lexer": "ipython3",
   "version": "3.8.8"
  },
  "toc": {
   "base_numbering": 1,
   "nav_menu": {},
   "number_sections": true,
   "sideBar": true,
   "skip_h1_title": false,
   "title_cell": "Table of Contents",
   "title_sidebar": "Contents",
   "toc_cell": false,
   "toc_position": {
    "height": "calc(100% - 180px)",
    "left": "10px",
    "top": "150px",
    "width": "245.091px"
   },
   "toc_section_display": true,
   "toc_window_display": true
  },
  "varInspector": {
   "cols": {
    "lenName": 16,
    "lenType": 16,
    "lenVar": 40
   },
   "kernels_config": {
    "python": {
     "delete_cmd_postfix": "",
     "delete_cmd_prefix": "del ",
     "library": "var_list.py",
     "varRefreshCmd": "print(var_dic_list())"
    },
    "r": {
     "delete_cmd_postfix": ") ",
     "delete_cmd_prefix": "rm(",
     "library": "var_list.r",
     "varRefreshCmd": "cat(var_dic_list()) "
    }
   },
   "types_to_exclude": [
    "module",
    "function",
    "builtin_function_or_method",
    "instance",
    "_Feature"
   ],
   "window_display": false
  }
 },
 "nbformat": 4,
 "nbformat_minor": 2
}
