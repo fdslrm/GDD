{
 "cells": [
  {
   "cell_type": "markdown",
   "metadata": {},
   "source": [
    "**Authors:** Jozef Hanč, Martina Hančová  <br> *[Faculty of Science](https://www.upjs.sk/en/faculty-of-science/?prefferedLang=EN), P. J. Šafárik University in Košice, Slovakia* <br> emails: [martina.hancova@upjs.sk](mailto:martina.hancova@upjs.sk)\n",
    "***\n",
    "\n",
    "# <font color = brown, size=6> Cross-checking $\\mathcal{GDD}$ pdf values (Arb)</font>\n",
    "\n",
    "<font size=4> Computational tools - arbitrary-precision C libary: </font>  **<font size=4>Arb</font>**  "
   ]
  },
  {
   "cell_type": "markdown",
   "metadata": {},
   "source": [
    "**Arb in Sage**\n",
    "https://doc.sagemath.org/html/en/reference/rings_numerical/sage/rings/complex_arb.html"
   ]
  },
  {
   "cell_type": "code",
   "execution_count": 1,
   "metadata": {
    "ExecuteTime": {
     "end_time": "2021-04-25T19:50:12.157936Z",
     "start_time": "2021-04-25T19:50:11.968581Z"
    }
   },
   "outputs": [
    {
     "data": {
      "text/plain": [
       "('1.5.2', '1.19.1')"
      ]
     },
     "execution_count": 1,
     "metadata": {},
     "output_type": "execute_result"
    }
   ],
   "source": [
    "# python libraries\n",
    "import numpy as np\n",
    "from numpy import inf as INF, array as v\n",
    "import platform as pt\n",
    "import pandas as pd\n",
    "import matplotlib.pyplot as plt\n",
    "plt.style.use('seaborn-whitegrid')\n",
    "\n",
    "from time import time\n",
    "import math, cmath\n",
    "import scipy\n",
    "scipy.__version__, np.__version__"
   ]
  },
  {
   "cell_type": "markdown",
   "metadata": {},
   "source": [
    "## Python procedures and functions"
   ]
  },
  {
   "cell_type": "code",
   "execution_count": 2,
   "metadata": {},
   "outputs": [],
   "source": [
    "# accuracy commands\n",
    "def abs_errs(df1, df2):\n",
    "    N = len(df1)\n",
    "    errors = [abs(df1[i]-df2[i]) for i in range(N)]\n",
    "    return errors\n",
    "\n",
    "def accuracy(df1, df2):\n",
    "    return max(abs_errs(df1,df2))"
   ]
  },
  {
   "cell_type": "code",
   "execution_count": 3,
   "metadata": {},
   "outputs": [],
   "source": [
    "# approximate formulas for precisions expressed in bits and decimal places\n",
    "bits = lambda d:round((d+1)*ln(10)/ln(2)) \n",
    "dps = lambda b:round(b*ln(2)/ln(10) - 1)"
   ]
  },
  {
   "cell_type": "code",
   "execution_count": 4,
   "metadata": {},
   "outputs": [
    {
     "data": {
      "text/plain": [
       "200"
      ]
     },
     "execution_count": 4,
     "metadata": {},
     "output_type": "execute_result"
    }
   ],
   "source": [
    "# 668 bits precision in decimal places\n",
    "dps(668)"
   ]
  },
  {
   "cell_type": "code",
   "execution_count": 5,
   "metadata": {},
   "outputs": [],
   "source": [
    "# Arb numbers and functions\n",
    "prec = 668\n",
    "Arb = ComplexBallField(prec)\n",
    "\n",
    "R_Arb = lambda z: Arb(z,0)\n",
    "U_Arb = lambda a,b,z: Arb(z,0).hypergeometric_U(a,b)\n",
    "e_Arb = lambda z: Arb(z,0).exp()\n",
    "G_Arb = lambda z: Arb(z,0).gamma()\n",
    "erf_Arb = lambda z: Arb(z,0).erf()"
   ]
  },
  {
   "cell_type": "code",
   "execution_count": 7,
   "metadata": {},
   "outputs": [],
   "source": [
    "RRf = RealField(prec)"
   ]
  },
  {
   "cell_type": "markdown",
   "metadata": {},
   "source": [
    "## Defining $f(z)$"
   ]
  },
  {
   "cell_type": "markdown",
   "metadata": {},
   "source": [
    "$\n",
    "f(z)=\n",
    "\\dfrac{\\beta_{1}^{\\alpha_{1}} \\beta_{2}^{\\alpha_{2}}}{\\beta^{\\alpha-1}}\n",
    "\\begin{cases}\n",
    "{\\dfrac{e^{z \\beta_{2}}}{\\Gamma\\left(\\alpha_{2}\\right)} U\\left(1-\\alpha_{2}, 2-\\alpha,-z \\beta\\right),} & {z<0} \\\\[12pt]\n",
    "\\begin{array}{cc} \n",
    "\\frac{\\Gamma(\\alpha-1)}{\\beta^{a / 2-1} \\Gamma\\left(\\alpha_{1}\\right) \\Gamma\\left(\\alpha_{2}\\right)}, & \\scriptstyle 1<\\alpha \\\\ \n",
    "\\infty,  & \\scriptstyle 0<\\alpha \\leq 1 \n",
    "\\end{array}, & z=0 \\\\[12pt] \n",
    "{\\dfrac{e^{-z \\beta_{1}}}{\\Gamma\\left(\\alpha_{1}\\right)} U\\left(1-\\alpha_{1}, 2-\\alpha, z \\beta\\right),} & {z>0}\n",
    "\\end{cases}\n",
    "$\n",
    "\n",
    "\n",
    "$\\alpha=\\alpha_{1}+\\alpha_{2}, \\quad \\beta=\\beta_{1}+\\beta_{2}$"
   ]
  },
  {
   "cell_type": "code",
   "execution_count": 8,
   "metadata": {},
   "outputs": [],
   "source": [
    "# parameters\n",
    "a1, b1 = R_Arb(1/2), R_Arb(1)\n",
    "a2, b2 = R_Arb(17/2), R_Arb(93)"
   ]
  },
  {
   "cell_type": "code",
   "execution_count": 9,
   "metadata": {},
   "outputs": [],
   "source": [
    "a, b = a1+a2, b1+b2\n",
    "c = b1^a1*b2^a2/b^(a-1)\n",
    "cp, cm = c/G_Arb(a1), c/G_Arb(a2)"
   ]
  },
  {
   "cell_type": "code",
   "execution_count": 10,
   "metadata": {},
   "outputs": [],
   "source": [
    "# defining f(z)\n",
    "fm = lambda z: cm*e_Arb( R_Arb(z)*b2)*U_Arb(1-a2,2-a,-b*R_Arb(z))\n",
    "f0 = c*G_Arb(a-1)/(G_Arb(a1)*G_Arb(a2))\n",
    "fp = lambda z: cp*e_Arb(-R_Arb(z)*b1)*U_Arb(1-a1,2-a, b*R_Arb(z))\n",
    "\n",
    "f  = lambda z: fp(z) if z > 0 else fm(z) if z < 0 else f0"
   ]
  },
  {
   "cell_type": "code",
   "execution_count": 11,
   "metadata": {},
   "outputs": [
    {
     "data": {
      "text/plain": [
       "[0.0482250429701290776115038844756988061333201564362886719369287862297731253154395847360022755351782246659 +/- 6.78e-104]"
      ]
     },
     "execution_count": 11,
     "metadata": {},
     "output_type": "execute_result"
    }
   ],
   "source": [
    "f(2)"
   ]
  },
  {
   "cell_type": "code",
   "execution_count": 12,
   "metadata": {},
   "outputs": [
    {
     "data": {
      "text/plain": [
       "1.4139811e-103"
      ]
     },
     "execution_count": 12,
     "metadata": {},
     "output_type": "execute_result"
    }
   ],
   "source": [
    "f(2).diameter()"
   ]
  },
  {
   "cell_type": "code",
   "execution_count": 13,
   "metadata": {},
   "outputs": [
    {
     "data": {
      "text/plain": [
       "0.048225042970129077611503884475698806133320156436288671936928786229773125315439584736002275535178224665867607537204775353015360870114578360692376004555018200333880096312352968300441534558594470212189881"
      ]
     },
     "execution_count": 13,
     "metadata": {},
     "output_type": "execute_result"
    }
   ],
   "source": [
    "f(2).mid()"
   ]
  },
  {
   "cell_type": "markdown",
   "metadata": {},
   "source": [
    "# Cross-checking PARI values"
   ]
  },
  {
   "cell_type": "code",
   "execution_count": 14,
   "metadata": {},
   "outputs": [],
   "source": [
    "# pdf quadruple precision values\n",
    "N = 5\n",
    "dparipdf = {str(10**(n+1)):np.loadtxt('Pari_Sage_pdf'+str(10**(n+1))+'.txt', delimiter=',', \n",
    "                                      dtype=np.longdouble) for n in range(N)}"
   ]
  },
  {
   "cell_type": "code",
   "execution_count": 15,
   "metadata": {},
   "outputs": [
    {
     "data": {
      "text/plain": [
       "array([1.03379229e-106, 2.83772520e-076, 2.93861976e-046, 2.39164468e-017,\n",
       "       1.03565906e+000, 2.14093530e-001, 7.34128746e-002, 2.80789597e-002,\n",
       "       1.12843517e-002, 4.66541759e-003], dtype=float128)"
      ]
     },
     "execution_count": 15,
     "metadata": {},
     "output_type": "execute_result"
    }
   ],
   "source": [
    "dparipdf['10']"
   ]
  },
  {
   "cell_type": "code",
   "execution_count": 16,
   "metadata": {},
   "outputs": [
    {
     "name": "stdout",
     "output_type": "stream",
     "text": [
      "10^1  runtime = 0.025335073471069336 s\n",
      "10^2  runtime = 0.22606682777404785 s\n",
      "10^3  runtime = 2.196476697921753 s\n",
      "10^4  runtime = 22.11991548538208 s\n",
      "10^5  runtime = 219.86930203437805 s\n"
     ]
    }
   ],
   "source": [
    "darb = dict()\n",
    "for n in [1..N]:\n",
    "    tic = time()\n",
    "    \n",
    "    points = [-3+7/(10^n-1)*(i-1) for i in [1..10^n]]\n",
    "    darb[str(10^n)] = [f(val) for val in points]\n",
    "    \n",
    "    toc = time()-tic; \n",
    "    print('10^'+str(n),' runtime =',toc,'s')"
   ]
  },
  {
   "cell_type": "code",
   "execution_count": 17,
   "metadata": {},
   "outputs": [],
   "source": [
    "darbpdf = {str(10^n): [item.mid() for item in darb[str(10^n)]] for n in [1..N]}\n",
    "darbpdferrs = {str(10^n): max([item.diameter() for item in darb[str(10^n)]]) for n in [1..N]}"
   ]
  },
  {
   "cell_type": "code",
   "execution_count": 18,
   "metadata": {},
   "outputs": [
    {
     "data": {
      "text/plain": [
       "{'10': 2.0358705e-20,\n",
       " '100': 2.0358705e-20,\n",
       " '1000': 1.7151512e-19,\n",
       " '10000': 3.1987354e-19,\n",
       " '100000': 3.3480718e-19}"
      ]
     },
     "execution_count": 18,
     "metadata": {},
     "output_type": "execute_result"
    }
   ],
   "source": [
    "# diameters\n",
    "darbpdferrs"
   ]
  },
  {
   "cell_type": "code",
   "execution_count": 19,
   "metadata": {},
   "outputs": [],
   "source": [
    "Errors = {str(10^n): (accuracy(darbpdf[str(10^n)], dparipdf[str(10^n)])) for n in [1..N]}"
   ]
  },
  {
   "cell_type": "code",
   "execution_count": 20,
   "metadata": {},
   "outputs": [
    {
     "data": {
      "text/plain": [
       "{'10': 0.000000000000000,\n",
       " '100': 0.000000000000000,\n",
       " '1000': 0.000000000000000,\n",
       " '10000': 2.77555756156289e-17,\n",
       " '100000': 5.55111512312578e-17}"
      ]
     },
     "execution_count": 20,
     "metadata": {},
     "output_type": "execute_result"
    }
   ],
   "source": [
    "Errors"
   ]
  },
  {
   "cell_type": "markdown",
   "metadata": {},
   "source": [
    "***\n",
    "<a id=references></a>\n",
    "# <font color=brown> References </font>\n",
    "This notebook belongs to supplementary materials of the paper submitted to Journal of Statistical Computation and\n",
    "Simulation and available at  <https://arxiv.org/abs/2105.04427>.\n",
    "* Hančová, M., Gajdoš, A., Hanč, J. (2021). A practical, effective calculation of gamma difference distributions with open data science tools. arXiv:2105.04427 [cs, math, stat], https://arxiv.org/abs/2105.04427\n",
    "\n",
    "### Abstract of the paper\n",
    "\n",
    "At present, there is still no officially accepted and extensively verified implementation of computing the gamma difference distribution allowing unequal shape parameters. We explore four computational ways of the gamma difference distribution with the different shape parameters resulting from time series kriging, a forecasting approach based on the best linear unbiased prediction, and linear mixed models. The results of our numerical study, with emphasis on using open data science tools, demonstrate that our open tool implemented in high-performance Python(with Numba) is exponentially fast, highly accurate, and very reliable. It combines numerical inversion of the characteristic function and the trapezoidal rule with the double exponential oscillatory transformation (DE quadrature). At the double 53-bit precision, our tool outperformed the speed of the analytical computation based on Tricomi's $U(a, b, z)$ function in CAS software (commercial Mathematica, open SageMath) by 1.5-2 orders. At the precision of scientific numerical computational tools, it exceeded open SciPy, NumPy, and commercial MATLAB 5-10 times. The potential future application of our tool for a mixture of characteristic functions could open new possibilities for fast data analysis based on exact probability distributions in areas like multidimensional statistics, measurement uncertainty analysis in metrology as well as in financial mathematics and risk analysis. "
   ]
  },
  {
   "cell_type": "markdown",
   "metadata": {},
   "source": [
    "* Johansson, F. (2017). Arb: Efficient Arbitrary-Precision Midpoint-Radius Interval Arithmetic. IEEE Transactions on Computers, 66(8), 1281–1292. https://doi.org/10.1109/TC.2017.2690633  \n",
    "* Johansson, F. (2019). Computing Hypergeometric Functions Rigorously. ACM Transactions on Mathematical Software, 45(3), 30:1-30:26. https://doi.org/10.1145/3328732  "
   ]
  }
 ],
 "metadata": {
  "kernelspec": {
   "display_name": "SageMath 9.2",
   "language": "sage",
   "name": "sagemath"
  },
  "language_info": {
   "codemirror_mode": {
    "name": "ipython",
    "version": 3
   },
   "file_extension": ".py",
   "mimetype": "text/x-python",
   "name": "python",
   "nbconvert_exporter": "python",
   "pygments_lexer": "ipython3",
   "version": "3.7.7"
  }
 },
 "nbformat": 4,
 "nbformat_minor": 2
}
