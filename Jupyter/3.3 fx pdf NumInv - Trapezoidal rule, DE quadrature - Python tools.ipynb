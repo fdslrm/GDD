{
 "cells": [
  {
   "cell_type": "markdown",
   "metadata": {},
   "source": [
    "**Authors:** Jozef Hanč, Martina Hančová  <br> *[Faculty of Science](https://www.upjs.sk/en/faculty-of-science/?prefferedLang=EN), P. J. Šafárik University in Košice, Slovakia* <br> emails: [martina.hancova@upjs.sk](mailto:martina.hancova@upjs.sk)\n",
    "***\n",
    "\n",
    "# <font color = brown, size=6> Numerical inversion for $\\mathcal{GDD}$ pdf calculations</font>\n",
    "\n",
    "<font size=4> Python-based computational tools: </font>  **<font size=4>Python, NumPy, Cython, Numba</font>**  "
   ]
  },
  {
   "cell_type": "markdown",
   "metadata": {},
   "source": [
    "# Trapezoidal rule vs. DE quadrature</font>\n",
    "\n",
    "Trapezoidal (complex functions - Python), DE (complex, real functions - Python, Cython, Numba) "
   ]
  },
  {
   "cell_type": "code",
   "execution_count": 1,
   "metadata": {
    "ExecuteTime": {
     "end_time": "2021-06-01T19:15:27.717549Z",
     "start_time": "2021-06-01T19:15:27.532602Z"
    }
   },
   "outputs": [],
   "source": [
    "N = 4 #test up to 10^N values of pdf\n",
    "\n",
    "import numpy as np\n",
    "import pandas as pd\n",
    "from numpy import array as v\n",
    "import matplotlib.pyplot as plt\n",
    "plt.style.use('seaborn-whitegrid')\n",
    "\n",
    "from time import time\n",
    "import math, cmath\n",
    "import scipy\n",
    "\n",
    "# accuracy in Python\n",
    "def abs_errs(df1, df2):\n",
    "    N = len(df1)\n",
    "    errors = [abs(df1[i]-df2[i]) for i in range(N)]\n",
    "    return errors"
   ]
  },
  {
   "cell_type": "markdown",
   "metadata": {},
   "source": [
    "## $\\mathcal{GDD}$ pdf  $-$ analytic expression\n",
    "\n",
    "$\n",
    "f(z)=\n",
    "\\dfrac{\\beta_{1}^{\\alpha_{1}} \\beta_{2}^{\\alpha_{2}}}{\\beta^{\\alpha-1}}\n",
    "\\begin{cases}\n",
    "{\\dfrac{e^{z \\beta_{2}}}{\\Gamma\\left(\\alpha_{2}\\right)} U\\left(1-\\alpha_{2}, 2-\\alpha,-z \\beta\\right),} & {z<0} \\\\[12pt]\n",
    "\\begin{array}{cc} \n",
    "\\frac{\\Gamma(\\alpha-1)}{\\beta^{a / 2-1} \\Gamma\\left(\\alpha_{1}\\right) \\Gamma\\left(\\alpha_{2}\\right)}, & \\scriptstyle 1<\\alpha \\\\ \n",
    "\\infty,  & \\scriptstyle 0<\\alpha \\leq 1 \n",
    "\\end{array}, & z=0 \\\\[12pt] \n",
    "{\\dfrac{e^{-z \\beta_{1}}}{\\Gamma\\left(\\alpha_{1}\\right)} U\\left(1-\\alpha_{1}, 2-\\alpha, z \\beta\\right),} & {z>0}\n",
    "\\end{cases}\n",
    "$\n",
    "\n",
    "\n",
    "$\\alpha=\\alpha_{1}+\\alpha_{2}, \\quad \\beta=\\beta_{1}+\\beta_{2}$"
   ]
  },
  {
   "cell_type": "code",
   "execution_count": 2,
   "metadata": {
    "ExecuteTime": {
     "end_time": "2021-06-01T19:15:27.780412Z",
     "start_time": "2021-06-01T19:15:27.718378Z"
    }
   },
   "outputs": [],
   "source": [
    "# pre-calulated analytic results from mpmath, Pari GP and Arb\n",
    "dpari = {str(10**(n+1)):np.loadtxt('data/Pari_Sage_pdf'+str(10**(n+1))+'.txt', delimiter=',',\n",
    "                                   dtype=np.longdouble) for n in range(N)}\n",
    "dx = {str(10**(n+1)):np.loadtxt('data/xvalues'+str(10**(n+1))+'.txt', dtype=np.longdouble) for n in range(N)}"
   ]
  },
  {
   "cell_type": "markdown",
   "metadata": {},
   "source": [
    "# Pdf as a numerical inversion integral\n",
    "<div style=\"display:none\">\n",
    "$\n",
    " \\newcommand{\\a}{\\alpha}\n",
    " \\newcommand{\\b}{\\beta}\n",
    " \\newcommand{\\cft}{\\varphi(t)}\n",
    "  \\newcommand{\\Rv}[1]{\\mathscr{R}^{#1}}\n",
    "$\n",
    "</div>\n",
    "\n",
    "\n",
    "$$\\large f(x)=  \\frac{1}{\\pi} \n",
    "\\int_0^\\infty \\Re \\left[e^{-itx}\\cft\\right]dt \n",
    "$$\n",
    "$$ \\normalsize\n",
    "\\cft=  \\left(1-\\dfrac{it}{\\b_1}\\right)^{-\\a_1}\\left(1+\\dfrac{it}{\\b_2}\\right)^{-\\a_2}, t\\in \\Rv{}\n",
    "$$"
   ]
  },
  {
   "cell_type": "markdown",
   "metadata": {},
   "source": [
    "**<font size=5> alternative form</font>**\n",
    "$$\n",
    "\\large f(x)= \\int_{0}^{\\infty} g(x,t) dt \n",
    "$$\n",
    "\n",
    "$$ \n",
    "\\normalsize \n",
    "g(x,t) = r(t)\\cos(xt-\\phi(t)), \n",
    "$$\n",
    "\n",
    "$$\\normalsize r(t)= \\frac{\\b_1^{\\a_1} \\b_2^{\\a_2}}{\\pi\\left(\\b_1^2+t^2\\right)^{\\a_1/2}\n",
    "\\left(\\b_2^2+t^2\\right)^{\\a_2 / 2}}, \\quad \\phi(t) = \\a_1 \\arctan \\frac{t}{\\b_1}-\\a_2 \\arctan \\frac{t}{\\b_2}$$"
   ]
  },
  {
   "cell_type": "markdown",
   "metadata": {},
   "source": [
    "# DE, TR"
   ]
  },
  {
   "cell_type": "code",
   "execution_count": 3,
   "metadata": {
    "ExecuteTime": {
     "end_time": "2021-06-01T19:15:28.393939Z",
     "start_time": "2021-06-01T19:15:27.781436Z"
    }
   },
   "outputs": [
    {
     "name": "stderr",
     "output_type": "stream",
     "text": [
      "C:\\Users\\jozef\\.conda\\envs\\py38\\lib\\site-packages\\numba\\core\\cpu.py:78: UserWarning: Numba extension module 'numba_scipy' failed to load due to 'ValueError(No function '__pyx_fuse_0pdtr' found in __pyx_capi__ of 'scipy.special.cython_special')'.\n",
      "  numba.core.entrypoints.init_all()\n"
     ]
    },
    {
     "data": {
      "text/plain": [
       "('1.6.0', '1.19.2')"
      ]
     },
     "execution_count": 3,
     "metadata": {},
     "output_type": "execute_result"
    }
   ],
   "source": [
    "# Ooura DE quadrature implementation in Python, Numba; folder TRandDE\n",
    "from TRandDE.DEQuadratureNumba import *\n",
    "from TRandDE.DEQuadrature import *\n",
    "scipy.__version__, np.__version__"
   ]
  },
  {
   "cell_type": "markdown",
   "metadata": {},
   "source": [
    "## Integrands and parameters"
   ]
  },
  {
   "cell_type": "code",
   "execution_count": 4,
   "metadata": {
    "ExecuteTime": {
     "end_time": "2021-06-01T19:15:28.409959Z",
     "start_time": "2021-06-01T19:15:28.394940Z"
    }
   },
   "outputs": [],
   "source": [
    "# setting parameters and integrands\n",
    "eps, epss, epsss = 1e-3, 1e-10, 1e-15\n",
    "omg = 1\n",
    "\n",
    "a1, b1, a2, b2 = 0.5, 1.0, 8.5, 93.0\n",
    "d = b1**a1*b2**a2/math.pi"
   ]
  },
  {
   "cell_type": "code",
   "execution_count": 5,
   "metadata": {
    "ExecuteTime": {
     "end_time": "2021-06-01T19:15:28.426033Z",
     "start_time": "2021-06-01T19:15:28.410963Z"
    }
   },
   "outputs": [],
   "source": [
    "# integrand Python, complex char function\n",
    "def gcpy(t, x):\n",
    "    phit = (1-1j*t/b1)**(-a1)*(1+1j*t/b2)**(-a2)\n",
    "    return (1/math.pi*cmath.exp(-1j*t*x)*phit).real"
   ]
  },
  {
   "cell_type": "code",
   "execution_count": 6,
   "metadata": {
    "ExecuteTime": {
     "end_time": "2021-06-01T19:15:28.441552Z",
     "start_time": "2021-06-01T19:15:28.427073Z"
    }
   },
   "outputs": [],
   "source": [
    "# integrand Numba, complex and real char function\n",
    "@njit(fastmath=True)\n",
    "def gcn(t, x):\n",
    "    phit = (1-1j*t/b1)**(-a1)*(1+1j*t/b2)**(-a2)\n",
    "    return (1/math.pi*cmath.exp(-1j*t*x)*phit).real\n",
    "\n",
    "@njit(fastmath=True)\n",
    "def gn(t,x):\n",
    "    phi = a1*math.atan(t/b1) - a2*math.atan(t/b2)\n",
    "    r = 1/((b1*b1 + t*t)**(a1/2)*(b2*b2 + t*t)**(a2/2))\n",
    "    return d*r*math.cos(x*t-phi)"
   ]
  },
  {
   "cell_type": "code",
   "execution_count": 7,
   "metadata": {
    "ExecuteTime": {
     "end_time": "2021-06-01T19:15:29.009116Z",
     "start_time": "2021-06-01T19:15:28.442567Z"
    }
   },
   "outputs": [],
   "source": [
    "%load_ext Cython"
   ]
  },
  {
   "cell_type": "code",
   "execution_count": 8,
   "metadata": {
    "ExecuteTime": {
     "end_time": "2021-06-01T19:15:29.023888Z",
     "start_time": "2021-06-01T19:15:29.011141Z"
    }
   },
   "outputs": [],
   "source": [
    "%%cython\n",
    "cimport scipy.special.cython_special as cs\n",
    "cimport libc.math as lc\n",
    "\n",
    "def Gcy(double t, double x, double a1, double b1, double a2, double b2):\n",
    "    cdef:\n",
    "        double phi, r, d\n",
    "    \n",
    "    phi = a1*lc.atan(t/b1)-a2*lc.atan(t/b2)\n",
    "    r = 1/(lc.pow(b1*b1 + t*t,a1/2)*lc.pow(b2*b2 + t*t,a2/2))\n",
    "    d = lc.pow(b1,a1)*lc.pow(b2,a2)/lc.pi\n",
    "    return d*r*lc.cos(x*t-phi)"
   ]
  },
  {
   "cell_type": "code",
   "execution_count": 9,
   "metadata": {
    "ExecuteTime": {
     "end_time": "2021-06-01T19:15:29.039731Z",
     "start_time": "2021-06-01T19:15:29.025839Z"
    }
   },
   "outputs": [],
   "source": [
    "# integrad Cython\n",
    "def gcy(t,x):\n",
    "    return Gcy(t,x, a1,b1,a2,b2)"
   ]
  },
  {
   "cell_type": "markdown",
   "metadata": {},
   "source": [
    "## Comparing integrands"
   ]
  },
  {
   "cell_type": "code",
   "execution_count": 10,
   "metadata": {
    "ExecuteTime": {
     "end_time": "2021-06-01T19:15:29.055057Z",
     "start_time": "2021-06-01T19:15:29.040690Z"
    }
   },
   "outputs": [],
   "source": [
    "t,x = 0.32, 0.8"
   ]
  },
  {
   "cell_type": "code",
   "execution_count": 11,
   "metadata": {
    "ExecuteTime": {
     "end_time": "2021-06-01T19:15:29.400135Z",
     "start_time": "2021-06-01T19:15:29.056057Z"
    }
   },
   "outputs": [
    {
     "data": {
      "text/plain": [
       "[0.30799296627851114,\n",
       " 0.3079929662785111,\n",
       " 0.3079929662785113,\n",
       " 0.30799296627851125]"
      ]
     },
     "execution_count": 11,
     "metadata": {},
     "output_type": "execute_result"
    }
   ],
   "source": [
    "# cross-check values\n",
    "gint = [gcpy, gcn, gn, gcy]\n",
    "[gcpy(t,x), gcn(t,x), gn(t,x), gcy(t,x)]"
   ]
  },
  {
   "cell_type": "code",
   "execution_count": 12,
   "metadata": {
    "ExecuteTime": {
     "end_time": "2021-06-01T19:15:37.016075Z",
     "start_time": "2021-06-01T19:15:29.401134Z"
    }
   },
   "outputs": [
    {
     "name": "stdout",
     "output_type": "stream",
     "text": [
      "gcpy (0.32,0.8) = 0.30799296627851114\n",
      "1.34 µs ± 210 ns per loop (mean ± std. dev. of 3 runs, 10 loops each)\n",
      "\n",
      "gcn (0.32,0.8) = 0.3079929662785111\n",
      "437 ns ± 101 ns per loop (mean ± std. dev. of 3 runs, 10 loops each)\n",
      "\n",
      "gn (0.32,0.8) = 0.3079929662785113\n",
      "257 ns ± 80.1 ns per loop (mean ± std. dev. of 3 runs, 10 loops each)\n",
      "\n",
      "gcy (0.32,0.8) = 0.30799296627851125\n",
      "350 ns ± 63.8 ns per loop (mean ± std. dev. of 3 runs, 10 loops each)\n",
      "\n"
     ]
    }
   ],
   "source": [
    "# speed of integrands\n",
    "runtimes = []\n",
    "for fun in gint:\n",
    "    print(fun.__name__, '('+str(t)+','+str(x)+') =', fun(t, x))\n",
    "    %timeit -r 3 -n 10 fun(t, x)\n",
    "    rt = %timeit -r 1 -oq fun(t, x)\n",
    "    runtimes += [rt.average] \n",
    "    print('')"
   ]
  },
  {
   "cell_type": "code",
   "execution_count": 13,
   "metadata": {
    "ExecuteTime": {
     "end_time": "2021-06-01T19:15:37.032031Z",
     "start_time": "2021-06-01T19:15:37.017071Z"
    }
   },
   "outputs": [
    {
     "data": {
      "text/plain": [
       "array([1.  , 3.1 , 5.99, 4.27])"
      ]
     },
     "execution_count": 13,
     "metadata": {},
     "output_type": "execute_result"
    }
   ],
   "source": [
    "(runtimes[0]/v(runtimes)).round(2)"
   ]
  },
  {
   "cell_type": "markdown",
   "metadata": {},
   "source": [
    "## DE implementation"
   ]
  },
  {
   "cell_type": "code",
   "execution_count": 14,
   "metadata": {
    "ExecuteTime": {
     "end_time": "2021-06-01T19:15:37.048022Z",
     "start_time": "2021-06-01T19:15:37.033030Z"
    }
   },
   "outputs": [],
   "source": [
    "#python, complex\n",
    "fde3cpy = lambda x: intdeo(lambda t: gcpy(t,x), 0, x, eps)[0]\n",
    "fde10cpy = lambda x: intdeo(lambda t: gcpy(t,x), 0, x, epss)[0]\n",
    "fde15cpy = lambda x: intdeo(lambda t: gcpy(t,x), 0, x, epsss)[0]\n",
    "\n",
    "# numpy vectorization\n",
    "fde3cpy_np = np.vectorize(fde3cpy)\n",
    "fde10cpy_np = np.vectorize(fde10cpy)\n",
    "fde15cpy_np = np.vectorize(fde15cpy)"
   ]
  },
  {
   "cell_type": "code",
   "execution_count": 15,
   "metadata": {
    "ExecuteTime": {
     "end_time": "2021-06-01T19:15:37.063979Z",
     "start_time": "2021-06-01T19:15:37.048986Z"
    }
   },
   "outputs": [],
   "source": [
    "intdeogcn = make_intdeo(gcn)\n",
    "intdeogn = make_intdeo(gn)\n",
    "\n",
    "# numba, complex\n",
    "fde3cn = lambda x: intdeogcn(0, x, eps)[0]\n",
    "fde10cn = lambda x: intdeogcn(0, x, epss)[0]\n",
    "fde15cn = lambda x: intdeogcn(0, x, epsss)[0]\n",
    "\n",
    "fde3cn_np = np.vectorize(fde3cn)\n",
    "fde10cn_np = np.vectorize(fde10cn)\n",
    "fde15cn_np = np.vectorize(fde15cn)\n",
    "\n",
    "# numba, float\n",
    "fde3n = lambda x: intdeogn(0, x, eps)[0]\n",
    "fde10n = lambda x: intdeogn(0, x, epss)[0]\n",
    "fde15n = lambda x: intdeogn(0, x, epsss)[0]\n",
    "\n",
    "fde3n_np = np.vectorize(fde3n)\n",
    "fde10n_np = np.vectorize(fde10n)\n",
    "fde15n_np = np.vectorize(fde15n)"
   ]
  },
  {
   "cell_type": "code",
   "execution_count": 16,
   "metadata": {
    "ExecuteTime": {
     "end_time": "2021-06-01T19:15:38.375833Z",
     "start_time": "2021-06-01T19:15:37.064945Z"
    }
   },
   "outputs": [
    {
     "data": {
      "text/plain": [
       "[0.44710037696151844,\n",
       " 0.4473688914626636,\n",
       " 0.44736889146159814,\n",
       " 0.44710037696151833,\n",
       " 0.44736889146266356,\n",
       " 0.44736889146159814,\n",
       " 0.4471003769615181,\n",
       " 0.4473688914626633,\n",
       " 0.44736889146159803]"
      ]
     },
     "execution_count": 16,
     "metadata": {},
     "output_type": "execute_result"
    }
   ],
   "source": [
    "# cross-check\n",
    "u = 0.45\n",
    "[fde3cpy(u), fde10cpy(u), fde15cpy(u), #python complex\n",
    " fde3cn(u), fde10cn(u), fde15cn(u),    #numba, complex\n",
    " fde3n(u), fde10n(u), fde15n(u)        #numba, float \n",
    "]"
   ]
  },
  {
   "cell_type": "code",
   "execution_count": 17,
   "metadata": {
    "ExecuteTime": {
     "end_time": "2021-06-01T19:15:38.407378Z",
     "start_time": "2021-06-01T19:15:38.376835Z"
    }
   },
   "outputs": [
    {
     "data": {
      "text/plain": [
       "[array([1.29596518e-04, 1.03583787e+00, 2.14107836e-01, 7.34083201e-02],\n",
       "       dtype=float64),\n",
       " array([-1.84898895e-12,  1.03565906e+00,  2.14093530e-01,  7.34128746e-02],\n",
       "       dtype=float64),\n",
       " array([-9.62392058e-16,  1.03565906e+00,  2.14093530e-01,  7.34128746e-02],\n",
       "       dtype=float64),\n",
       " array([1.29596518e-04, 1.03583787e+00, 2.14107836e-01, 7.34083201e-02]),\n",
       " array([-1.84928566e-12,  1.03565906e+00,  2.14093530e-01,  7.34128746e-02]),\n",
       " array([-8.88876073e-16,  1.03565906e+00,  2.14093530e-01,  7.34128746e-02]),\n",
       " array([1.29596518e-04, 1.03583787e+00, 2.14107836e-01, 7.34083201e-02]),\n",
       " array([-1.84897253e-12,  1.03565906e+00,  2.14093530e-01,  7.34128746e-02]),\n",
       " array([-3.96524215e-16,  1.03565906e+00,  2.14093530e-01,  7.34128746e-02])]"
      ]
     },
     "execution_count": 17,
     "metadata": {},
     "output_type": "execute_result"
    }
   ],
   "source": [
    "# cross-check\n",
    "[fde3cpy_np(dx['10'][3:7]), fde10cpy_np(dx['10'][3:7]), fde15cpy_np(dx['10'][3:7]), #python complex\n",
    " fde3cn_np(dx['10'][3:7]), fde10cn_np(dx['10'][3:7]), fde15cn_np(dx['10'][3:7]),    #numba, complex\n",
    " fde3n_np(dx['10'][3:7]), fde10n_np(dx['10'][3:7]), fde15n_np(dx['10'][3:7])        #numba, float \n",
    "]"
   ]
  },
  {
   "cell_type": "markdown",
   "metadata": {},
   "source": [
    "# TR implementation"
   ]
  },
  {
   "cell_type": "code",
   "execution_count": 18,
   "metadata": {
    "ExecuteTime": {
     "end_time": "2021-06-01T19:15:38.422964Z",
     "start_time": "2021-06-01T19:15:38.408191Z"
    }
   },
   "outputs": [],
   "source": [
    "# Witkovsky TR implementation in Python; folder TRandDE\n",
    "import TRandDE.cf2DistGP as ninv"
   ]
  },
  {
   "cell_type": "code",
   "execution_count": 19,
   "metadata": {
    "ExecuteTime": {
     "end_time": "2021-06-01T19:15:38.437902Z",
     "start_time": "2021-06-01T19:15:38.423919Z"
    }
   },
   "outputs": [],
   "source": [
    "# python\n",
    "def cf1(t, a1, b1, a2, b2):\n",
    "    result = ((1-1j*t/b1)**(-a1))*((1+1j*t/b2)**(-a2))\n",
    "    return(result)\n",
    "\n",
    "def cf(t): \n",
    "    result = cf1(t=t, a1=a1, b1=b1, a2=a2, b2=b2)\n",
    "    return(result)\n",
    "\n",
    "fwpy_np = lambda x: ninv.cf2DistGP(cf, x)['pdf']\n",
    "fwpy = np.vectorize(lambda t: ninv.cf2DistGP(cf, x=t)['pdf'][0])"
   ]
  },
  {
   "cell_type": "code",
   "execution_count": 20,
   "metadata": {
    "ExecuteTime": {
     "end_time": "2021-06-01T19:15:38.453897Z",
     "start_time": "2021-06-01T19:15:38.438899Z"
    }
   },
   "outputs": [
    {
     "data": {
      "text/plain": [
       "array([8.96773286e-04, 3.85996007e-04, 1.67399209e-04, 7.30323820e-05,\n",
       "       1.03569108e+00, 2.14107623e-01, 7.34190986e-02, 2.80817166e-02,\n",
       "       1.12855759e-02, 4.66596234e-03])"
      ]
     },
     "execution_count": 20,
     "metadata": {},
     "output_type": "execute_result"
    }
   ],
   "source": [
    "fwpy_np(dx['10'])"
   ]
  },
  {
   "cell_type": "code",
   "execution_count": 21,
   "metadata": {
    "ExecuteTime": {
     "end_time": "2021-06-01T19:15:38.469149Z",
     "start_time": "2021-06-01T19:15:38.454884Z"
    }
   },
   "outputs": [
    {
     "data": {
      "text/plain": [
       "array([8.96773286e-04, 3.85996007e-04, 1.67399209e-04, 7.30323820e-05,\n",
       "       1.03569108e+00, 2.14107623e-01, 7.34190986e-02, 2.80817166e-02,\n",
       "       1.12855759e-02, 4.66596234e-03])"
      ]
     },
     "execution_count": 21,
     "metadata": {},
     "output_type": "execute_result"
    }
   ],
   "source": [
    "fwpy(dx['10'])"
   ]
  },
  {
   "cell_type": "code",
   "execution_count": 22,
   "metadata": {
    "ExecuteTime": {
     "end_time": "2021-06-01T19:16:13.309294Z",
     "start_time": "2021-06-01T19:15:38.470114Z"
    }
   },
   "outputs": [
    {
     "name": "stdout",
     "output_type": "stream",
     "text": [
      "548 ms ± 10.1 ms per loop (mean ± std. dev. of 7 runs, 1 loop each)\n",
      "3.8 s ± 57.6 ms per loop (mean ± std. dev. of 7 runs, 1 loop each)\n"
     ]
    }
   ],
   "source": [
    "%timeit fwpy_np(dx['10000'])\n",
    "%timeit fwpy(dx['10000'])"
   ]
  },
  {
   "cell_type": "markdown",
   "metadata": {},
   "source": [
    "# Benchmark"
   ]
  },
  {
   "cell_type": "code",
   "execution_count": 23,
   "metadata": {
    "ExecuteTime": {
     "end_time": "2021-06-01T19:16:13.324297Z",
     "start_time": "2021-06-01T19:16:13.315306Z"
    }
   },
   "outputs": [],
   "source": [
    "# values x over interval <-3,4>\n",
    "x = dx\n",
    "#x = lambda n: np.linspace(-3, 4, n)"
   ]
  },
  {
   "cell_type": "code",
   "execution_count": 24,
   "metadata": {
    "ExecuteTime": {
     "end_time": "2021-06-01T19:16:13.340285Z",
     "start_time": "2021-06-01T19:16:13.327298Z"
    }
   },
   "outputs": [],
   "source": [
    "methods = ['W py', 'W pynp', 'DEcpy 1e-15', 'DEcpy 1e-10', 'DEcpy 1e-3', \n",
    "           'DEcn 1e-15', 'DEcn 1e-10', 'DEcn 1e-3', 'DEn 1e-15', 'DEn 1e-10', 'DEn 1e-3']\n",
    "benchmark = pd.DataFrame(index =['10', '100', '1000', '10000'], \n",
    "            columns = methods)\n",
    "functions = [fwpy, fwpy_np, fde15cpy_np, fde10cpy_np, fde3cpy_np, \n",
    "             fde15cn_np, fde10cn_np, fde3cn_np, \n",
    "             fde15n_np, fde10n_np, fde3n_np]\n",
    "pdf = {m:f for m,f in zip(methods, functions)}"
   ]
  },
  {
   "cell_type": "code",
   "execution_count": 25,
   "metadata": {
    "ExecuteTime": {
     "end_time": "2021-06-01T19:32:57.234493Z",
     "start_time": "2021-06-01T19:16:13.341236Z"
    },
    "scrolled": false
   },
   "outputs": [
    {
     "name": "stdout",
     "output_type": "stream",
     "text": [
      "10 W py , runs =  3 , loops = 10\n",
      "10 W pynp , runs =  3 , loops = 10\n",
      "10 DEcpy 1e-15 , runs =  3 , loops = 10\n",
      "10 DEcpy 1e-10 , runs =  3 , loops = 10\n",
      "10 DEcpy 1e-3 , runs =  3 , loops = 10\n",
      "10 DEcn 1e-15 , runs =  3 , loops = 10\n",
      "10 DEcn 1e-10 , runs =  3 , loops = 10\n",
      "10 DEcn 1e-3 , runs =  3 , loops = 10\n",
      "10 DEn 1e-15 , runs =  3 , loops = 10\n",
      "10 DEn 1e-10 , runs =  3 , loops = 10\n",
      "10 DEn 1e-3 , runs =  3 , loops = 10\n",
      "10  runtime = 1.0413157939910889 s\n",
      "*************************\n",
      "100 W py , runs =  3 , loops = 10\n",
      "100 W pynp , runs =  3 , loops = 10\n",
      "100 DEcpy 1e-15 , runs =  3 , loops = 10\n",
      "100 DEcpy 1e-10 , runs =  3 , loops = 10\n",
      "100 DEcpy 1e-3 , runs =  3 , loops = 10\n",
      "100 DEcn 1e-15 , runs =  3 , loops = 10\n",
      "100 DEcn 1e-10 , runs =  3 , loops = 10\n",
      "100 DEcn 1e-3 , runs =  3 , loops = 10\n",
      "100 DEn 1e-15 , runs =  3 , loops = 10\n",
      "100 DEn 1e-10 , runs =  3 , loops = 10\n",
      "100 DEn 1e-3 , runs =  3 , loops = 10\n",
      "100  runtime = 10.280387163162231 s\n",
      "*************************\n",
      "1000 W py , runs =  3 , loops = 10\n",
      "1000 W pynp , runs =  3 , loops = 10\n",
      "1000 DEcpy 1e-15 , runs =  3 , loops = 10\n",
      "1000 DEcpy 1e-10 , runs =  3 , loops = 10\n",
      "1000 DEcpy 1e-3 , runs =  3 , loops = 10\n",
      "1000 DEcn 1e-15 , runs =  3 , loops = 10\n",
      "1000 DEcn 1e-10 , runs =  3 , loops = 10\n",
      "1000 DEcn 1e-3 , runs =  3 , loops = 10\n",
      "1000 DEn 1e-15 , runs =  3 , loops = 10\n",
      "1000 DEn 1e-10 , runs =  3 , loops = 10\n",
      "1000 DEn 1e-3 , runs =  3 , loops = 10\n",
      "1000  runtime = 101.75780057907104 s\n",
      "*************************\n",
      "10000 W py , runs =  3 , loops = 10\n",
      "10000 W pynp , runs =  3 , loops = 10\n",
      "10000 DEcpy 1e-15 , runs =  3 , loops = 10\n",
      "10000 DEcpy 1e-10 , runs =  3 , loops = 10\n",
      "10000 DEcpy 1e-3 , runs =  3 , loops = 10\n",
      "10000 DEcn 1e-15 , runs =  3 , loops = 10\n",
      "10000 DEcn 1e-10 , runs =  3 , loops = 10\n",
      "10000 DEcn 1e-3 , runs =  3 , loops = 10\n",
      "10000 DEn 1e-15 , runs =  3 , loops = 10\n",
      "10000 DEn 1e-10 , runs =  3 , loops = 10\n",
      "10000 DEn 1e-3 , runs =  3 , loops = 10\n",
      "10000  runtime = 1003.8719084262848 s\n",
      "*************************\n"
     ]
    }
   ],
   "source": [
    "# start time\n",
    "tic = time()\n",
    "for n in range(N):\n",
    "    points = x[str(10**(n+1))]\n",
    "    for method, fun in pdf.items():\n",
    "        rt = %timeit -r 3 -n 10 -oq fun(points)\n",
    "        print(10**(n+1), method, ', runs = ', rt.repeat, ', loops =', rt.loops)\n",
    "        dm = fun(points)\n",
    "        dp = dpari[str(10**(n+1))]\n",
    "        ch_abs = abs_errs(dm,dp)\n",
    "        #ch_rel = rel_errs(dm,dp)\n",
    "        benchmark.loc[str(10**(n+1)),method] = [rt.average, rt.stdev, min(ch_abs), max(ch_abs)]\n",
    "    #end time\n",
    "    toc = time()-tic; \n",
    "    print(10**(n+1),' runtime =',toc,'s')\n",
    "    print(25*'*')"
   ]
  },
  {
   "cell_type": "markdown",
   "metadata": {},
   "source": [
    "# Results"
   ]
  },
  {
   "cell_type": "code",
   "execution_count": 26,
   "metadata": {
    "ExecuteTime": {
     "end_time": "2021-06-01T19:32:57.264415Z",
     "start_time": "2021-06-01T19:32:57.235524Z"
    }
   },
   "outputs": [
    {
     "data": {
      "text/html": [
       "<div>\n",
       "<style scoped>\n",
       "    .dataframe tbody tr th:only-of-type {\n",
       "        vertical-align: middle;\n",
       "    }\n",
       "\n",
       "    .dataframe tbody tr th {\n",
       "        vertical-align: top;\n",
       "    }\n",
       "\n",
       "    .dataframe thead th {\n",
       "        text-align: right;\n",
       "    }\n",
       "</style>\n",
       "<table border=\"1\" class=\"dataframe\">\n",
       "  <thead>\n",
       "    <tr style=\"text-align: right;\">\n",
       "      <th></th>\n",
       "      <th>W py</th>\n",
       "      <th>W pynp</th>\n",
       "      <th>DEcpy 1e-15</th>\n",
       "      <th>DEcpy 1e-10</th>\n",
       "      <th>DEcpy 1e-3</th>\n",
       "      <th>DEcn 1e-15</th>\n",
       "      <th>DEcn 1e-10</th>\n",
       "      <th>DEcn 1e-3</th>\n",
       "      <th>DEn 1e-15</th>\n",
       "      <th>DEn 1e-10</th>\n",
       "      <th>DEn 1e-3</th>\n",
       "    </tr>\n",
       "  </thead>\n",
       "  <tbody>\n",
       "    <tr>\n",
       "      <th>10</th>\n",
       "      <td>[0.0043306000000001175, 4.5813492190130934e-05, 5.447491337210938e-07, 0.0008967732856672078]</td>\n",
       "      <td>[0.0008411700000001094, 2.178638719377539e-06, 5.447491337471147e-07, 0.0008967732856672469]</td>\n",
       "      <td>[0.014254526666667289, 0.00015332267006405877, 7.892991815694472e-17, 1.1102230246251565e-15]</td>\n",
       "      <td>[0.009420203333333651, 9.34835566054392e-05, 6.217248937900877e-14, 4.590855473551869e-12]</td>\n",
       "      <td>[0.0032283500000000725, 4.908246190508611e-05, 3.326594937321306e-06, 0.00017881210785675172]</td>\n",
       "      <td>[0.0004976466666666586, 4.022148458463636e-05, 9.71445146547012e-17, 1.8110513089197866e-15]</td>\n",
       "      <td>[0.0003068700000004772, 8.027353237424511e-06, 6.195044477408373e-14, 4.589800761678475e-12]</td>\n",
       "      <td>[0.00011061333333278374, 1.6847221993617541e-06, 3.326594937347684e-06, 0.0001788121078560856]</td>\n",
       "      <td>[0.0001362133333335199, 1.6148133699322268e-06, 6.938893903907228e-17, 2.239528007486058e-15]</td>\n",
       "      <td>[9.648333333321563e-05, 2.219043837421896e-06, 6.23945339839338e-14, 4.589717494951628e-12]</td>\n",
       "      <td>[5.179999999995744e-05, 1.19855774439096e-05, 3.3265949375295766e-06, 0.0001788121078556415]</td>\n",
       "    </tr>\n",
       "    <tr>\n",
       "      <th>100</th>\n",
       "      <td>[0.03956355666666648, 0.0012348130533896926, 5.447491337210938e-07, 0.0008967732856672078]</td>\n",
       "      <td>[0.006063219999999585, 0.0005526622813855196, 5.447491337471147e-07, 0.0008967732856672469]</td>\n",
       "      <td>[0.13270516000000043, 0.002546383133046933, 1.214306433183765e-17, 1.7763568394002505e-15]</td>\n",
       "      <td>[0.08213246666666597, 0.00012397721950268436, 2.6229018956769323e-14, 1.0377263209482713e-10]</td>\n",
       "      <td>[0.027798079999999933, 0.0002446104684321693, 2.0253029830996638e-07, 0.0005154132400817604]</td>\n",
       "      <td>[0.0038685400000005644, 1.725201630735968e-05, 1.8214596497756474e-17, 1.8110513089197866e-15]</td>\n",
       "      <td>[0.0025101233333330694, 3.512582557369917e-05, 2.593758541280522e-14, 1.0377306054308711e-10]</td>\n",
       "      <td>[0.0008547100000001251, 9.278904389778429e-06, 2.025302987540556e-07, 0.0005154132400821716]</td>\n",
       "      <td>[0.0011448533333331548, 1.3638050528512391e-05, 6.892657630680857e-19, 2.8831104170734534e-15]</td>\n",
       "      <td>[0.0007479466666666213, 6.219648078999355e-06, 2.5673907444456745e-14, 1.0377316469986425e-10]</td>\n",
       "      <td>[0.0002861366666669104, 2.0240278866542687e-06, 2.0253029830996638e-07, 0.000515413240081554]</td>\n",
       "    </tr>\n",
       "    <tr>\n",
       "      <th>1000</th>\n",
       "      <td>[0.3833910433333334, 0.00673487698438662, 5.447491337210938e-07, 0.0008967732856672078]</td>\n",
       "      <td>[0.054778656666666835, 0.0008964924411027738, 5.447491337471147e-07, 0.0008967732856672469]</td>\n",
       "      <td>[1.300851386666667, 0.01394080421794007, 0.0, 3.552713678800501e-15]</td>\n",
       "      <td>[0.8420557000000001, 0.00994630875437171, 1.1657341758564144e-15, 1.369720733203171e-10]</td>\n",
       "      <td>[0.27681905666666656, 0.0005992882414071632, 1.3082291472343854e-08, 0.0005179479256654331]</td>\n",
       "      <td>[0.038264059999999246, 0.00025311613197669504, 0.0, 3.1086244689504383e-15]</td>\n",
       "      <td>[0.02485810666666642, 0.00014704871626569613, 8.673617379884035e-16, 1.3697207214808614e-10]</td>\n",
       "      <td>[0.008387443333333522, 3.456433068289428e-05, 1.308229080621004e-08, 0.0005179479256652939]</td>\n",
       "      <td>[0.011181163333333188, 0.0001342012877077077, 0.0, 3.9968028886505635e-15]</td>\n",
       "      <td>[0.007225620000000769, 4.835505626843418e-05, 4.996003610813204e-16, 1.3697219122371989e-10]</td>\n",
       "      <td>[0.0027754433333332905, 2.914282339638128e-05, 1.308229080621004e-08, 0.0005179479256657485]</td>\n",
       "    </tr>\n",
       "    <tr>\n",
       "      <th>10000</th>\n",
       "      <td>[3.7706248433333336, 0.005163642832634195, 5.447491337210938e-07, 0.0008967732856672078]</td>\n",
       "      <td>[0.5176803399999983, 0.002176078085794642, 5.447491337471147e-07, 0.0008967732856672469]</td>\n",
       "      <td>[12.890725260000002, 0.06098834365287534, 0.0, 3.1086244689504383e-15]</td>\n",
       "      <td>[8.236109313333335, 0.05581701663055097, 2.220446049250313e-16, 2.5075852505551666e-10]</td>\n",
       "      <td>[2.750981213333334, 0.006440720088649433, 2.3249355496357538e-09, 0.0005182375628612142]</td>\n",
       "      <td>[0.3802314533333326, 0.00032521177227381456, 0.0, 4.440892098500626e-15]</td>\n",
       "      <td>[0.2459587633333361, 0.00015243171199264124, 0.0, 2.5075852505551666e-10]</td>\n",
       "      <td>[0.08339073333334, 0.00010503201363743545, 2.324935757802571e-09, 0.0005182375628614209]</td>\n",
       "      <td>[0.10968540000000454, 0.00029215192211849873, 0.0, 4.440892098500626e-15]</td>\n",
       "      <td>[0.07238387999999911, 0.0003946854145612107, 0.0, 2.507571927878871e-10]</td>\n",
       "      <td>[0.027546186666669803, 0.0002797261382468547, 2.324934966768666e-09, 0.0005182375628613131]</td>\n",
       "    </tr>\n",
       "  </tbody>\n",
       "</table>\n",
       "</div>"
      ],
      "text/plain": [
       "                                                                                                W py  \\\n",
       "10     [0.0043306000000001175, 4.5813492190130934e-05, 5.447491337210938e-07, 0.0008967732856672078]   \n",
       "100       [0.03956355666666648, 0.0012348130533896926, 5.447491337210938e-07, 0.0008967732856672078]   \n",
       "1000         [0.3833910433333334, 0.00673487698438662, 5.447491337210938e-07, 0.0008967732856672078]   \n",
       "10000       [3.7706248433333336, 0.005163642832634195, 5.447491337210938e-07, 0.0008967732856672078]   \n",
       "\n",
       "                                                                                             W pynp  \\\n",
       "10     [0.0008411700000001094, 2.178638719377539e-06, 5.447491337471147e-07, 0.0008967732856672469]   \n",
       "100     [0.006063219999999585, 0.0005526622813855196, 5.447491337471147e-07, 0.0008967732856672469]   \n",
       "1000    [0.054778656666666835, 0.0008964924411027738, 5.447491337471147e-07, 0.0008967732856672469]   \n",
       "10000      [0.5176803399999983, 0.002176078085794642, 5.447491337471147e-07, 0.0008967732856672469]   \n",
       "\n",
       "                                                                                         DEcpy 1e-15  \\\n",
       "10     [0.014254526666667289, 0.00015332267006405877, 7.892991815694472e-17, 1.1102230246251565e-15]   \n",
       "100       [0.13270516000000043, 0.002546383133046933, 1.214306433183765e-17, 1.7763568394002505e-15]   \n",
       "1000                            [1.300851386666667, 0.01394080421794007, 0.0, 3.552713678800501e-15]   \n",
       "10000                         [12.890725260000002, 0.06098834365287534, 0.0, 3.1086244689504383e-15]   \n",
       "\n",
       "                                                                                         DEcpy 1e-10  \\\n",
       "10        [0.009420203333333651, 9.34835566054392e-05, 6.217248937900877e-14, 4.590855473551869e-12]   \n",
       "100    [0.08213246666666597, 0.00012397721950268436, 2.6229018956769323e-14, 1.0377263209482713e-10]   \n",
       "1000        [0.8420557000000001, 0.00994630875437171, 1.1657341758564144e-15, 1.369720733203171e-10]   \n",
       "10000        [8.236109313333335, 0.05581701663055097, 2.220446049250313e-16, 2.5075852505551666e-10]   \n",
       "\n",
       "                                                                                          DEcpy 1e-3  \\\n",
       "10     [0.0032283500000000725, 4.908246190508611e-05, 3.326594937321306e-06, 0.00017881210785675172]   \n",
       "100     [0.027798079999999933, 0.0002446104684321693, 2.0253029830996638e-07, 0.0005154132400817604]   \n",
       "1000     [0.27681905666666656, 0.0005992882414071632, 1.3082291472343854e-08, 0.0005179479256654331]   \n",
       "10000       [2.750981213333334, 0.006440720088649433, 2.3249355496357538e-09, 0.0005182375628612142]   \n",
       "\n",
       "                                                                                           DEcn 1e-15  \\\n",
       "10       [0.0004976466666666586, 4.022148458463636e-05, 9.71445146547012e-17, 1.8110513089197866e-15]   \n",
       "100    [0.0038685400000005644, 1.725201630735968e-05, 1.8214596497756474e-17, 1.8110513089197866e-15]   \n",
       "1000                      [0.038264059999999246, 0.00025311613197669504, 0.0, 3.1086244689504383e-15]   \n",
       "10000                        [0.3802314533333326, 0.00032521177227381456, 0.0, 4.440892098500626e-15]   \n",
       "\n",
       "                                                                                          DEcn 1e-10  \\\n",
       "10      [0.0003068700000004772, 8.027353237424511e-06, 6.195044477408373e-14, 4.589800761678475e-12]   \n",
       "100    [0.0025101233333330694, 3.512582557369917e-05, 2.593758541280522e-14, 1.0377306054308711e-10]   \n",
       "1000    [0.02485810666666642, 0.00014704871626569613, 8.673617379884035e-16, 1.3697207214808614e-10]   \n",
       "10000                      [0.2459587633333361, 0.00015243171199264124, 0.0, 2.5075852505551666e-10]   \n",
       "\n",
       "                                                                                            DEcn 1e-3  \\\n",
       "10     [0.00011061333333278374, 1.6847221993617541e-06, 3.326594937347684e-06, 0.0001788121078560856]   \n",
       "100      [0.0008547100000001251, 9.278904389778429e-06, 2.025302987540556e-07, 0.0005154132400821716]   \n",
       "1000      [0.008387443333333522, 3.456433068289428e-05, 1.308229080621004e-08, 0.0005179479256652939]   \n",
       "10000        [0.08339073333334, 0.00010503201363743545, 2.324935757802571e-09, 0.0005182375628614209]   \n",
       "\n",
       "                                                                                            DEn 1e-15  \\\n",
       "10      [0.0001362133333335199, 1.6148133699322268e-06, 6.938893903907228e-17, 2.239528007486058e-15]   \n",
       "100    [0.0011448533333331548, 1.3638050528512391e-05, 6.892657630680857e-19, 2.8831104170734534e-15]   \n",
       "1000                       [0.011181163333333188, 0.0001342012877077077, 0.0, 3.9968028886505635e-15]   \n",
       "10000                       [0.10968540000000454, 0.00029215192211849873, 0.0, 4.440892098500626e-15]   \n",
       "\n",
       "                                                                                            DEn 1e-10  \\\n",
       "10        [9.648333333321563e-05, 2.219043837421896e-06, 6.23945339839338e-14, 4.589717494951628e-12]   \n",
       "100    [0.0007479466666666213, 6.219648078999355e-06, 2.5673907444456745e-14, 1.0377316469986425e-10]   \n",
       "1000     [0.007225620000000769, 4.835505626843418e-05, 4.996003610813204e-16, 1.3697219122371989e-10]   \n",
       "10000                        [0.07238387999999911, 0.0003946854145612107, 0.0, 2.507571927878871e-10]   \n",
       "\n",
       "                                                                                            DEn 1e-3  \n",
       "10      [5.179999999995744e-05, 1.19855774439096e-05, 3.3265949375295766e-06, 0.0001788121078556415]  \n",
       "100    [0.0002861366666669104, 2.0240278866542687e-06, 2.0253029830996638e-07, 0.000515413240081554]  \n",
       "1000    [0.0027754433333332905, 2.914282339638128e-05, 1.308229080621004e-08, 0.0005179479256657485]  \n",
       "10000    [0.027546186666669803, 0.0002797261382468547, 2.324934966768666e-09, 0.0005182375628613131]  "
      ]
     },
     "metadata": {},
     "output_type": "display_data"
    }
   ],
   "source": [
    "scn = lambda series, prec: [np.format_float_scientific(item, precision=prec) for item in v(series)]\n",
    "benchres = benchmark\n",
    "show_allrowscols(benchres, fullcolwidth=True)"
   ]
  },
  {
   "cell_type": "code",
   "execution_count": 27,
   "metadata": {
    "ExecuteTime": {
     "end_time": "2021-06-01T19:32:57.296357Z",
     "start_time": "2021-06-01T19:32:57.265412Z"
    }
   },
   "outputs": [],
   "source": [
    "benchres.to_excel('PdfNumericTRDEcomparison.xlsx')"
   ]
  },
  {
   "cell_type": "markdown",
   "metadata": {},
   "source": [
    "## Run Times"
   ]
  },
  {
   "cell_type": "code",
   "execution_count": 28,
   "metadata": {
    "ExecuteTime": {
     "end_time": "2021-06-01T19:32:57.312448Z",
     "start_time": "2021-06-01T19:32:57.297327Z"
    }
   },
   "outputs": [],
   "source": [
    "# runtimes for methods and tools\n",
    "times = benchres.applymap(lambda x: x[0])\n",
    "times.loc[:,times.columns.str.contains('W')] = times.loc[:,times.columns.str.contains('W')]/2"
   ]
  },
  {
   "cell_type": "code",
   "execution_count": 29,
   "metadata": {
    "ExecuteTime": {
     "end_time": "2021-06-01T19:32:57.327570Z",
     "start_time": "2021-06-01T19:32:57.313475Z"
    }
   },
   "outputs": [
    {
     "data": {
      "text/html": [
       "<div>\n",
       "<style scoped>\n",
       "    .dataframe tbody tr th:only-of-type {\n",
       "        vertical-align: middle;\n",
       "    }\n",
       "\n",
       "    .dataframe tbody tr th {\n",
       "        vertical-align: top;\n",
       "    }\n",
       "\n",
       "    .dataframe thead th {\n",
       "        text-align: right;\n",
       "    }\n",
       "</style>\n",
       "<table border=\"1\" class=\"dataframe\">\n",
       "  <thead>\n",
       "    <tr style=\"text-align: right;\">\n",
       "      <th></th>\n",
       "      <th>W py</th>\n",
       "      <th>W pynp</th>\n",
       "      <th>DEcpy 1e-15</th>\n",
       "      <th>DEcpy 1e-10</th>\n",
       "      <th>DEcpy 1e-3</th>\n",
       "      <th>DEcn 1e-15</th>\n",
       "      <th>DEcn 1e-10</th>\n",
       "      <th>DEcn 1e-3</th>\n",
       "      <th>DEn 1e-15</th>\n",
       "      <th>DEn 1e-10</th>\n",
       "      <th>DEn 1e-3</th>\n",
       "    </tr>\n",
       "  </thead>\n",
       "  <tbody>\n",
       "    <tr>\n",
       "      <th>10</th>\n",
       "      <td>0.002165</td>\n",
       "      <td>0.000421</td>\n",
       "      <td>0.014255</td>\n",
       "      <td>0.009420</td>\n",
       "      <td>0.003228</td>\n",
       "      <td>0.000498</td>\n",
       "      <td>0.000307</td>\n",
       "      <td>0.000111</td>\n",
       "      <td>0.000136</td>\n",
       "      <td>0.000096</td>\n",
       "      <td>0.000052</td>\n",
       "    </tr>\n",
       "    <tr>\n",
       "      <th>100</th>\n",
       "      <td>0.019782</td>\n",
       "      <td>0.003032</td>\n",
       "      <td>0.132705</td>\n",
       "      <td>0.082132</td>\n",
       "      <td>0.027798</td>\n",
       "      <td>0.003869</td>\n",
       "      <td>0.002510</td>\n",
       "      <td>0.000855</td>\n",
       "      <td>0.001145</td>\n",
       "      <td>0.000748</td>\n",
       "      <td>0.000286</td>\n",
       "    </tr>\n",
       "    <tr>\n",
       "      <th>1000</th>\n",
       "      <td>0.191696</td>\n",
       "      <td>0.027389</td>\n",
       "      <td>1.300851</td>\n",
       "      <td>0.842056</td>\n",
       "      <td>0.276819</td>\n",
       "      <td>0.038264</td>\n",
       "      <td>0.024858</td>\n",
       "      <td>0.008387</td>\n",
       "      <td>0.011181</td>\n",
       "      <td>0.007226</td>\n",
       "      <td>0.002775</td>\n",
       "    </tr>\n",
       "    <tr>\n",
       "      <th>10000</th>\n",
       "      <td>1.885312</td>\n",
       "      <td>0.258840</td>\n",
       "      <td>12.890725</td>\n",
       "      <td>8.236109</td>\n",
       "      <td>2.750981</td>\n",
       "      <td>0.380231</td>\n",
       "      <td>0.245959</td>\n",
       "      <td>0.083391</td>\n",
       "      <td>0.109685</td>\n",
       "      <td>0.072384</td>\n",
       "      <td>0.027546</td>\n",
       "    </tr>\n",
       "  </tbody>\n",
       "</table>\n",
       "</div>"
      ],
      "text/plain": [
       "           W py    W pynp  DEcpy 1e-15  DEcpy 1e-10  DEcpy 1e-3  DEcn 1e-15  \\\n",
       "10     0.002165  0.000421     0.014255     0.009420    0.003228    0.000498   \n",
       "100    0.019782  0.003032     0.132705     0.082132    0.027798    0.003869   \n",
       "1000   0.191696  0.027389     1.300851     0.842056    0.276819    0.038264   \n",
       "10000  1.885312  0.258840    12.890725     8.236109    2.750981    0.380231   \n",
       "\n",
       "       DEcn 1e-10  DEcn 1e-3  DEn 1e-15  DEn 1e-10  DEn 1e-3  \n",
       "10       0.000307   0.000111   0.000136   0.000096  0.000052  \n",
       "100      0.002510   0.000855   0.001145   0.000748  0.000286  \n",
       "1000     0.024858   0.008387   0.011181   0.007226  0.002775  \n",
       "10000    0.245959   0.083391   0.109685   0.072384  0.027546  "
      ]
     },
     "execution_count": 29,
     "metadata": {},
     "output_type": "execute_result"
    }
   ],
   "source": [
    "# average runtimes\n",
    "times"
   ]
  },
  {
   "cell_type": "code",
   "execution_count": 30,
   "metadata": {
    "ExecuteTime": {
     "end_time": "2021-06-01T19:32:57.343365Z",
     "start_time": "2021-06-01T19:32:57.329402Z"
    }
   },
   "outputs": [
    {
     "data": {
      "text/html": [
       "<div>\n",
       "<style scoped>\n",
       "    .dataframe tbody tr th:only-of-type {\n",
       "        vertical-align: middle;\n",
       "    }\n",
       "\n",
       "    .dataframe tbody tr th {\n",
       "        vertical-align: top;\n",
       "    }\n",
       "\n",
       "    .dataframe thead th {\n",
       "        text-align: right;\n",
       "    }\n",
       "</style>\n",
       "<table border=\"1\" class=\"dataframe\">\n",
       "  <thead>\n",
       "    <tr style=\"text-align: right;\">\n",
       "      <th></th>\n",
       "      <th>W py</th>\n",
       "      <th>W pynp</th>\n",
       "      <th>DEcpy 1e-15</th>\n",
       "      <th>DEcpy 1e-10</th>\n",
       "      <th>DEcpy 1e-3</th>\n",
       "      <th>DEcn 1e-15</th>\n",
       "      <th>DEcn 1e-10</th>\n",
       "      <th>DEcn 1e-3</th>\n",
       "      <th>DEn 1e-15</th>\n",
       "      <th>DEn 1e-10</th>\n",
       "      <th>DEn 1e-3</th>\n",
       "    </tr>\n",
       "  </thead>\n",
       "  <tbody>\n",
       "    <tr>\n",
       "      <th>10</th>\n",
       "      <td>1.057902</td>\n",
       "      <td>0.259001</td>\n",
       "      <td>1.075607</td>\n",
       "      <td>0.992373</td>\n",
       "      <td>1.520358</td>\n",
       "      <td>8.082338</td>\n",
       "      <td>2.615881</td>\n",
       "      <td>1.523073</td>\n",
       "      <td>1.185503</td>\n",
       "      <td>2.299925</td>\n",
       "      <td>23.138180</td>\n",
       "    </tr>\n",
       "    <tr>\n",
       "      <th>100</th>\n",
       "      <td>3.121087</td>\n",
       "      <td>9.114996</td>\n",
       "      <td>1.918828</td>\n",
       "      <td>0.150948</td>\n",
       "      <td>0.879955</td>\n",
       "      <td>0.445957</td>\n",
       "      <td>1.399367</td>\n",
       "      <td>1.085620</td>\n",
       "      <td>1.191249</td>\n",
       "      <td>0.831563</td>\n",
       "      <td>0.707364</td>\n",
       "    </tr>\n",
       "    <tr>\n",
       "      <th>1000</th>\n",
       "      <td>1.756660</td>\n",
       "      <td>1.636573</td>\n",
       "      <td>1.071668</td>\n",
       "      <td>1.181194</td>\n",
       "      <td>0.216491</td>\n",
       "      <td>0.661498</td>\n",
       "      <td>0.591552</td>\n",
       "      <td>0.412096</td>\n",
       "      <td>1.200244</td>\n",
       "      <td>0.669217</td>\n",
       "      <td>1.050024</td>\n",
       "    </tr>\n",
       "    <tr>\n",
       "      <th>10000</th>\n",
       "      <td>0.136944</td>\n",
       "      <td>0.420352</td>\n",
       "      <td>0.473118</td>\n",
       "      <td>0.677711</td>\n",
       "      <td>0.234124</td>\n",
       "      <td>0.085530</td>\n",
       "      <td>0.061974</td>\n",
       "      <td>0.125952</td>\n",
       "      <td>0.266354</td>\n",
       "      <td>0.545267</td>\n",
       "      <td>1.015480</td>\n",
       "    </tr>\n",
       "  </tbody>\n",
       "</table>\n",
       "</div>"
      ],
      "text/plain": [
       "           W py    W pynp  DEcpy 1e-15  DEcpy 1e-10  DEcpy 1e-3  DEcn 1e-15  \\\n",
       "10     1.057902  0.259001     1.075607     0.992373    1.520358    8.082338   \n",
       "100    3.121087  9.114996     1.918828     0.150948    0.879955    0.445957   \n",
       "1000   1.756660  1.636573     1.071668     1.181194    0.216491    0.661498   \n",
       "10000  0.136944  0.420352     0.473118     0.677711    0.234124    0.085530   \n",
       "\n",
       "       DEcn 1e-10  DEcn 1e-3  DEn 1e-15  DEn 1e-10   DEn 1e-3  \n",
       "10       2.615881   1.523073   1.185503   2.299925  23.138180  \n",
       "100      1.399367   1.085620   1.191249   0.831563   0.707364  \n",
       "1000     0.591552   0.412096   1.200244   0.669217   1.050024  \n",
       "10000    0.061974   0.125952   0.266354   0.545267   1.015480  "
      ]
     },
     "execution_count": 30,
     "metadata": {},
     "output_type": "execute_result"
    }
   ],
   "source": [
    "# relative stdev = variation coefficients in %\n",
    "delta = benchres.applymap(lambda x:x[1]/x[0])\n",
    "delta.multiply(100)"
   ]
  },
  {
   "cell_type": "code",
   "execution_count": 31,
   "metadata": {
    "ExecuteTime": {
     "end_time": "2021-06-01T19:32:57.358358Z",
     "start_time": "2021-06-01T19:32:57.344362Z"
    }
   },
   "outputs": [
    {
     "data": {
      "text/plain": [
       "W py            1.885312\n",
       "W pynp          0.258840\n",
       "DEcpy 1e-15    12.890725\n",
       "DEcpy 1e-10     8.236109\n",
       "DEcpy 1e-3      2.750981\n",
       "DEcn 1e-15      0.380231\n",
       "DEcn 1e-10      0.245959\n",
       "DEcn 1e-3       0.083391\n",
       "DEn 1e-15       0.109685\n",
       "DEn 1e-10       0.072384\n",
       "DEn 1e-3        0.027546\n",
       "dtype: float64"
      ]
     },
     "execution_count": 31,
     "metadata": {},
     "output_type": "execute_result"
    }
   ],
   "source": [
    "tmax = times.max()\n",
    "tmax"
   ]
  },
  {
   "cell_type": "code",
   "execution_count": 32,
   "metadata": {
    "ExecuteTime": {
     "end_time": "2021-06-01T19:32:57.374313Z",
     "start_time": "2021-06-01T19:32:57.359356Z"
    }
   },
   "outputs": [
    {
     "data": {
      "text/html": [
       "<div>\n",
       "<style scoped>\n",
       "    .dataframe tbody tr th:only-of-type {\n",
       "        vertical-align: middle;\n",
       "    }\n",
       "\n",
       "    .dataframe tbody tr th {\n",
       "        vertical-align: top;\n",
       "    }\n",
       "\n",
       "    .dataframe thead th {\n",
       "        text-align: right;\n",
       "    }\n",
       "</style>\n",
       "<table border=\"1\" class=\"dataframe\">\n",
       "  <thead>\n",
       "    <tr style=\"text-align: right;\">\n",
       "      <th></th>\n",
       "      <th>W py</th>\n",
       "      <th>W pynp</th>\n",
       "      <th>DEcpy 1e-15</th>\n",
       "      <th>DEcn 1e-15</th>\n",
       "      <th>DEn 1e-15</th>\n",
       "    </tr>\n",
       "  </thead>\n",
       "  <tbody>\n",
       "    <tr>\n",
       "      <th>10</th>\n",
       "      <td>2.17e-03</td>\n",
       "      <td>4.21e-04</td>\n",
       "      <td>1.43e-02</td>\n",
       "      <td>4.98e-04</td>\n",
       "      <td>1.36e-04</td>\n",
       "    </tr>\n",
       "    <tr>\n",
       "      <th>100</th>\n",
       "      <td>1.98e-02</td>\n",
       "      <td>3.03e-03</td>\n",
       "      <td>1.33e-01</td>\n",
       "      <td>3.87e-03</td>\n",
       "      <td>1.14e-03</td>\n",
       "    </tr>\n",
       "    <tr>\n",
       "      <th>1000</th>\n",
       "      <td>1.92e-01</td>\n",
       "      <td>2.74e-02</td>\n",
       "      <td>1.30e+00</td>\n",
       "      <td>3.83e-02</td>\n",
       "      <td>1.12e-02</td>\n",
       "    </tr>\n",
       "    <tr>\n",
       "      <th>10000</th>\n",
       "      <td>1.89e+00</td>\n",
       "      <td>2.59e-01</td>\n",
       "      <td>1.29e+01</td>\n",
       "      <td>3.80e-01</td>\n",
       "      <td>1.1e-01</td>\n",
       "    </tr>\n",
       "  </tbody>\n",
       "</table>\n",
       "</div>"
      ],
      "text/plain": [
       "           W py    W pynp DEcpy 1e-15 DEcn 1e-15 DEn 1e-15\n",
       "10     2.17e-03  4.21e-04    1.43e-02   4.98e-04  1.36e-04\n",
       "100    1.98e-02  3.03e-03    1.33e-01   3.87e-03  1.14e-03\n",
       "1000   1.92e-01  2.74e-02    1.30e+00   3.83e-02  1.12e-02\n",
       "10000  1.89e+00  2.59e-01    1.29e+01   3.80e-01   1.1e-01"
      ]
     },
     "execution_count": 32,
     "metadata": {},
     "output_type": "execute_result"
    }
   ],
   "source": [
    "times.loc[:,times.columns.str.contains('15') | times.columns.str.contains('W')].apply(lambda x: scn(x,2))"
   ]
  },
  {
   "cell_type": "markdown",
   "metadata": {},
   "source": [
    "## Accelerations"
   ]
  },
  {
   "cell_type": "code",
   "execution_count": 33,
   "metadata": {
    "ExecuteTime": {
     "end_time": "2021-06-01T19:32:57.390279Z",
     "start_time": "2021-06-01T19:32:57.375298Z"
    }
   },
   "outputs": [
    {
     "data": {
      "text/html": [
       "<div>\n",
       "<style scoped>\n",
       "    .dataframe tbody tr th:only-of-type {\n",
       "        vertical-align: middle;\n",
       "    }\n",
       "\n",
       "    .dataframe tbody tr th {\n",
       "        vertical-align: top;\n",
       "    }\n",
       "\n",
       "    .dataframe thead th {\n",
       "        text-align: right;\n",
       "    }\n",
       "</style>\n",
       "<table border=\"1\" class=\"dataframe\">\n",
       "  <thead>\n",
       "    <tr style=\"text-align: right;\">\n",
       "      <th></th>\n",
       "      <th>W py</th>\n",
       "      <th>W pynp</th>\n",
       "      <th>DEcpy 1e-15</th>\n",
       "      <th>DEcpy 1e-10</th>\n",
       "      <th>DEcpy 1e-3</th>\n",
       "      <th>DEcn 1e-15</th>\n",
       "      <th>DEcn 1e-10</th>\n",
       "      <th>DEcn 1e-3</th>\n",
       "      <th>DEn 1e-15</th>\n",
       "      <th>DEn 1e-10</th>\n",
       "      <th>DEn 1e-3</th>\n",
       "    </tr>\n",
       "  </thead>\n",
       "  <tbody>\n",
       "    <tr>\n",
       "      <th>10</th>\n",
       "      <td>870.69</td>\n",
       "      <td>4482.60</td>\n",
       "      <td>132.26</td>\n",
       "      <td>200.14</td>\n",
       "      <td>583.99</td>\n",
       "      <td>3788.46</td>\n",
       "      <td>6143.68</td>\n",
       "      <td>17044.17</td>\n",
       "      <td>13840.88</td>\n",
       "      <td>19540.29</td>\n",
       "      <td>36395.99</td>\n",
       "    </tr>\n",
       "    <tr>\n",
       "      <th>100</th>\n",
       "      <td>95.31</td>\n",
       "      <td>621.88</td>\n",
       "      <td>14.21</td>\n",
       "      <td>22.95</td>\n",
       "      <td>67.82</td>\n",
       "      <td>487.34</td>\n",
       "      <td>751.08</td>\n",
       "      <td>2205.79</td>\n",
       "      <td>1646.77</td>\n",
       "      <td>2520.65</td>\n",
       "      <td>6588.85</td>\n",
       "    </tr>\n",
       "    <tr>\n",
       "      <th>1000</th>\n",
       "      <td>9.83</td>\n",
       "      <td>68.83</td>\n",
       "      <td>1.45</td>\n",
       "      <td>2.24</td>\n",
       "      <td>6.81</td>\n",
       "      <td>49.27</td>\n",
       "      <td>75.84</td>\n",
       "      <td>224.78</td>\n",
       "      <td>168.62</td>\n",
       "      <td>260.92</td>\n",
       "      <td>679.28</td>\n",
       "    </tr>\n",
       "    <tr>\n",
       "      <th>10000</th>\n",
       "      <td>1.00</td>\n",
       "      <td>7.28</td>\n",
       "      <td>0.15</td>\n",
       "      <td>0.23</td>\n",
       "      <td>0.69</td>\n",
       "      <td>4.96</td>\n",
       "      <td>7.67</td>\n",
       "      <td>22.61</td>\n",
       "      <td>17.19</td>\n",
       "      <td>26.05</td>\n",
       "      <td>68.44</td>\n",
       "    </tr>\n",
       "  </tbody>\n",
       "</table>\n",
       "</div>"
      ],
      "text/plain": [
       "         W py   W pynp  DEcpy 1e-15  DEcpy 1e-10  DEcpy 1e-3  DEcn 1e-15  \\\n",
       "10     870.69  4482.60       132.26       200.14      583.99     3788.46   \n",
       "100     95.31   621.88        14.21        22.95       67.82      487.34   \n",
       "1000     9.83    68.83         1.45         2.24        6.81       49.27   \n",
       "10000    1.00     7.28         0.15         0.23        0.69        4.96   \n",
       "\n",
       "       DEcn 1e-10  DEcn 1e-3  DEn 1e-15  DEn 1e-10  DEn 1e-3  \n",
       "10        6143.68   17044.17   13840.88   19540.29  36395.99  \n",
       "100        751.08    2205.79    1646.77    2520.65   6588.85  \n",
       "1000        75.84     224.78     168.62     260.92    679.28  \n",
       "10000        7.67      22.61      17.19      26.05     68.44  "
      ]
     },
     "execution_count": 33,
     "metadata": {},
     "output_type": "execute_result"
    }
   ],
   "source": [
    "Accel = times.applymap(lambda x: times.loc['10000','W py']/x).round(2)\n",
    "Accel"
   ]
  },
  {
   "cell_type": "code",
   "execution_count": 34,
   "metadata": {
    "ExecuteTime": {
     "end_time": "2021-06-01T19:32:57.406231Z",
     "start_time": "2021-06-01T19:32:57.391236Z"
    }
   },
   "outputs": [
    {
     "data": {
      "text/html": [
       "<div>\n",
       "<style scoped>\n",
       "    .dataframe tbody tr th:only-of-type {\n",
       "        vertical-align: middle;\n",
       "    }\n",
       "\n",
       "    .dataframe tbody tr th {\n",
       "        vertical-align: top;\n",
       "    }\n",
       "\n",
       "    .dataframe thead th {\n",
       "        text-align: right;\n",
       "    }\n",
       "</style>\n",
       "<table border=\"1\" class=\"dataframe\">\n",
       "  <thead>\n",
       "    <tr style=\"text-align: right;\">\n",
       "      <th></th>\n",
       "      <th>W py</th>\n",
       "      <th>W pynp</th>\n",
       "      <th>DEcpy 1e-15</th>\n",
       "      <th>DEcn 1e-15</th>\n",
       "      <th>DEn 1e-15</th>\n",
       "      <th>DEn 1e-10</th>\n",
       "      <th>DEn 1e-3</th>\n",
       "    </tr>\n",
       "  </thead>\n",
       "  <tbody>\n",
       "    <tr>\n",
       "      <th>10000</th>\n",
       "      <td>1.0</td>\n",
       "      <td>7.28</td>\n",
       "      <td>0.15</td>\n",
       "      <td>4.96</td>\n",
       "      <td>17.19</td>\n",
       "      <td>26.05</td>\n",
       "      <td>68.44</td>\n",
       "    </tr>\n",
       "  </tbody>\n",
       "</table>\n",
       "</div>"
      ],
      "text/plain": [
       "       W py  W pynp  DEcpy 1e-15  DEcn 1e-15  DEn 1e-15  DEn 1e-10  DEn 1e-3\n",
       "10000   1.0    7.28         0.15        4.96      17.19      26.05     68.44"
      ]
     },
     "execution_count": 34,
     "metadata": {},
     "output_type": "execute_result"
    }
   ],
   "source": [
    "Accel.loc[:,Accel.columns.str.contains('15') | Accel.columns.str.contains('W') | Accel.columns.str.contains('DEn')].loc[['10000']]"
   ]
  },
  {
   "cell_type": "code",
   "execution_count": 35,
   "metadata": {
    "ExecuteTime": {
     "end_time": "2021-06-01T19:32:57.422189Z",
     "start_time": "2021-06-01T19:32:57.407195Z"
    }
   },
   "outputs": [
    {
     "data": {
      "text/plain": [
       "1.8533269416666662"
      ]
     },
     "execution_count": 35,
     "metadata": {},
     "output_type": "execute_result"
    }
   ],
   "source": [
    "# reference runtime for pdf \n",
    "tWpy = 3.7066538833333325/2 # times.loc['10000','W py']\n",
    "tWpy"
   ]
  },
  {
   "cell_type": "code",
   "execution_count": 36,
   "metadata": {
    "ExecuteTime": {
     "end_time": "2021-06-01T19:32:57.452811Z",
     "start_time": "2021-06-01T19:32:57.423179Z"
    }
   },
   "outputs": [
    {
     "data": {
      "text/html": [
       "<div>\n",
       "<style scoped>\n",
       "    .dataframe tbody tr th:only-of-type {\n",
       "        vertical-align: middle;\n",
       "    }\n",
       "\n",
       "    .dataframe tbody tr th {\n",
       "        vertical-align: top;\n",
       "    }\n",
       "\n",
       "    .dataframe thead th {\n",
       "        text-align: right;\n",
       "    }\n",
       "</style>\n",
       "<table border=\"1\" class=\"dataframe\">\n",
       "  <thead>\n",
       "    <tr style=\"text-align: right;\">\n",
       "      <th></th>\n",
       "      <th>W py</th>\n",
       "      <th>W pynp</th>\n",
       "      <th>DEcpy 1e-15</th>\n",
       "      <th>DEcpy 1e-10</th>\n",
       "      <th>DEcpy 1e-3</th>\n",
       "      <th>DEcn 1e-15</th>\n",
       "      <th>DEcn 1e-10</th>\n",
       "      <th>DEcn 1e-3</th>\n",
       "      <th>DEn 1e-15</th>\n",
       "      <th>DEn 1e-10</th>\n",
       "      <th>DEn 1e-3</th>\n",
       "    </tr>\n",
       "  </thead>\n",
       "  <tbody>\n",
       "    <tr>\n",
       "      <th>10</th>\n",
       "      <td>855.92</td>\n",
       "      <td>4406.55</td>\n",
       "      <td>130.02</td>\n",
       "      <td>196.74</td>\n",
       "      <td>574.08</td>\n",
       "      <td>3724.18</td>\n",
       "      <td>6039.45</td>\n",
       "      <td>16755.00</td>\n",
       "      <td>13606.06</td>\n",
       "      <td>19208.78</td>\n",
       "      <td>35778.51</td>\n",
       "    </tr>\n",
       "    <tr>\n",
       "      <th>100</th>\n",
       "      <td>93.69</td>\n",
       "      <td>611.33</td>\n",
       "      <td>13.97</td>\n",
       "      <td>22.57</td>\n",
       "      <td>66.67</td>\n",
       "      <td>479.08</td>\n",
       "      <td>738.34</td>\n",
       "      <td>2168.37</td>\n",
       "      <td>1618.83</td>\n",
       "      <td>2477.89</td>\n",
       "      <td>6477.07</td>\n",
       "    </tr>\n",
       "    <tr>\n",
       "      <th>1000</th>\n",
       "      <td>9.67</td>\n",
       "      <td>67.67</td>\n",
       "      <td>1.42</td>\n",
       "      <td>2.20</td>\n",
       "      <td>6.70</td>\n",
       "      <td>48.44</td>\n",
       "      <td>74.56</td>\n",
       "      <td>220.96</td>\n",
       "      <td>165.75</td>\n",
       "      <td>256.49</td>\n",
       "      <td>667.76</td>\n",
       "    </tr>\n",
       "    <tr>\n",
       "      <th>10000</th>\n",
       "      <td>0.98</td>\n",
       "      <td>7.16</td>\n",
       "      <td>0.14</td>\n",
       "      <td>0.23</td>\n",
       "      <td>0.67</td>\n",
       "      <td>4.87</td>\n",
       "      <td>7.54</td>\n",
       "      <td>22.22</td>\n",
       "      <td>16.90</td>\n",
       "      <td>25.60</td>\n",
       "      <td>67.28</td>\n",
       "    </tr>\n",
       "  </tbody>\n",
       "</table>\n",
       "</div>"
      ],
      "text/plain": [
       "         W py   W pynp  DEcpy 1e-15  DEcpy 1e-10  DEcpy 1e-3  DEcn 1e-15  \\\n",
       "10     855.92  4406.55       130.02       196.74      574.08     3724.18   \n",
       "100     93.69   611.33        13.97        22.57       66.67      479.08   \n",
       "1000     9.67    67.67         1.42         2.20        6.70       48.44   \n",
       "10000    0.98     7.16         0.14         0.23        0.67        4.87   \n",
       "\n",
       "       DEcn 1e-10  DEcn 1e-3  DEn 1e-15  DEn 1e-10  DEn 1e-3  \n",
       "10        6039.45   16755.00   13606.06   19208.78  35778.51  \n",
       "100        738.34    2168.37    1618.83    2477.89   6477.07  \n",
       "1000        74.56     220.96     165.75     256.49    667.76  \n",
       "10000        7.54      22.22      16.90      25.60     67.28  "
      ]
     },
     "execution_count": 36,
     "metadata": {},
     "output_type": "execute_result"
    }
   ],
   "source": [
    "Accel = times.applymap(lambda x: tWpy/x).round(2)\n",
    "Accel"
   ]
  },
  {
   "cell_type": "markdown",
   "metadata": {},
   "source": [
    "## Errors"
   ]
  },
  {
   "cell_type": "code",
   "execution_count": 37,
   "metadata": {
    "ExecuteTime": {
     "end_time": "2021-06-01T19:32:57.468760Z",
     "start_time": "2021-06-01T19:32:57.453808Z"
    }
   },
   "outputs": [],
   "source": [
    "errs = benchres.applymap(lambda x: scn(x[2:4], 0))"
   ]
  },
  {
   "cell_type": "code",
   "execution_count": 38,
   "metadata": {
    "ExecuteTime": {
     "end_time": "2021-06-01T19:32:57.484622Z",
     "start_time": "2021-06-01T19:32:57.469687Z"
    }
   },
   "outputs": [
    {
     "data": {
      "text/html": [
       "<div>\n",
       "<style scoped>\n",
       "    .dataframe tbody tr th:only-of-type {\n",
       "        vertical-align: middle;\n",
       "    }\n",
       "\n",
       "    .dataframe tbody tr th {\n",
       "        vertical-align: top;\n",
       "    }\n",
       "\n",
       "    .dataframe thead th {\n",
       "        text-align: right;\n",
       "    }\n",
       "</style>\n",
       "<table border=\"1\" class=\"dataframe\">\n",
       "  <thead>\n",
       "    <tr style=\"text-align: right;\">\n",
       "      <th></th>\n",
       "      <th>W py</th>\n",
       "      <th>W pynp</th>\n",
       "      <th>DEcpy 1e-15</th>\n",
       "      <th>DEcn 1e-15</th>\n",
       "      <th>DEn 1e-15</th>\n",
       "      <th>DEn 1e-10</th>\n",
       "      <th>DEn 1e-3</th>\n",
       "    </tr>\n",
       "  </thead>\n",
       "  <tbody>\n",
       "    <tr>\n",
       "      <th>10</th>\n",
       "      <td>[5.e-07, 9.e-04]</td>\n",
       "      <td>[5.e-07, 9.e-04]</td>\n",
       "      <td>[8.e-17, 1.e-15]</td>\n",
       "      <td>[1.e-16, 2.e-15]</td>\n",
       "      <td>[7.e-17, 2.e-15]</td>\n",
       "      <td>[6.e-14, 5.e-12]</td>\n",
       "      <td>[3.e-06, 2.e-04]</td>\n",
       "    </tr>\n",
       "    <tr>\n",
       "      <th>100</th>\n",
       "      <td>[5.e-07, 9.e-04]</td>\n",
       "      <td>[5.e-07, 9.e-04]</td>\n",
       "      <td>[1.e-17, 2.e-15]</td>\n",
       "      <td>[2.e-17, 2.e-15]</td>\n",
       "      <td>[7.e-19, 3.e-15]</td>\n",
       "      <td>[3.e-14, 1.e-10]</td>\n",
       "      <td>[2.e-07, 5.e-04]</td>\n",
       "    </tr>\n",
       "    <tr>\n",
       "      <th>1000</th>\n",
       "      <td>[5.e-07, 9.e-04]</td>\n",
       "      <td>[5.e-07, 9.e-04]</td>\n",
       "      <td>[0.e+00, 4.e-15]</td>\n",
       "      <td>[0.e+00, 3.e-15]</td>\n",
       "      <td>[0.e+00, 4.e-15]</td>\n",
       "      <td>[5.e-16, 1.e-10]</td>\n",
       "      <td>[1.e-08, 5.e-04]</td>\n",
       "    </tr>\n",
       "    <tr>\n",
       "      <th>10000</th>\n",
       "      <td>[5.e-07, 9.e-04]</td>\n",
       "      <td>[5.e-07, 9.e-04]</td>\n",
       "      <td>[0.e+00, 3.e-15]</td>\n",
       "      <td>[0.e+00, 4.e-15]</td>\n",
       "      <td>[0.e+00, 4.e-15]</td>\n",
       "      <td>[0.e+00, 3.e-10]</td>\n",
       "      <td>[2.e-09, 5.e-04]</td>\n",
       "    </tr>\n",
       "  </tbody>\n",
       "</table>\n",
       "</div>"
      ],
      "text/plain": [
       "                   W py            W pynp       DEcpy 1e-15        DEcn 1e-15  \\\n",
       "10     [5.e-07, 9.e-04]  [5.e-07, 9.e-04]  [8.e-17, 1.e-15]  [1.e-16, 2.e-15]   \n",
       "100    [5.e-07, 9.e-04]  [5.e-07, 9.e-04]  [1.e-17, 2.e-15]  [2.e-17, 2.e-15]   \n",
       "1000   [5.e-07, 9.e-04]  [5.e-07, 9.e-04]  [0.e+00, 4.e-15]  [0.e+00, 3.e-15]   \n",
       "10000  [5.e-07, 9.e-04]  [5.e-07, 9.e-04]  [0.e+00, 3.e-15]  [0.e+00, 4.e-15]   \n",
       "\n",
       "              DEn 1e-15         DEn 1e-10          DEn 1e-3  \n",
       "10     [7.e-17, 2.e-15]  [6.e-14, 5.e-12]  [3.e-06, 2.e-04]  \n",
       "100    [7.e-19, 3.e-15]  [3.e-14, 1.e-10]  [2.e-07, 5.e-04]  \n",
       "1000   [0.e+00, 4.e-15]  [5.e-16, 1.e-10]  [1.e-08, 5.e-04]  \n",
       "10000  [0.e+00, 4.e-15]  [0.e+00, 3.e-10]  [2.e-09, 5.e-04]  "
      ]
     },
     "execution_count": 38,
     "metadata": {},
     "output_type": "execute_result"
    }
   ],
   "source": [
    "errs.loc[:,errs.columns.str.contains('15') | errs.columns.str.contains('W') | errs.columns.str.contains('DEn')]"
   ]
  },
  {
   "cell_type": "markdown",
   "metadata": {},
   "source": [
    "## Plots"
   ]
  },
  {
   "cell_type": "code",
   "execution_count": 39,
   "metadata": {
    "ExecuteTime": {
     "end_time": "2021-06-01T19:33:05.163090Z",
     "start_time": "2021-06-01T19:32:57.485620Z"
    },
    "scrolled": true
   },
   "outputs": [
    {
     "data": {
      "image/png": "[encoded data removed]",
      "text/plain": [
       "<Figure size 432x288 with 1 Axes>"
      ]
     },
     "metadata": {},
     "output_type": "display_data"
    },
    {
     "data": {
      "image/png": "[encoded data removed]",
      "text/plain": [
       "<Figure size 432x288 with 1 Axes>"
      ]
     },
     "metadata": {},
     "output_type": "display_data"
    },
    {
     "data": {
      "image/png": "[encoded data removed]",
      "text/plain": [
       "<Figure size 432x288 with 1 Axes>"
      ]
     },
     "metadata": {},
     "output_type": "display_data"
    },
    {
     "data": {
      "image/png": "[encoded data removed]",
      "text/plain": [
       "<Figure size 432x288 with 1 Axes>"
      ]
     },
     "metadata": {},
     "output_type": "display_data"
    },
    {
     "data": {
      "image/png": "[encoded data removed]",
      "text/plain": [
       "<Figure size 432x288 with 1 Axes>"
      ]
     },
     "metadata": {},
     "output_type": "display_data"
    },
    {
     "data": {
      "image/png": "[encoded data removed]",
      "text/plain": [
       "<Figure size 432x288 with 1 Axes>"
      ]
     },
     "metadata": {},
     "output_type": "display_data"
    },
    {
     "data": {
      "image/png": "[encoded data removed]",
      "text/plain": [
       "<Figure size 432x288 with 1 Axes>"
      ]
     },
     "metadata": {},
     "output_type": "display_data"
    },
    {
     "data": {
      "image/png": "[encoded data removed]",
      "text/plain": [
       "<Figure size 432x288 with 1 Axes>"
      ]
     },
     "metadata": {},
     "output_type": "display_data"
    },
    {
     "data": {
      "image/png": "[encoded data removed]",
      "text/plain": [
       "<Figure size 432x288 with 1 Axes>"
      ]
     },
     "metadata": {},
     "output_type": "display_data"
    },
    {
     "data": {
      "image/png": "[encoded data removed]",
      "text/plain": [
       "<Figure size 432x288 with 1 Axes>"
      ]
     },
     "metadata": {},
     "output_type": "display_data"
    },
    {
     "data": {
      "image/png": "[encoded data removed]",
      "text/plain": [
       "<Figure size 432x288 with 1 Axes>"
      ]
     },
     "metadata": {},
     "output_type": "display_data"
    }
   ],
   "source": [
    "xh = dx['1000']\n",
    "for method in pdf.keys():\n",
    "    yh = [pdf[method](x) for x in xh]\n",
    "    plt.plot(xh,yh)\n",
    "    plt.title(method)\n",
    "    plt.show();"
   ]
  },
  {
   "cell_type": "markdown",
   "metadata": {},
   "source": [
    "***\n",
    "<a id=references></a>\n",
    "# <font color=brown> References </font>\n",
    "This notebook belongs to supplementary materials of the paper submitted to Journal of Statistical Computation and\n",
    "Simulation and available at  <https://arxiv.org/abs/2105.04427>.\n",
    "* Hančová, M., Gajdoš, A., Hanč, J. (2021). A practical, effective calculation of gamma difference distributions with open data science tools. arXiv:2105.04427 [cs, math, stat], https://arxiv.org/abs/2105.04427\n",
    "\n",
    "### Abstract of the paper\n",
    "\n",
    "At present, there is still no officially accepted and extensively verified implementation of computing the gamma difference distribution allowing unequal shape parameters. We explore four computational ways of the gamma difference distribution with the different shape parameters resulting from time series kriging, a forecasting approach based on the best linear unbiased prediction, and linear mixed models. The results of our numerical study, with emphasis on using open data science tools, demonstrate that our open tool implemented in high-performance Python(with Numba) is exponentially fast, highly accurate, and very reliable. It combines numerical inversion of the characteristic function and the trapezoidal rule with the double exponential oscillatory transformation (DE quadrature). At the double 53-bit precision, our tool outperformed the speed of the analytical computation based on Tricomi's $U(a, b, z)$ function in CAS software (commercial Mathematica, open SageMath) by 1.5-2 orders. At the precision of scientific numerical computational tools, it exceeded open SciPy, NumPy, and commercial MATLAB 5-10 times. The potential future application of our tool for a mixture of characteristic functions could open new possibilities for fast data analysis based on exact probability distributions in areas like multidimensional statistics, measurement uncertainty analysis in metrology as well as in financial mathematics and risk analysis. "
   ]
  }
 ],
 "metadata": {
  "hide_input": false,
  "kernelspec": {
   "display_name": "Python 3",
   "language": "python",
   "name": "python3"
  },
  "language_info": {
   "codemirror_mode": {
    "name": "ipython",
    "version": 3
   },
   "file_extension": ".py",
   "mimetype": "text/x-python",
   "name": "python",
   "nbconvert_exporter": "python",
   "pygments_lexer": "ipython3",
   "version": "3.7.7"
  },
  "toc": {
   "base_numbering": 1,
   "nav_menu": {},
   "number_sections": true,
   "sideBar": true,
   "skip_h1_title": false,
   "title_cell": "Table of Contents",
   "title_sidebar": "Contents",
   "toc_cell": false,
   "toc_position": {
    "height": "calc(100% - 180px)",
    "left": "10px",
    "top": "150px",
    "width": "263.273px"
   },
   "toc_section_display": true,
   "toc_window_display": false
  },
  "varInspector": {
   "cols": {
    "lenName": 16,
    "lenType": 16,
    "lenVar": 40
   },
   "kernels_config": {
    "python": {
     "delete_cmd_postfix": "",
     "delete_cmd_prefix": "del ",
     "library": "var_list.py",
     "varRefreshCmd": "print(var_dic_list())"
    },
    "r": {
     "delete_cmd_postfix": ") ",
     "delete_cmd_prefix": "rm(",
     "library": "var_list.r",
     "varRefreshCmd": "cat(var_dic_list()) "
    }
   },
   "types_to_exclude": [
    "module",
    "function",
    "builtin_function_or_method",
    "instance",
    "_Feature"
   ],
   "window_display": false
  }
 },
 "nbformat": 4,
 "nbformat_minor": 1
}
