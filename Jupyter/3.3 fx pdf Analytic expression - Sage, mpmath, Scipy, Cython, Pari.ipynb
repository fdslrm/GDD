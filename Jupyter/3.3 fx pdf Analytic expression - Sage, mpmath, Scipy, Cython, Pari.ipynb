{
 "cells": [
  {
   "cell_type": "markdown",
   "metadata": {},
   "source": [
    "**Authors:** Jozef Hanč, Martina Hančová  <br> *[Faculty of Science](https://www.upjs.sk/en/faculty-of-science/?prefferedLang=EN), P. J. Šafárik University in Košice, Slovakia* <br> emails: [martina.hancova@upjs.sk](mailto:martina.hancova@upjs.sk)\n",
    "***\n",
    "\n",
    "# <font color = brown, size=6> $\\mathcal{GDD}$ pdf analytic expression</font>\n",
    "\n",
    "<font size=4> Computational tools: </font>  **<font size=4>Sage, SciPy, mpmath, Cython, Pari</font>**  "
   ]
  },
  {
   "cell_type": "code",
   "execution_count": 1,
   "metadata": {
    "ExecuteTime": {
     "end_time": "2021-04-22T17:30:05.960563Z",
     "start_time": "2021-04-22T17:30:05.956561Z"
    }
   },
   "outputs": [
    {
     "data": {
      "text/plain": [
       "{'sagelib': '9.2',\n",
       " 'scipy': '1.5.2',\n",
       " 'mpmath': '1.1.0',\n",
       " 'numpy': '1.19.1',\n",
       " 'cython': '0.29.21',\n",
       " 'matplotlib': '3.3.1',\n",
       " 'pari': '2.11.4.p0',\n",
       " 'gsl': '2.6',\n",
       " 'arb': '2.16.0.p0',\n",
       " 'python': '3.7.7'}"
      ]
     },
     "execution_count": 1,
     "metadata": {},
     "output_type": "execute_result"
    }
   ],
   "source": [
    "N = 4 #test up to 10^N pdf values\n",
    "\n",
    "import numpy as np\n",
    "import pandas as pd\n",
    "from numpy import inf as INF, array as v\n",
    "vec = lambda LIST: vector(LIST)\n",
    "import matplotlib.pyplot as plt\n",
    "plt.style.use('seaborn-whitegrid')\n",
    "\n",
    "from time import time\n",
    "import math, cmath\n",
    "import scipy\n",
    "import platform as pt\n",
    "\n",
    "# approximate formulas for precisions expressed in bits and decimal places\n",
    "bits = lambda d:round((d+1)*ln(10)/ln(2)) \n",
    "dps = lambda b:round(b*ln(2)/ln(10) - 1)\n",
    "\n",
    "# accuracy in Python\n",
    "def abs_errs(df1, df2):\n",
    "    N = len(df1)\n",
    "    errors = [abs(df1[i]-df2[i]) for i in range(N)]\n",
    "    return errors\n",
    "\n",
    "ver = installed_packages()\n",
    "tools = ['sagelib', 'scipy', 'mpmath', 'numpy', 'cython', 'matplotlib', 'pari', 'gsl', 'arb']\n",
    "vers = {tool:ver[tool] for tool in tools}\n",
    "vers['python'] = pt.python_version()\n",
    "vers"
   ]
  },
  {
   "cell_type": "markdown",
   "metadata": {},
   "source": [
    "## $\\mathcal{GDD}$ pdf  $-$ analytic expression\n",
    "\n",
    "$\n",
    "f(z)=\n",
    "\\dfrac{\\beta_{1}^{\\alpha_{1}} \\beta_{2}^{\\alpha_{2}}}{\\beta^{\\alpha-1}}\n",
    "\\begin{cases}\n",
    "{\\dfrac{e^{z \\beta_{2}}}{\\Gamma\\left(\\alpha_{2}\\right)} U\\left(1-\\alpha_{2}, 2-\\alpha,-z \\beta\\right),} & {z<0} \\\\[12pt]\n",
    "\\begin{array}{cc} \n",
    "\\frac{\\Gamma(\\alpha-1)}{\\beta^{a / 2-1} \\Gamma\\left(\\alpha_{1}\\right) \\Gamma\\left(\\alpha_{2}\\right)}, & \\scriptstyle 1<\\alpha \\\\ \n",
    "\\infty,  & \\scriptstyle 0<\\alpha \\leq 1 \n",
    "\\end{array}, & z=0 \\\\[12pt] \n",
    "{\\dfrac{e^{-z \\beta_{1}}}{\\Gamma\\left(\\alpha_{1}\\right)} U\\left(1-\\alpha_{1}, 2-\\alpha, z \\beta\\right),} & {z>0}\n",
    "\\end{cases}\n",
    "$\n",
    "\n",
    "\n",
    "$\\alpha=\\alpha_{1}+\\alpha_{2}, \\quad \\beta=\\beta_{1}+\\beta_{2}$"
   ]
  },
  {
   "cell_type": "code",
   "execution_count": 2,
   "metadata": {
    "ExecuteTime": {
     "end_time": "2021-04-22T17:30:06.056117Z",
     "start_time": "2021-04-22T17:30:05.960563Z"
    }
   },
   "outputs": [],
   "source": [
    "# pre-calulated analytic quadruple precision results from Pari GP, cross-checked in mpmath and Arb\n",
    "dpari = {str(10**(n+1)):np.loadtxt('data/Pari_Sage_pdf'+str(10**(n+1))+'.txt', delimiter=',',\n",
    "                                   dtype=np.longdouble) for n in range(N)}\n",
    "dx = {str(10**(n+1)):np.loadtxt('data/xvalues'+str(10**(n+1))+'.txt', dtype=np.longdouble) for n in range(N)}"
   ]
  },
  {
   "cell_type": "markdown",
   "metadata": {},
   "source": [
    "## Sage"
   ]
  },
  {
   "cell_type": "code",
   "execution_count": 3,
   "metadata": {
    "ExecuteTime": {
     "end_time": "2021-04-22T17:30:09.344995Z",
     "start_time": "2021-04-22T17:30:09.332402Z"
    }
   },
   "outputs": [],
   "source": [
    "a1, b1 = 0.5, 1.0\n",
    "a2, b2 = 8.5, 93.0\n",
    "\n",
    "a, b = a1+a2, b1+b2\n",
    "c = b1^a1*b2^a2/b^(a-1)\n",
    "cp, cm = c/gamma(a1), c/gamma(a2)\n",
    "\n",
    "A1, B1 = QQ(a1), QQ(b1)\n",
    "A2, B2 = QQ(a2), QQ(b2)\n",
    "A, B = A1+A2, B1+B2\n",
    "C = B1^A1*B2^A2/B^(A-1)\n",
    "Cp, Cm = C/gamma(A1), C/gamma(A2)\n",
    "\n",
    "# defining f(z) - analytic and with numerical conversion .n()\n",
    "fmS = lambda z: Cm*exp( z*B2)*hypergeometric_U(1-A2,2-A,-B*z)\n",
    "f0S = lambda z: C*gamma(A-1)/(gamma(A1)*gamma(A2)) if A>1 else oo\n",
    "fpS= lambda z: Cp*exp(-z*B1)*hypergeometric_U(1-A1,2-A, B*z)\n",
    "\n",
    "fSage = lambda z: fpS(z) if z > 0 else fmS(z) if z < 0 else f0S(z)\n",
    "fSagen = lambda z: fSage(z).n()\n",
    "\n",
    "# defining f(z) - analytic with fast_float command\n",
    "ffm(z) = Cm*exp( z*B2)*hypergeometric_U(1-A2,2-A,-B*z); fmf = fast_float(ffm(z),z)\n",
    "ff0(z) = C*gamma(A-1)/(gamma(A1)*gamma(A2)); f0f = fast_float(ff0(z),z)\n",
    "ffp(z) = Cp*exp(-z*B1)*hypergeometric_U(1-A1,2-A, B*z); fpf = fast_float(ffp(z),z)\n",
    "\n",
    "fSagef = lambda z: fpf(z) if z > 0 else fmf(z) if z < 0 else f0f(z)\n",
    "\n",
    "# defining f(z) - numerical 53 bit\n",
    "fms = lambda z: cm*exp( z*b2)*hypergeometric_U(1-a2,2-a,-b*z)\n",
    "f0s = lambda z: c*gamma(a-1)/(gamma(a1)*gamma(a2)) if a>1 else oo\n",
    "fps= lambda z: cp*exp(-z*b1)*hypergeometric_U(1-a1,2-a, b*z)\n",
    "\n",
    "fsage = lambda z: fps(z) if z > 0 else fms(z) if z < 0 else f0s(z)\n",
    "\n",
    "# defining f(z) - numerical 53 bit with fast_float command\n",
    "fmm(z) = cm*exp( z*b2)*hypergeometric_U(1-a2,2-a,-b*z); fmmf = fast_float(fmm(z),z)\n",
    "f00(z) = c*gamma(a-1)/(gamma(a1)*gamma(a2)); f00f = fast_float(f00(z),z)\n",
    "fpp(z) = cp*exp(-z*b1)*hypergeometric_U(1-a1,2-a, b*z); fppf = fast_float(fpp(z),z)\n",
    "\n",
    "fsagef = lambda z: fppf(z) if z > 0 else fmmf(z) if z < 0 else f00f(z)"
   ]
  },
  {
   "cell_type": "code",
   "execution_count": 4,
   "metadata": {
    "scrolled": true
   },
   "outputs": [
    {
     "data": {
      "text/plain": [
       "(5595818096650401/6095689385410816*sqrt(93)*e^(-1)*hypergeometric_U(1/2, -7, 94)/sqrt(pi),\n",
       " 0.181543521756319,\n",
       " 0.18154352175631908,\n",
       " 0.181543521756319,\n",
       " 0.18154352175631908)"
      ]
     },
     "execution_count": 4,
     "metadata": {},
     "output_type": "execute_result"
    }
   ],
   "source": [
    "# cross-checking values\n",
    "fSage(1), fSagen(1), fSagef(1), fsage(1), fsagef(1)"
   ]
  },
  {
   "cell_type": "code",
   "execution_count": 5,
   "metadata": {},
   "outputs": [
    {
     "name": "stdout",
     "output_type": "stream",
     "text": [
      "466 µs ± 4.86 µs per loop (mean ± std. dev. of 7 runs, 1000 loops each)\n",
      "47.3 µs ± 465 ns per loop (mean ± std. dev. of 7 runs, 10000 loops each)\n",
      "65.7 µs ± 1.02 µs per loop (mean ± std. dev. of 7 runs, 10000 loops each)\n",
      "47.6 µs ± 671 ns per loop (mean ± std. dev. of 7 runs, 10000 loops each)\n"
     ]
    }
   ],
   "source": [
    "# approx. runtimes per one calculation\n",
    "%timeit fSagen(1)\n",
    "%timeit fSagef(1)\n",
    "%timeit fsage(1)\n",
    "%timeit fsagef(1)"
   ]
  },
  {
   "cell_type": "markdown",
   "metadata": {},
   "source": [
    "## mpmath"
   ]
  },
  {
   "cell_type": "code",
   "execution_count": 6,
   "metadata": {
    "ExecuteTime": {
     "end_time": "2021-04-11T20:26:44.571278Z",
     "start_time": "2021-04-11T20:26:44.557395Z"
    }
   },
   "outputs": [],
   "source": [
    "# setting 53 bits precision - 15 dps\n",
    "import mpmath as mp\n",
    "mp.mp.dps = 15\n",
    "#mp.mp.prec = 128\n",
    "mp.mp.pretty = True         # use str for output"
   ]
  },
  {
   "cell_type": "code",
   "execution_count": 7,
   "metadata": {},
   "outputs": [],
   "source": [
    "cmm = mp.mpf(b1**a1*b2**a2/b**(a-1))\n",
    "cpm, cmm = cmm/mp.gamma(a1), cmm/mp.gamma(a2)\n",
    "\n",
    "# defining f(z)\n",
    "fmmp = lambda z: cmm*exp( z*b2)*mp.hyperu(1-a2,2-a,-b*z)\n",
    "f0mp = lambda z: cmm*mp.gamma(a-1)/(mp.gamma(a1)*mp.gamma(a2)) if a>1 else oo\n",
    "fpmp = lambda z: cpm*exp(-z*b1)*mp.hyperu(1-a1,2-a, b*z)\n",
    "\n",
    "fmpm  = lambda z: fpmp(z) if z > 0 else fmmp(z) if z < 0 else f0mp(z)"
   ]
  },
  {
   "cell_type": "code",
   "execution_count": 8,
   "metadata": {},
   "outputs": [
    {
     "data": {
      "text/plain": [
       "0.181543521756319"
      ]
     },
     "execution_count": 8,
     "metadata": {},
     "output_type": "execute_result"
    }
   ],
   "source": [
    "fmpm(1)"
   ]
  },
  {
   "cell_type": "markdown",
   "metadata": {},
   "source": [
    "## SciPy"
   ]
  },
  {
   "cell_type": "code",
   "execution_count": 9,
   "metadata": {
    "ExecuteTime": {
     "end_time": "2021-04-22T17:30:06.422487Z",
     "start_time": "2021-04-22T17:30:06.263009Z"
    }
   },
   "outputs": [],
   "source": [
    "# importing scientific python library for fast computing\n",
    "from scipy import special as sp"
   ]
  },
  {
   "cell_type": "code",
   "execution_count": 10,
   "metadata": {
    "ExecuteTime": {
     "end_time": "2021-04-22T17:30:06.437634Z",
     "start_time": "2021-04-22T17:30:06.423010Z"
    }
   },
   "outputs": [],
   "source": [
    "ccp, ccm = c/sp.gamma(a1), c/sp.gamma(a2)\n",
    "\n",
    "# defining f(z)\n",
    "fmsc = lambda z: ccm*math.exp( z*b2)*sp.hyperu(1-a2,2-a,-b*z)\n",
    "f0sc = lambda z: c*sp.gamma(a-1)/(sp.gamma(a1)*sp.gamma(a2)) if a>1 else INF\n",
    "fpsc = lambda z: ccp*math.exp(-z*b1)*sp.hyperu(1-a1,2-a, b*z)\n",
    "\n",
    "fsci  = lambda z: fpsc(z) if z > 0 else fmsc(z) if z < 0 else f0sc(z)"
   ]
  },
  {
   "cell_type": "code",
   "execution_count": 11,
   "metadata": {
    "ExecuteTime": {
     "end_time": "2021-04-22T17:30:08.679283Z",
     "start_time": "2021-04-22T17:30:08.662358Z"
    }
   },
   "outputs": [
    {
     "data": {
      "text/plain": [
       "0.1815435217563192"
      ]
     },
     "execution_count": 11,
     "metadata": {},
     "output_type": "execute_result"
    }
   ],
   "source": [
    "fsci(1)"
   ]
  },
  {
   "cell_type": "markdown",
   "metadata": {},
   "source": [
    "## Cython"
   ]
  },
  {
   "cell_type": "code",
   "execution_count": 12,
   "metadata": {},
   "outputs": [],
   "source": [
    "%load_ext Cython"
   ]
  },
  {
   "cell_type": "code",
   "execution_count": 13,
   "metadata": {},
   "outputs": [],
   "source": [
    "%%cython\n",
    "cimport scipy.special.cython_special as cs\n",
    "cimport libc.math as lc\n",
    "from numpy.math cimport INFINITY\n",
    "\n",
    "def fcyt(double z, double a1, double a2, double b1, double b2):\n",
    "    cdef:\n",
    "        double a = a1+a2\n",
    "        double b = b1+b2\n",
    "        double c = lc.pow(b1,a1)*lc.pow(b2,a2)/lc.pow(b,a-1)\n",
    "        double d = c*cs.gamma(a-1)/(cs.gamma(a1)*cs.gamma(a2))\n",
    "        double cp = c/cs.gamma(a1)\n",
    "        double cm = c/cs.gamma(a2)\n",
    "        double value\n",
    "        \n",
    "    if z<0:\n",
    "        value = cm*lc.exp( z*b2)*cs.hyperu(1-a2, 2-a,-b*z) \n",
    "    elif z>0:\n",
    "        value = cp*lc.exp(-z*b1)*cs.hyperu(1-a1, 2-a, b*z)\n",
    "    else:\n",
    "        if a>1: value = d\n",
    "        else: value = INFINITY\n",
    "    return value"
   ]
  },
  {
   "cell_type": "code",
   "execution_count": 14,
   "metadata": {},
   "outputs": [],
   "source": [
    "fcy = lambda t: fcyt(t, a1, a2, b1, b2)"
   ]
  },
  {
   "cell_type": "code",
   "execution_count": 15,
   "metadata": {},
   "outputs": [
    {
     "data": {
      "text/plain": [
       "0.1815435217563192"
      ]
     },
     "execution_count": 15,
     "metadata": {},
     "output_type": "execute_result"
    }
   ],
   "source": [
    "fcy(1)"
   ]
  },
  {
   "cell_type": "markdown",
   "metadata": {},
   "source": [
    "## Pilot testing of implementations"
   ]
  },
  {
   "cell_type": "code",
   "execution_count": 16,
   "metadata": {},
   "outputs": [],
   "source": [
    "pdf = {'Sage.n':fSagen, 'Sagef': fSagef, 'sagef': fsagef, 'mpmath':fmpm, 'Sage53': fsage, 'scipy': fsci, 'cython':fcy}"
   ]
  },
  {
   "cell_type": "code",
   "execution_count": 17,
   "metadata": {
    "ExecuteTime": {
     "end_time": "2021-04-22T17:30:38.642752Z",
     "start_time": "2021-04-22T17:30:09.770152Z"
    }
   },
   "outputs": [
    {
     "name": "stdout",
     "output_type": "stream",
     "text": [
      "Sage.n <class 'sage.rings.real_mpfr.RealNumber'> f(0.320000000000000)= 0.585131740893960\n",
      "2.15 ms ± 1.85 µs per loop (mean ± std. dev. of 3 runs, 10 loops each)\n",
      "\n",
      "Sagef <class 'float'> f(0.320000000000000)= 0.58513174089396\n",
      "1.81 ms ± 26.4 µs per loop (mean ± std. dev. of 3 runs, 10 loops each)\n",
      "\n",
      "sagef <class 'float'> f(0.320000000000000)= 0.58513174089396\n",
      "1.86 ms ± 67.5 µs per loop (mean ± std. dev. of 3 runs, 10 loops each)\n",
      "\n",
      "mpmath <class 'sage.libs.mpmath.ext_main.mpf'> f(0.320000000000000)= 0.58513174089396\n",
      "1.81 ms ± 7.97 µs per loop (mean ± std. dev. of 3 runs, 10 loops each)\n",
      "\n",
      "Sage53 <class 'sage.rings.real_mpfr.RealNumber'> f(0.320000000000000)= 0.585131740893960\n",
      "1.79 ms ± 14.9 µs per loop (mean ± std. dev. of 3 runs, 10 loops each)\n",
      "\n",
      "scipy <class 'numpy.float64'> f(0.320000000000000)= 0.5851317408939598\n",
      "124 µs ± 9.04 µs per loop (mean ± std. dev. of 3 runs, 10 loops each)\n",
      "\n",
      "cython <class 'float'> f(0.320000000000000)= 0.5851317408939598\n",
      "84.1 µs ± 424 ns per loop (mean ± std. dev. of 3 runs, 10 loops each)\n",
      "\n"
     ]
    }
   ],
   "source": [
    "t = 0.32\n",
    "runtimes = []\n",
    "for key, fun in pdf.items():\n",
    "    print(key, type(fun(t)), 'f('+str(t)+')=', fun(t))\n",
    "    rt = %timeit -r 3 -n 10 -oq fun(t)\n",
    "    runtimes += [rt.average]\n",
    "    %timeit -r 3 -n 10 fun(t)\n",
    "    print('')"
   ]
  },
  {
   "cell_type": "code",
   "execution_count": 18,
   "metadata": {
    "scrolled": true
   },
   "outputs": [
    {
     "data": {
      "text/plain": [
       "[0.002215833333078384,\n",
       " 0.0017752100002932517,\n",
       " 0.001820656666677678,\n",
       " 0.0018745000003643024,\n",
       " 0.0017945499998556138,\n",
       " 0.00011837999991257674,\n",
       " 8.376666664844379e-05]"
      ]
     },
     "execution_count": 18,
     "metadata": {},
     "output_type": "execute_result"
    }
   ],
   "source": [
    "runtimes"
   ]
  },
  {
   "cell_type": "code",
   "execution_count": 19,
   "metadata": {},
   "outputs": [
    {
     "data": {
      "text/plain": [
       "[1.0,\n",
       " 1.248209131715315,\n",
       " 1.217051722948853,\n",
       " 1.1820930022127205,\n",
       " 1.2347570885495895,\n",
       " 18.717970389548654,\n",
       " 26.45244727688528]"
      ]
     },
     "execution_count": 19,
     "metadata": {},
     "output_type": "execute_result"
    }
   ],
   "source": [
    "list(runtimes[0]/v(runtimes))"
   ]
  },
  {
   "cell_type": "markdown",
   "metadata": {},
   "source": [
    "# Benchmark"
   ]
  },
  {
   "cell_type": "code",
   "execution_count": 20,
   "metadata": {
    "ExecuteTime": {
     "end_time": "2021-04-22T17:30:40.414199Z",
     "start_time": "2021-04-22T17:30:40.397605Z"
    }
   },
   "outputs": [],
   "source": [
    "# testing x values\n",
    "points = lambda n: [-3,-3+7/(n-1),..,4]"
   ]
  },
  {
   "cell_type": "code",
   "execution_count": 21,
   "metadata": {
    "ExecuteTime": {
     "end_time": "2021-04-22T17:33:07.411922Z",
     "start_time": "2021-04-22T17:33:07.395888Z"
    }
   },
   "outputs": [],
   "source": [
    "methods = list(pdf.keys())\n",
    "benchmark = pd.DataFrame(index =['10', '100', '1000', '10000'], \n",
    "            columns = methods)"
   ]
  },
  {
   "cell_type": "code",
   "execution_count": 22,
   "metadata": {},
   "outputs": [
    {
     "data": {
      "text/plain": [
       "['Sage.n', 'Sagef', 'sagef', 'mpmath', 'Sage53', 'scipy', 'cython']"
      ]
     },
     "execution_count": 22,
     "metadata": {},
     "output_type": "execute_result"
    }
   ],
   "source": [
    "list(pdf.keys())"
   ]
  },
  {
   "cell_type": "code",
   "execution_count": 23,
   "metadata": {
    "ExecuteTime": {
     "end_time": "2021-04-22T17:41:19.848998Z",
     "start_time": "2021-04-22T17:33:19.700268Z"
    },
    "scrolled": false
   },
   "outputs": [
    {
     "name": "stdout",
     "output_type": "stream",
     "text": [
      "10 Sage.n\n",
      "10 Sagef\n",
      "10 sagef\n",
      "10 mpmath\n",
      "10 Sage53\n",
      "10 scipy\n",
      "10 cython\n",
      "*************************\n",
      "10  runtime = 0.984874963760376 s\n",
      "Sage.n (0.0096, 0.00025, 6.3e-124, 3.1e-17)\n",
      "Sagef (0.0051, 0.000086, 6.3e-124, 3.1e-17)\n",
      "sagef (0.0051, 0.00017, 1.3e-122, 1.9e-16)\n",
      "mpmath (0.0056, 0.000039, 6.3e-124, 3.1e-17)\n",
      "Sage53 (0.0055, 0.000068, 6.3e-124, 3.1e-17)\n",
      "scipy (0.00045, 0.000018, 2.4e-122, 1.9e-16)\n",
      "cython (0.000093, 1.5e-6, 2.4e-122, 1.9e-16)\n",
      "*************************\n",
      "*************************\n",
      "100 Sage.n\n",
      "100 Sagef\n",
      "100 sagef\n",
      "100 mpmath\n",
      "100 Sage53\n",
      "100 scipy\n",
      "100 cython\n",
      "*************************\n",
      "100  runtime = 8.566607475280762 s\n",
      "Sage.n (0.086, 0.0031, 6.3e-124, 1.1e-15)\n",
      "Sagef (0.037, 0.00020, 6.3e-124, 1.8e-15)\n",
      "sagef (0.037, 0.00021, 1.3e-122, 1.3e-15)\n",
      "mpmath (0.041, 0.00071, 6.3e-124, 1.5e-15)\n",
      "Sage53 (0.039, 0.00042, 6.3e-124, 1.5e-15)\n",
      "scipy (0.0039, 0.000029, 2.4e-122, 2.4e-11)\n",
      "cython (0.00056, 0.000013, 2.4e-122, 2.4e-11)\n",
      "*************************\n",
      "*************************\n",
      "1000 Sage.n\n",
      "1000 Sagef\n",
      "1000 sagef\n",
      "1000 mpmath\n",
      "1000 Sage53\n",
      "1000 scipy\n",
      "1000 cython\n",
      "*************************\n",
      "1000  runtime = 83.4917938709259 s\n",
      "Sage.n (0.83, 0.028, 6.3e-124, 2.7e-15)\n",
      "Sagef (0.37, 0.00028, 6.3e-124, 2.4e-15)\n",
      "sagef (0.37, 0.00079, 1.3e-122, 2.3e-15)\n",
      "mpmath (0.40, 0.000098, 6.3e-124, 2.3e-15)\n",
      "Sage53 (0.39, 0.00022, 6.3e-124, 2.3e-15)\n",
      "scipy (0.039, 0.000071, 2.4e-122, 3.5e-10)\n",
      "cython (0.0059, 0.000025, 2.4e-122, 3.5e-10)\n",
      "*************************\n",
      "*************************\n",
      "10000 Sage.n\n",
      "10000 Sagef\n",
      "10000 sagef\n",
      "10000 mpmath\n",
      "10000 Sage53\n",
      "10000 scipy\n",
      "10000 cython\n",
      "*************************\n",
      "10000  runtime = 843.6247234344482 s\n",
      "Sage.n (8.6, 0.46, 0.00, 3.1e-15)\n",
      "Sagef (3.8, 0.013, 0.00, 2.8e-15)\n",
      "sagef (3.7, 0.0019, 0.00, 2.8e-15)\n",
      "mpmath (4.1, 0.0054, 6.3e-124, 2.7e-15)\n",
      "Sage53 (3.9, 0.0048, 0.00, 2.7e-15)\n",
      "scipy (0.39, 0.00073, 2.4e-122, 4.8e-10)\n",
      "cython (0.058, 0.00025, 2.4e-122, 4.8e-10)\n",
      "*************************\n",
      "*************************\n"
     ]
    }
   ],
   "source": [
    "# start time\n",
    "tic = time()\n",
    "for n in range(4):\n",
    "    sample = points(10^(n+1))\n",
    "    for method, fun in pdf.items():\n",
    "        rt = %timeit -r 3 -n 10 -oq [fun(xh) for xh in sample]\n",
    "        print(10^(n+1), method)\n",
    "        dm = v([fun(xh) for xh in sample]).astype(np.longdouble)\n",
    "        dp = dpari[str(10^(n+1))]\n",
    "        ch_abs = abs_errs(dm,dp)\n",
    "        benchmark.at[str(10^(n+1)),method] = [rt.average, rt.stdev, min(ch_abs), max(ch_abs)]\n",
    "    #end time\n",
    "    toc = time()-tic; \n",
    "    print(25*'*')\n",
    "    print(10**(n+1),' runtime =',toc,'s')\n",
    "    for method in list(pdf.keys()):\n",
    "        print(method, vec(benchmark.loc[str(10**(n+1)),method]).n(digits = 2))\n",
    "    print(25*'*')\n",
    "    print(25*'*')"
   ]
  },
  {
   "cell_type": "markdown",
   "metadata": {},
   "source": [
    "# Results"
   ]
  },
  {
   "cell_type": "code",
   "execution_count": 24,
   "metadata": {
    "ExecuteTime": {
     "end_time": "2021-04-22T17:41:48.297572Z",
     "start_time": "2021-04-22T17:41:48.264236Z"
    }
   },
   "outputs": [
    {
     "data": {
      "text/html": [
       "<div>\n",
       "<style scoped>\n",
       "    .dataframe tbody tr th:only-of-type {\n",
       "        vertical-align: middle;\n",
       "    }\n",
       "\n",
       "    .dataframe tbody tr th {\n",
       "        vertical-align: top;\n",
       "    }\n",
       "\n",
       "    .dataframe thead th {\n",
       "        text-align: right;\n",
       "    }\n",
       "</style>\n",
       "<table border=\"1\" class=\"dataframe\">\n",
       "  <thead>\n",
       "    <tr style=\"text-align: right;\">\n",
       "      <th></th>\n",
       "      <th>Sage.n</th>\n",
       "      <th>Sagef</th>\n",
       "      <th>sagef</th>\n",
       "      <th>mpmath</th>\n",
       "      <th>Sage53</th>\n",
       "      <th>scipy</th>\n",
       "      <th>cython</th>\n",
       "    </tr>\n",
       "  </thead>\n",
       "  <tbody>\n",
       "    <tr>\n",
       "      <th>10</th>\n",
       "      <td>[0.009588489999684195, 0.00025050930672308524,...</td>\n",
       "      <td>[0.005084900000171425, 8.64577957052308e-05, 6...</td>\n",
       "      <td>[0.00511957666676608, 0.00017094077052086745, ...</td>\n",
       "      <td>[0.005596186666662106, 3.873485421518859e-05, ...</td>\n",
       "      <td>[0.005454096666411109, 6.77601304313055e-05, 6...</td>\n",
       "      <td>[0.00044597666662108776, 1.826810964670279e-05...</td>\n",
       "      <td>[9.32366664831837e-05, 1.4818082026821212e-06,...</td>\n",
       "    </tr>\n",
       "    <tr>\n",
       "      <th>100</th>\n",
       "      <td>[0.0860049000000193, 0.0031065166125302385, 6....</td>\n",
       "      <td>[0.03654373999985788, 0.00020177984991357644, ...</td>\n",
       "      <td>[0.036809526666669014, 0.00021029598888960195,...</td>\n",
       "      <td>[0.040904919999835934, 0.0007060419008664383, ...</td>\n",
       "      <td>[0.039143619999958905, 0.0004224077192604092, ...</td>\n",
       "      <td>[0.003924666666474271, 2.9298377918303398e-05,...</td>\n",
       "      <td>[0.000562990000131928, 1.3421373252397381e-05,...</td>\n",
       "    </tr>\n",
       "    <tr>\n",
       "      <th>1000</th>\n",
       "      <td>[0.8330543366665855, 0.02825220348808231, 6.32...</td>\n",
       "      <td>[0.37136791000011726, 0.0002816920380177585, 6...</td>\n",
       "      <td>[0.37111743999994357, 0.0007937707039788673, 1...</td>\n",
       "      <td>[0.4031980166665259, 9.830548907531482e-05, 6....</td>\n",
       "      <td>[0.3910407666667501, 0.000224913402858317, 6.3...</td>\n",
       "      <td>[0.03934012333338615, 7.117919025106239e-05, 2...</td>\n",
       "      <td>[0.005851816666593852, 2.4892532145760814e-05,...</td>\n",
       "    </tr>\n",
       "    <tr>\n",
       "      <th>10000</th>\n",
       "      <td>[8.562566959999822, 0.45930051398667693, 0.0, ...</td>\n",
       "      <td>[3.756837010000163, 0.013084106530604468, 0.0,...</td>\n",
       "      <td>[3.7358952033335906, 0.0018601345360791616, 0....</td>\n",
       "      <td>[4.054545016666573, 0.0053875873458806576, 6.3...</td>\n",
       "      <td>[3.930299429999771, 0.0047766701627461276, 0.0...</td>\n",
       "      <td>[0.39322508666664363, 0.0007337544592898617, 2...</td>\n",
       "      <td>[0.05768693999974251, 0.00025242953479259387, ...</td>\n",
       "    </tr>\n",
       "  </tbody>\n",
       "</table>\n",
       "</div>"
      ],
      "text/plain": [
       "                                                  Sage.n  \\\n",
       "10     [0.009588489999684195, 0.00025050930672308524,...   \n",
       "100    [0.0860049000000193, 0.0031065166125302385, 6....   \n",
       "1000   [0.8330543366665855, 0.02825220348808231, 6.32...   \n",
       "10000  [8.562566959999822, 0.45930051398667693, 0.0, ...   \n",
       "\n",
       "                                                   Sagef  \\\n",
       "10     [0.005084900000171425, 8.64577957052308e-05, 6...   \n",
       "100    [0.03654373999985788, 0.00020177984991357644, ...   \n",
       "1000   [0.37136791000011726, 0.0002816920380177585, 6...   \n",
       "10000  [3.756837010000163, 0.013084106530604468, 0.0,...   \n",
       "\n",
       "                                                   sagef  \\\n",
       "10     [0.00511957666676608, 0.00017094077052086745, ...   \n",
       "100    [0.036809526666669014, 0.00021029598888960195,...   \n",
       "1000   [0.37111743999994357, 0.0007937707039788673, 1...   \n",
       "10000  [3.7358952033335906, 0.0018601345360791616, 0....   \n",
       "\n",
       "                                                  mpmath  \\\n",
       "10     [0.005596186666662106, 3.873485421518859e-05, ...   \n",
       "100    [0.040904919999835934, 0.0007060419008664383, ...   \n",
       "1000   [0.4031980166665259, 9.830548907531482e-05, 6....   \n",
       "10000  [4.054545016666573, 0.0053875873458806576, 6.3...   \n",
       "\n",
       "                                                  Sage53  \\\n",
       "10     [0.005454096666411109, 6.77601304313055e-05, 6...   \n",
       "100    [0.039143619999958905, 0.0004224077192604092, ...   \n",
       "1000   [0.3910407666667501, 0.000224913402858317, 6.3...   \n",
       "10000  [3.930299429999771, 0.0047766701627461276, 0.0...   \n",
       "\n",
       "                                                   scipy  \\\n",
       "10     [0.00044597666662108776, 1.826810964670279e-05...   \n",
       "100    [0.003924666666474271, 2.9298377918303398e-05,...   \n",
       "1000   [0.03934012333338615, 7.117919025106239e-05, 2...   \n",
       "10000  [0.39322508666664363, 0.0007337544592898617, 2...   \n",
       "\n",
       "                                                  cython  \n",
       "10     [9.32366664831837e-05, 1.4818082026821212e-06,...  \n",
       "100    [0.000562990000131928, 1.3421373252397381e-05,...  \n",
       "1000   [0.005851816666593852, 2.4892532145760814e-05,...  \n",
       "10000  [0.05768693999974251, 0.00025242953479259387, ...  "
      ]
     },
     "execution_count": 24,
     "metadata": {},
     "output_type": "execute_result"
    }
   ],
   "source": [
    "scn = lambda series, prec: [np.format_float_scientific(item, precision=prec) for item in v(series)]\n",
    "benchres = benchmark\n",
    "benchres"
   ]
  },
  {
   "cell_type": "markdown",
   "metadata": {},
   "source": [
    "# cross-checking: plots"
   ]
  },
  {
   "cell_type": "code",
   "execution_count": 25,
   "metadata": {},
   "outputs": [
    {
     "data": {
      "image/png": "[encoded data removed]",
      "text/plain": [
       "<Figure size 432x288 with 1 Axes>"
      ]
     },
     "metadata": {},
     "output_type": "display_data"
    },
    {
     "data": {
      "image/png": "[encoded data removed]",
      "text/plain": [
       "<Figure size 432x288 with 1 Axes>"
      ]
     },
     "metadata": {},
     "output_type": "display_data"
    },
    {
     "data": {
      "image/png": "[encoded data removed]",
      "text/plain": [
       "<Figure size 432x288 with 1 Axes>"
      ]
     },
     "metadata": {},
     "output_type": "display_data"
    },
    {
     "data": {
      "image/png": "[encoded data removed]",
      "text/plain": [
       "<Figure size 432x288 with 1 Axes>"
      ]
     },
     "metadata": {},
     "output_type": "display_data"
    },
    {
     "data": {
      "image/png": "[encoded data removed]",
      "text/plain": [
       "<Figure size 432x288 with 1 Axes>"
      ]
     },
     "metadata": {},
     "output_type": "display_data"
    },
    {
     "data": {
      "image/png": "[encoded data removed]",
      "text/plain": [
       "<Figure size 432x288 with 1 Axes>"
      ]
     },
     "metadata": {},
     "output_type": "display_data"
    },
    {
     "data": {
      "image/png": "[encoded data removed]",
      "text/plain": [
       "<Figure size 432x288 with 1 Axes>"
      ]
     },
     "metadata": {},
     "output_type": "display_data"
    }
   ],
   "source": [
    "xh = points(1000)\n",
    "for method in pdf.keys():\n",
    "    yh = [pdf[method](x) for x in xh]\n",
    "    plt.plot(xh,yh)\n",
    "    plt.title(method)\n",
    "    plt.show();"
   ]
  },
  {
   "cell_type": "markdown",
   "metadata": {},
   "source": [
    "## Run Times"
   ]
  },
  {
   "cell_type": "code",
   "execution_count": 26,
   "metadata": {
    "ExecuteTime": {
     "end_time": "2021-04-22T17:42:06.539785Z",
     "start_time": "2021-04-22T17:42:06.522993Z"
    }
   },
   "outputs": [
    {
     "data": {
      "text/html": [
       "<div>\n",
       "<style scoped>\n",
       "    .dataframe tbody tr th:only-of-type {\n",
       "        vertical-align: middle;\n",
       "    }\n",
       "\n",
       "    .dataframe tbody tr th {\n",
       "        vertical-align: top;\n",
       "    }\n",
       "\n",
       "    .dataframe thead th {\n",
       "        text-align: right;\n",
       "    }\n",
       "</style>\n",
       "<table border=\"1\" class=\"dataframe\">\n",
       "  <thead>\n",
       "    <tr style=\"text-align: right;\">\n",
       "      <th></th>\n",
       "      <th>Sage.n</th>\n",
       "      <th>Sagef</th>\n",
       "      <th>sagef</th>\n",
       "      <th>mpmath</th>\n",
       "      <th>Sage53</th>\n",
       "      <th>scipy</th>\n",
       "      <th>cython</th>\n",
       "    </tr>\n",
       "  </thead>\n",
       "  <tbody>\n",
       "    <tr>\n",
       "      <th>10</th>\n",
       "      <td>0.009588</td>\n",
       "      <td>0.005085</td>\n",
       "      <td>0.005120</td>\n",
       "      <td>0.005596</td>\n",
       "      <td>0.005454</td>\n",
       "      <td>0.000446</td>\n",
       "      <td>0.000093</td>\n",
       "    </tr>\n",
       "    <tr>\n",
       "      <th>100</th>\n",
       "      <td>0.086005</td>\n",
       "      <td>0.036544</td>\n",
       "      <td>0.036810</td>\n",
       "      <td>0.040905</td>\n",
       "      <td>0.039144</td>\n",
       "      <td>0.003925</td>\n",
       "      <td>0.000563</td>\n",
       "    </tr>\n",
       "    <tr>\n",
       "      <th>1000</th>\n",
       "      <td>0.833054</td>\n",
       "      <td>0.371368</td>\n",
       "      <td>0.371117</td>\n",
       "      <td>0.403198</td>\n",
       "      <td>0.391041</td>\n",
       "      <td>0.039340</td>\n",
       "      <td>0.005852</td>\n",
       "    </tr>\n",
       "    <tr>\n",
       "      <th>10000</th>\n",
       "      <td>8.562567</td>\n",
       "      <td>3.756837</td>\n",
       "      <td>3.735895</td>\n",
       "      <td>4.054545</td>\n",
       "      <td>3.930299</td>\n",
       "      <td>0.393225</td>\n",
       "      <td>0.057687</td>\n",
       "    </tr>\n",
       "  </tbody>\n",
       "</table>\n",
       "</div>"
      ],
      "text/plain": [
       "         Sage.n     Sagef     sagef    mpmath    Sage53     scipy    cython\n",
       "10     0.009588  0.005085  0.005120  0.005596  0.005454  0.000446  0.000093\n",
       "100    0.086005  0.036544  0.036810  0.040905  0.039144  0.003925  0.000563\n",
       "1000   0.833054  0.371368  0.371117  0.403198  0.391041  0.039340  0.005852\n",
       "10000  8.562567  3.756837  3.735895  4.054545  3.930299  0.393225  0.057687"
      ]
     },
     "execution_count": 26,
     "metadata": {},
     "output_type": "execute_result"
    }
   ],
   "source": [
    "# average runtimes\n",
    "times = benchres.applymap(lambda x: x[0])\n",
    "times"
   ]
  },
  {
   "cell_type": "code",
   "execution_count": 27,
   "metadata": {},
   "outputs": [
    {
     "data": {
      "text/html": [
       "<div>\n",
       "<style scoped>\n",
       "    .dataframe tbody tr th:only-of-type {\n",
       "        vertical-align: middle;\n",
       "    }\n",
       "\n",
       "    .dataframe tbody tr th {\n",
       "        vertical-align: top;\n",
       "    }\n",
       "\n",
       "    .dataframe thead th {\n",
       "        text-align: right;\n",
       "    }\n",
       "</style>\n",
       "<table border=\"1\" class=\"dataframe\">\n",
       "  <thead>\n",
       "    <tr style=\"text-align: right;\">\n",
       "      <th></th>\n",
       "      <th>Sage.n</th>\n",
       "      <th>Sagef</th>\n",
       "      <th>sagef</th>\n",
       "      <th>mpmath</th>\n",
       "      <th>Sage53</th>\n",
       "      <th>scipy</th>\n",
       "      <th>cython</th>\n",
       "    </tr>\n",
       "  </thead>\n",
       "  <tbody>\n",
       "    <tr>\n",
       "      <th>10</th>\n",
       "      <td>2.612604</td>\n",
       "      <td>1.700285</td>\n",
       "      <td>3.338963</td>\n",
       "      <td>0.692165</td>\n",
       "      <td>1.242371</td>\n",
       "      <td>4.096203</td>\n",
       "      <td>1.589298</td>\n",
       "    </tr>\n",
       "    <tr>\n",
       "      <th>100</th>\n",
       "      <td>3.612023</td>\n",
       "      <td>0.552160</td>\n",
       "      <td>0.571309</td>\n",
       "      <td>1.726056</td>\n",
       "      <td>1.079123</td>\n",
       "      <td>0.746519</td>\n",
       "      <td>2.383945</td>\n",
       "    </tr>\n",
       "    <tr>\n",
       "      <th>1000</th>\n",
       "      <td>3.391400</td>\n",
       "      <td>0.075853</td>\n",
       "      <td>0.213887</td>\n",
       "      <td>0.024381</td>\n",
       "      <td>0.057517</td>\n",
       "      <td>0.180933</td>\n",
       "      <td>0.425381</td>\n",
       "    </tr>\n",
       "    <tr>\n",
       "      <th>10000</th>\n",
       "      <td>5.364052</td>\n",
       "      <td>0.348275</td>\n",
       "      <td>0.049791</td>\n",
       "      <td>0.132878</td>\n",
       "      <td>0.121535</td>\n",
       "      <td>0.186599</td>\n",
       "      <td>0.437585</td>\n",
       "    </tr>\n",
       "  </tbody>\n",
       "</table>\n",
       "</div>"
      ],
      "text/plain": [
       "         Sage.n     Sagef     sagef    mpmath    Sage53     scipy    cython\n",
       "10     2.612604  1.700285  3.338963  0.692165  1.242371  4.096203  1.589298\n",
       "100    3.612023  0.552160  0.571309  1.726056  1.079123  0.746519  2.383945\n",
       "1000   3.391400  0.075853  0.213887  0.024381  0.057517  0.180933  0.425381\n",
       "10000  5.364052  0.348275  0.049791  0.132878  0.121535  0.186599  0.437585"
      ]
     },
     "execution_count": 27,
     "metadata": {},
     "output_type": "execute_result"
    }
   ],
   "source": [
    "# relative stdev = variation coeficient in %\n",
    "delta = benchres.applymap(lambda x:x[1]/x[0])\n",
    "delta.multiply(100)"
   ]
  },
  {
   "cell_type": "code",
   "execution_count": 28,
   "metadata": {
    "ExecuteTime": {
     "end_time": "2021-04-22T17:42:20.153132Z",
     "start_time": "2021-04-22T17:42:20.132315Z"
    }
   },
   "outputs": [
    {
     "data": {
      "text/plain": [
       "Sage.n    8.562567\n",
       "Sagef     3.756837\n",
       "sagef     3.735895\n",
       "mpmath    4.054545\n",
       "Sage53    3.930299\n",
       "scipy     0.393225\n",
       "cython    0.057687\n",
       "dtype: float64"
      ]
     },
     "execution_count": 28,
     "metadata": {},
     "output_type": "execute_result"
    }
   ],
   "source": [
    "tmax = times.max()\n",
    "tmax"
   ]
  },
  {
   "cell_type": "code",
   "execution_count": 29,
   "metadata": {},
   "outputs": [
    {
     "data": {
      "text/html": [
       "<div>\n",
       "<style scoped>\n",
       "    .dataframe tbody tr th:only-of-type {\n",
       "        vertical-align: middle;\n",
       "    }\n",
       "\n",
       "    .dataframe tbody tr th {\n",
       "        vertical-align: top;\n",
       "    }\n",
       "\n",
       "    .dataframe thead th {\n",
       "        text-align: right;\n",
       "    }\n",
       "</style>\n",
       "<table border=\"1\" class=\"dataframe\">\n",
       "  <thead>\n",
       "    <tr style=\"text-align: right;\">\n",
       "      <th></th>\n",
       "      <th>Sage.n</th>\n",
       "      <th>Sagef</th>\n",
       "      <th>sagef</th>\n",
       "      <th>mpmath</th>\n",
       "      <th>Sage53</th>\n",
       "      <th>scipy</th>\n",
       "      <th>cython</th>\n",
       "    </tr>\n",
       "  </thead>\n",
       "  <tbody>\n",
       "    <tr>\n",
       "      <th>10</th>\n",
       "      <td>9.59e-03</td>\n",
       "      <td>5.08e-03</td>\n",
       "      <td>5.12e-03</td>\n",
       "      <td>5.6e-03</td>\n",
       "      <td>5.45e-03</td>\n",
       "      <td>4.46e-04</td>\n",
       "      <td>9.32e-05</td>\n",
       "    </tr>\n",
       "    <tr>\n",
       "      <th>100</th>\n",
       "      <td>8.60e-02</td>\n",
       "      <td>3.65e-02</td>\n",
       "      <td>3.68e-02</td>\n",
       "      <td>4.09e-02</td>\n",
       "      <td>3.91e-02</td>\n",
       "      <td>3.92e-03</td>\n",
       "      <td>5.63e-04</td>\n",
       "    </tr>\n",
       "    <tr>\n",
       "      <th>1000</th>\n",
       "      <td>8.33e-01</td>\n",
       "      <td>3.71e-01</td>\n",
       "      <td>3.71e-01</td>\n",
       "      <td>4.03e-01</td>\n",
       "      <td>3.91e-01</td>\n",
       "      <td>3.93e-02</td>\n",
       "      <td>5.85e-03</td>\n",
       "    </tr>\n",
       "    <tr>\n",
       "      <th>10000</th>\n",
       "      <td>8.56e+00</td>\n",
       "      <td>3.76e+00</td>\n",
       "      <td>3.74e+00</td>\n",
       "      <td>4.05e+00</td>\n",
       "      <td>3.93e+00</td>\n",
       "      <td>3.93e-01</td>\n",
       "      <td>5.77e-02</td>\n",
       "    </tr>\n",
       "  </tbody>\n",
       "</table>\n",
       "</div>"
      ],
      "text/plain": [
       "         Sage.n     Sagef     sagef    mpmath    Sage53     scipy    cython\n",
       "10     9.59e-03  5.08e-03  5.12e-03   5.6e-03  5.45e-03  4.46e-04  9.32e-05\n",
       "100    8.60e-02  3.65e-02  3.68e-02  4.09e-02  3.91e-02  3.92e-03  5.63e-04\n",
       "1000   8.33e-01  3.71e-01  3.71e-01  4.03e-01  3.91e-01  3.93e-02  5.85e-03\n",
       "10000  8.56e+00  3.76e+00  3.74e+00  4.05e+00  3.93e+00  3.93e-01  5.77e-02"
      ]
     },
     "execution_count": 29,
     "metadata": {},
     "output_type": "execute_result"
    }
   ],
   "source": [
    "times.apply(lambda x: scn(x,2))"
   ]
  },
  {
   "cell_type": "markdown",
   "metadata": {},
   "source": [
    "## Errors"
   ]
  },
  {
   "cell_type": "code",
   "execution_count": 30,
   "metadata": {
    "ExecuteTime": {
     "end_time": "2021-04-22T17:54:26.026418Z",
     "start_time": "2021-04-22T17:54:26.015406Z"
    }
   },
   "outputs": [],
   "source": [
    "errs = benchres.applymap(lambda x: scn(x[2:], 0))"
   ]
  },
  {
   "cell_type": "code",
   "execution_count": 31,
   "metadata": {
    "ExecuteTime": {
     "end_time": "2021-04-22T17:54:27.709231Z",
     "start_time": "2021-04-22T17:54:27.688742Z"
    }
   },
   "outputs": [
    {
     "data": {
      "text/html": [
       "<div>\n",
       "<style scoped>\n",
       "    .dataframe tbody tr th:only-of-type {\n",
       "        vertical-align: middle;\n",
       "    }\n",
       "\n",
       "    .dataframe tbody tr th {\n",
       "        vertical-align: top;\n",
       "    }\n",
       "\n",
       "    .dataframe thead th {\n",
       "        text-align: right;\n",
       "    }\n",
       "</style>\n",
       "<table border=\"1\" class=\"dataframe\">\n",
       "  <thead>\n",
       "    <tr style=\"text-align: right;\">\n",
       "      <th></th>\n",
       "      <th>Sage.n</th>\n",
       "      <th>Sagef</th>\n",
       "      <th>sagef</th>\n",
       "      <th>mpmath</th>\n",
       "      <th>Sage53</th>\n",
       "      <th>scipy</th>\n",
       "      <th>cython</th>\n",
       "    </tr>\n",
       "  </thead>\n",
       "  <tbody>\n",
       "    <tr>\n",
       "      <th>10</th>\n",
       "      <td>[6.e-124, 3.e-17]</td>\n",
       "      <td>[6.e-124, 3.e-17]</td>\n",
       "      <td>[1.e-122, 2.e-16]</td>\n",
       "      <td>[6.e-124, 3.e-17]</td>\n",
       "      <td>[6.e-124, 3.e-17]</td>\n",
       "      <td>[2.e-122, 2.e-16]</td>\n",
       "      <td>[2.e-122, 2.e-16]</td>\n",
       "    </tr>\n",
       "    <tr>\n",
       "      <th>100</th>\n",
       "      <td>[6.e-124, 1.e-15]</td>\n",
       "      <td>[6.e-124, 2.e-15]</td>\n",
       "      <td>[1.e-122, 1.e-15]</td>\n",
       "      <td>[6.e-124, 2.e-15]</td>\n",
       "      <td>[6.e-124, 2.e-15]</td>\n",
       "      <td>[2.e-122, 2.e-11]</td>\n",
       "      <td>[2.e-122, 2.e-11]</td>\n",
       "    </tr>\n",
       "    <tr>\n",
       "      <th>1000</th>\n",
       "      <td>[6.e-124, 3.e-15]</td>\n",
       "      <td>[6.e-124, 2.e-15]</td>\n",
       "      <td>[1.e-122, 2.e-15]</td>\n",
       "      <td>[6.e-124, 2.e-15]</td>\n",
       "      <td>[6.e-124, 2.e-15]</td>\n",
       "      <td>[2.e-122, 4.e-10]</td>\n",
       "      <td>[2.e-122, 4.e-10]</td>\n",
       "    </tr>\n",
       "    <tr>\n",
       "      <th>10000</th>\n",
       "      <td>[0.e+00, 3.e-15]</td>\n",
       "      <td>[0.e+00, 3.e-15]</td>\n",
       "      <td>[0.e+00, 3.e-15]</td>\n",
       "      <td>[6.e-124, 3.e-15]</td>\n",
       "      <td>[0.e+00, 3.e-15]</td>\n",
       "      <td>[2.e-122, 5.e-10]</td>\n",
       "      <td>[2.e-122, 5.e-10]</td>\n",
       "    </tr>\n",
       "  </tbody>\n",
       "</table>\n",
       "</div>"
      ],
      "text/plain": [
       "                  Sage.n              Sagef              sagef  \\\n",
       "10     [6.e-124, 3.e-17]  [6.e-124, 3.e-17]  [1.e-122, 2.e-16]   \n",
       "100    [6.e-124, 1.e-15]  [6.e-124, 2.e-15]  [1.e-122, 1.e-15]   \n",
       "1000   [6.e-124, 3.e-15]  [6.e-124, 2.e-15]  [1.e-122, 2.e-15]   \n",
       "10000   [0.e+00, 3.e-15]   [0.e+00, 3.e-15]   [0.e+00, 3.e-15]   \n",
       "\n",
       "                  mpmath             Sage53              scipy  \\\n",
       "10     [6.e-124, 3.e-17]  [6.e-124, 3.e-17]  [2.e-122, 2.e-16]   \n",
       "100    [6.e-124, 2.e-15]  [6.e-124, 2.e-15]  [2.e-122, 2.e-11]   \n",
       "1000   [6.e-124, 2.e-15]  [6.e-124, 2.e-15]  [2.e-122, 4.e-10]   \n",
       "10000  [6.e-124, 3.e-15]   [0.e+00, 3.e-15]  [2.e-122, 5.e-10]   \n",
       "\n",
       "                  cython  \n",
       "10     [2.e-122, 2.e-16]  \n",
       "100    [2.e-122, 2.e-11]  \n",
       "1000   [2.e-122, 4.e-10]  \n",
       "10000  [2.e-122, 5.e-10]  "
      ]
     },
     "execution_count": 31,
     "metadata": {},
     "output_type": "execute_result"
    }
   ],
   "source": [
    "errs"
   ]
  },
  {
   "cell_type": "markdown",
   "metadata": {},
   "source": [
    "# Pari implementation - p15"
   ]
  },
  {
   "cell_type": "code",
   "execution_count": 32,
   "metadata": {
    "ExecuteTime": {
     "end_time": "2021-04-22T10:29:14.096926Z",
     "start_time": "2021-04-22T10:29:14.015805Z"
    }
   },
   "outputs": [
    {
     "name": "stdout",
     "output_type": "stream",
     "text": [
      "   realprecision = 19 significant digits (15 digits displayed)\n",
      "\n",
      "\n",
      "\n",
      "\n",
      "\n",
      "\n",
      "\n",
      "\n",
      "\n",
      "\n",
      "\n",
      "\n",
      "\n",
      "\n",
      "\n",
      "\n",
      "\n",
      "\n"
     ]
    }
   ],
   "source": [
    "%%gp\n",
    "\\p15\n",
    "\\\\ defining U and G\n",
    "U(u,v,t) = hyperu(u,v,t);\n",
    "G(s) = gamma(s);\n",
    "\n",
    "[a1, b1, a2, b2] = [0.5, 1, 8.5, 93];\n",
    "a = a1+a2; b = b1+b2;\n",
    "c = b1^a1*b2^a2/b^(a-1);\n",
    "cp = c/G(a1); cm = c/G(a2);\n",
    "\n",
    "\\\\ defining f(z)\n",
    "fm(z) = cm*exp( z*b2)*U(1-a2,2-a,-b*z);\n",
    "f0(z) = if(a>1, c*G(a-1)/(G(a1)*G(a2)), oo);\n",
    "fp(z) = cp*exp(-z*b1)*U(1-a1,2-a, b*z);\n",
    "\n",
    "f(z) = if(z>0, fp(z), /*if*/ z<0, fm(z), /*else*/f0(z));\n",
    "\n",
    "\\\\ measuring time\n",
    "runtime(n) = { gettime(); forstep(i = -3, 4, 7/(n-1), F = f(i)); gettime()};\n",
    "\\\\ generating function values\n",
    "fvalues(n) = { flist = vector(n); for(i= 1, n, flist[i] = f(-3+7/(n-1)*(i-1))); flist};\n",
    "\n",
    "\\\\timing\n",
    "fvaluestime(n) = { gettime(); flist = vector(n); for(i= 1, n, flist[i] = f(-3+7/(n-1)*(i-1))); gettime()};"
   ]
  },
  {
   "cell_type": "code",
   "execution_count": 33,
   "metadata": {},
   "outputs": [
    {
     "data": {
      "text/plain": [
       "(66, 20)"
      ]
     },
     "execution_count": 33,
     "metadata": {},
     "output_type": "execute_result"
    }
   ],
   "source": [
    "bits(19), dps(70)"
   ]
  },
  {
   "cell_type": "code",
   "execution_count": 34,
   "metadata": {
    "ExecuteTime": {
     "end_time": "2021-04-22T10:29:18.656199Z",
     "start_time": "2021-04-22T10:29:18.635158Z"
    }
   },
   "outputs": [],
   "source": [
    "RRf = RealField(70)\n",
    "fpari = lambda t:RRf(gp(\"f(\"+str(t)+\")\"))"
   ]
  },
  {
   "cell_type": "code",
   "execution_count": 35,
   "metadata": {},
   "outputs": [
    {
     "data": {
      "text/plain": [
       "0.18154352175631900000"
      ]
     },
     "execution_count": 35,
     "metadata": {},
     "output_type": "execute_result"
    }
   ],
   "source": [
    "fpari(1)"
   ]
  },
  {
   "cell_type": "code",
   "execution_count": 36,
   "metadata": {},
   "outputs": [],
   "source": [
    "Parivalues = lambda n: (gp(\"fvalues(\"+str(n)+\")\"))._sage_()\n",
    "pari = {str(10^(n+1)): Parivalues(10^(n+1)) for n in range(N)}\n",
    "parierrors = {str(len(dp)): abs_errs(dpari, dp) for dpari,dp in zip(pari.values(), dpari.values())}"
   ]
  },
  {
   "cell_type": "code",
   "execution_count": 37,
   "metadata": {},
   "outputs": [
    {
     "data": {
      "text/plain": [
       "{'10': [4.350343160448023385e-121, 2.3789889329328683942e-14],\n",
       " '100': [4.350343160448023385e-121, 4.1581321719164066053e-14],\n",
       " '1000': [2.053532626721855295e-121, 4.6290662275572103113e-14],\n",
       " '10000': [1.9878233644947977707e-122, 5.1877881331041653112e-14]}"
      ]
     },
     "execution_count": 37,
     "metadata": {},
     "output_type": "execute_result"
    }
   ],
   "source": [
    "Parierrs = {str(len(eabs)): [min(eabs), max(eabs)] for eabs in parierrors.values()} \n",
    "Parierrs"
   ]
  },
  {
   "cell_type": "code",
   "execution_count": 38,
   "metadata": {},
   "outputs": [
    {
     "data": {
      "text/plain": [
       "312"
      ]
     },
     "execution_count": 38,
     "metadata": {},
     "output_type": "execute_result"
    }
   ],
   "source": [
    "Tparivalues = lambda n: gp(\"fvaluestime(\"+str(n)+\")\")._sage_()\n",
    "Tparivalues(10000)"
   ]
  },
  {
   "cell_type": "code",
   "execution_count": 39,
   "metadata": {},
   "outputs": [],
   "source": [
    "Tpari = lambda n: gp(\"runtime(\"+str(n)+\")\")._sage_()\n",
    "def Timeit(n, r = 3, rep = 10):\n",
    "    times = []\n",
    "    for k in range(r):\n",
    "        times += [RR(mean([Tparivalues(n) for i in range(rep)]))]\n",
    "    return mean(times), std(times)/sqrt(rep-1)    "
   ]
  },
  {
   "cell_type": "code",
   "execution_count": 40,
   "metadata": {},
   "outputs": [
    {
     "name": "stdout",
     "output_type": "stream",
     "text": [
      "10^1 pari runtime =  (0.000000000000000, 0.000000000000000)\n",
      "Sage runtime = 4.0137879848480225 s\n",
      "10^2 pari runtime =  (1.56666666666667, 0.0192450089729875)\n",
      "Sage runtime = 8.018442630767822 s\n",
      "10^3 pari runtime =  (28.7000000000000, 0.290593262902711)\n",
      "Sage runtime = 12.84458327293396 s\n",
      "10^4 pari runtime =  (317.500000000000, 1.05039675043925)\n",
      "Sage runtime = 26.698570728302002 s\n"
     ]
    }
   ],
   "source": [
    "# start time\n",
    "Paritimes = dict()\n",
    "tic = time()\n",
    "for n in range(4):\n",
    "    casdev = Timeit(10^(n+1))\n",
    "    Paritimes[str(10^(n+1))] = casdev\n",
    "    print('10^'+str(n+1)+' pari runtime = ', casdev)\n",
    "    toc = time()-tic; \n",
    "    print('Sage runtime =',toc,'s')"
   ]
  },
  {
   "cell_type": "code",
   "execution_count": 41,
   "metadata": {},
   "outputs": [
    {
     "data": {
      "text/plain": [
       "array([0.        , 0.00156667, 0.0287    , 0.3175    ])"
      ]
     },
     "execution_count": 41,
     "metadata": {},
     "output_type": "execute_result"
    }
   ],
   "source": [
    "Parisec = v([t[0] for t in Paritimes.values()])/1000\n",
    "Parisec"
   ]
  },
  {
   "cell_type": "markdown",
   "metadata": {},
   "source": [
    "# Pari implementation - p20"
   ]
  },
  {
   "cell_type": "code",
   "execution_count": 42,
   "metadata": {},
   "outputs": [
    {
     "name": "stdout",
     "output_type": "stream",
     "text": [
      "   realprecision = 38 significant digits (20 digits displayed)\n",
      "\n",
      "\n",
      "\n",
      "\n",
      "\n",
      "\n",
      "\n",
      "\n",
      "\n",
      "\n",
      "\n",
      "\n",
      "\n",
      "\n",
      "\n",
      "\n",
      "\n",
      "\n"
     ]
    }
   ],
   "source": [
    "%%gp\n",
    "\\p20\n",
    "\\\\ defining U and G\n",
    "U2(u,v,t) = hyperu(u,v,t);\n",
    "G2(s) = gamma(s);\n",
    "\n",
    "[a1, b1, a2, b2] = [0.5, 1, 8.5, 93];\n",
    "a = a1+a2; b = b1+b2;\n",
    "c = b1^a1*b2^a2/b^(a-1);\n",
    "cp = c/G2(a1); cm = c/G2(a2);\n",
    "\n",
    "\\\\ defining f(z)\n",
    "fm2(z) = cm*exp( z*b2)*U2(1-a2,2-a,-b*z);\n",
    "f02(z) = if(a>1, c*G2(a-1)/(G2(a1)*G2(a2)), oo);\n",
    "fp2(z) = cp*exp(-z*b1)*U(1-a1,2-a, b*z);\n",
    "\n",
    "f2(z) = if(z>0, fp2(z), /*if*/ z<0, fm2(z), /*else*/f02(z));\n",
    "\n",
    "\\\\ measuring time\n",
    "runtime2(n) = { gettime(); forstep(i = -3, 4, 7/(n-1), F2 = f2(i)); gettime()};\n",
    "\\\\ generating function values\n",
    "fvalues2(n) = { flist2 = vector(n); for(i= 1, n, flist2[i] = f2(-3+7/(n-1)*(i-1))); flist2};\n",
    "\\\\timing\n",
    "fvaluestime2(n) = { gettime(); flist2 = vector(n); for(i= 1, n, flist2[i] = f2(-3+7/(n-1)*(i-1))); gettime()};"
   ]
  },
  {
   "cell_type": "code",
   "execution_count": 43,
   "metadata": {},
   "outputs": [
    {
     "data": {
      "text/plain": [
       "(130, 38)"
      ]
     },
     "execution_count": 43,
     "metadata": {},
     "output_type": "execute_result"
    }
   ],
   "source": [
    "bits(38), dps(130)"
   ]
  },
  {
   "cell_type": "code",
   "execution_count": 44,
   "metadata": {
    "ExecuteTime": {
     "end_time": "2021-04-22T10:29:18.656199Z",
     "start_time": "2021-04-22T10:29:18.635158Z"
    }
   },
   "outputs": [],
   "source": [
    "RRf = RealField(70)\n",
    "fpari2 = lambda t:RRf(gp(\"f2(\"+str(t)+\")\"))"
   ]
  },
  {
   "cell_type": "code",
   "execution_count": 45,
   "metadata": {},
   "outputs": [],
   "source": [
    "Parivalues2 = lambda n: (gp(\"fvalues2(\"+str(n)+\")\"))._sage_()\n",
    "pari2 = {str(10^(n+1)): Parivalues2(10^(n+1)) for n in range(N)}\n",
    "parierrors2 = {str(len(dp)): abs_errs(dpari, dp) for dpari,dp in zip(pari2.values(), dpari.values())}"
   ]
  },
  {
   "cell_type": "code",
   "execution_count": 46,
   "metadata": {},
   "outputs": [
    {
     "data": {
      "text/plain": [
       "{'10': [6.3227437574596718627e-124, 3.1116602350333977256e-17],\n",
       " '100': [6.3227437574596718627e-124, 5.898059818321144121e-17],\n",
       " '1000': [0.0, 2.1510571102112407971e-16],\n",
       " '10000': [0.0, 2.2052672188355160188e-16]}"
      ]
     },
     "execution_count": 46,
     "metadata": {},
     "output_type": "execute_result"
    }
   ],
   "source": [
    "Parierrs2 = {str(len(eabs)): [min(eabs), max(eabs)] for eabs in parierrors2.values()} \n",
    "Parierrs2"
   ]
  },
  {
   "cell_type": "code",
   "execution_count": 47,
   "metadata": {},
   "outputs": [
    {
     "data": {
      "text/plain": [
       "1140"
      ]
     },
     "execution_count": 47,
     "metadata": {},
     "output_type": "execute_result"
    }
   ],
   "source": [
    "Tparivalues2 = lambda n: gp(\"fvaluestime2(\"+str(n)+\")\")._sage_()\n",
    "Tparivalues2(10000)"
   ]
  },
  {
   "cell_type": "code",
   "execution_count": 48,
   "metadata": {},
   "outputs": [],
   "source": [
    "Tpari2 = lambda n: gp(\"runtime2(\"+str(n)+\")\")._sage_()\n",
    "def Timeit2(n, r = 3, rep = 10):\n",
    "    times = []\n",
    "    for k in range(r):\n",
    "        times += [RR(mean([Tparivalues2(n) for i in range(rep)]))]\n",
    "    return mean(times), std(times)/sqrt(rep-1)    "
   ]
  },
  {
   "cell_type": "code",
   "execution_count": 49,
   "metadata": {},
   "outputs": [
    {
     "name": "stdout",
     "output_type": "stream",
     "text": [
      "10^1 pari runtime =  (0.533333333333333, 0.307920143567800)\n",
      "Sage runtime = 4.003103971481323 s\n",
      "10^2 pari runtime =  (0.000000000000000, 0.000000000000000)\n",
      "Sage runtime = 8.019315242767334 s\n",
      "10^3 pari runtime =  (116.266666666667, 2.12533221803958)\n",
      "Sage runtime = 15.529682636260986 s\n",
      "10^4 pari runtime =  (1156.40000000000, 4.68342230045985)\n",
      "Sage runtime = 54.31274056434631 s\n"
     ]
    }
   ],
   "source": [
    "# start time\n",
    "Paritimes2 = dict()\n",
    "tic = time()\n",
    "for n in range(4):\n",
    "    casdev = Timeit2(10^(n+1))\n",
    "    Paritimes2[str(10^(n+1))] = casdev\n",
    "    print('10^'+str(n+1)+' pari runtime = ', casdev)\n",
    "    toc = time()-tic; \n",
    "    print('Sage runtime =',toc,'s')"
   ]
  },
  {
   "cell_type": "code",
   "execution_count": 50,
   "metadata": {},
   "outputs": [
    {
     "data": {
      "text/plain": [
       "array([0.        , 0.00156667, 0.0287    , 0.3175    ])"
      ]
     },
     "execution_count": 50,
     "metadata": {},
     "output_type": "execute_result"
    }
   ],
   "source": [
    "Parisec2 = v([t[0] for t in Paritimes2.values()])/1000\n",
    "Parisec"
   ]
  },
  {
   "cell_type": "markdown",
   "metadata": {},
   "source": [
    "# Final"
   ]
  },
  {
   "cell_type": "code",
   "execution_count": 51,
   "metadata": {
    "ExecuteTime": {
     "end_time": "2021-04-22T19:54:14.279328Z",
     "start_time": "2021-04-22T19:54:14.242426Z"
    }
   },
   "outputs": [
    {
     "data": {
      "text/html": [
       "<div>\n",
       "<style scoped>\n",
       "    .dataframe tbody tr th:only-of-type {\n",
       "        vertical-align: middle;\n",
       "    }\n",
       "\n",
       "    .dataframe tbody tr th {\n",
       "        vertical-align: top;\n",
       "    }\n",
       "\n",
       "    .dataframe thead th {\n",
       "        text-align: right;\n",
       "    }\n",
       "</style>\n",
       "<table border=\"1\" class=\"dataframe\">\n",
       "  <thead>\n",
       "    <tr style=\"text-align: right;\">\n",
       "      <th></th>\n",
       "      <th>Sage.n</th>\n",
       "      <th>Sagef</th>\n",
       "      <th>sagef</th>\n",
       "      <th>mpmath</th>\n",
       "      <th>Sage53</th>\n",
       "      <th>scipy</th>\n",
       "      <th>cython</th>\n",
       "      <th>Pari-p15</th>\n",
       "      <th>Pari-p20</th>\n",
       "    </tr>\n",
       "  </thead>\n",
       "  <tbody>\n",
       "    <tr>\n",
       "      <th>10</th>\n",
       "      <td>0.009588</td>\n",
       "      <td>0.005085</td>\n",
       "      <td>0.005120</td>\n",
       "      <td>0.005596</td>\n",
       "      <td>0.005454</td>\n",
       "      <td>0.000446</td>\n",
       "      <td>0.000093</td>\n",
       "      <td>0.000000</td>\n",
       "      <td>0.000533</td>\n",
       "    </tr>\n",
       "    <tr>\n",
       "      <th>100</th>\n",
       "      <td>0.086005</td>\n",
       "      <td>0.036544</td>\n",
       "      <td>0.036810</td>\n",
       "      <td>0.040905</td>\n",
       "      <td>0.039144</td>\n",
       "      <td>0.003925</td>\n",
       "      <td>0.000563</td>\n",
       "      <td>0.001567</td>\n",
       "      <td>0.000000</td>\n",
       "    </tr>\n",
       "    <tr>\n",
       "      <th>1000</th>\n",
       "      <td>0.833054</td>\n",
       "      <td>0.371368</td>\n",
       "      <td>0.371117</td>\n",
       "      <td>0.403198</td>\n",
       "      <td>0.391041</td>\n",
       "      <td>0.039340</td>\n",
       "      <td>0.005852</td>\n",
       "      <td>0.028700</td>\n",
       "      <td>0.116267</td>\n",
       "    </tr>\n",
       "    <tr>\n",
       "      <th>10000</th>\n",
       "      <td>8.562567</td>\n",
       "      <td>3.756837</td>\n",
       "      <td>3.735895</td>\n",
       "      <td>4.054545</td>\n",
       "      <td>3.930299</td>\n",
       "      <td>0.393225</td>\n",
       "      <td>0.057687</td>\n",
       "      <td>0.317500</td>\n",
       "      <td>1.156400</td>\n",
       "    </tr>\n",
       "  </tbody>\n",
       "</table>\n",
       "</div>"
      ],
      "text/plain": [
       "         Sage.n     Sagef     sagef    mpmath    Sage53     scipy    cython  \\\n",
       "10     0.009588  0.005085  0.005120  0.005596  0.005454  0.000446  0.000093   \n",
       "100    0.086005  0.036544  0.036810  0.040905  0.039144  0.003925  0.000563   \n",
       "1000   0.833054  0.371368  0.371117  0.403198  0.391041  0.039340  0.005852   \n",
       "10000  8.562567  3.756837  3.735895  4.054545  3.930299  0.393225  0.057687   \n",
       "\n",
       "       Pari-p15  Pari-p20  \n",
       "10     0.000000  0.000533  \n",
       "100    0.001567  0.000000  \n",
       "1000   0.028700  0.116267  \n",
       "10000  0.317500  1.156400  "
      ]
     },
     "execution_count": 51,
     "metadata": {},
     "output_type": "execute_result"
    }
   ],
   "source": [
    "times['Pari-p15'] = v([t[0] for t in Paritimes.values()])/1000\n",
    "times['Pari-p20'] = v([t[0] for t in Paritimes2.values()])/1000\n",
    "times"
   ]
  },
  {
   "cell_type": "code",
   "execution_count": 52,
   "metadata": {},
   "outputs": [],
   "source": [
    "for colname in times.columns[times.columns.str.contains('Pari')]:\n",
    "    col = times[colname]\n",
    "    altval = col['10000']/v([10^n for n in [3,2..0]])\n",
    "    col[col==0] = altval[col==0]"
   ]
  },
  {
   "cell_type": "code",
   "execution_count": 53,
   "metadata": {},
   "outputs": [
    {
     "data": {
      "text/html": [
       "<div>\n",
       "<style scoped>\n",
       "    .dataframe tbody tr th:only-of-type {\n",
       "        vertical-align: middle;\n",
       "    }\n",
       "\n",
       "    .dataframe tbody tr th {\n",
       "        vertical-align: top;\n",
       "    }\n",
       "\n",
       "    .dataframe thead th {\n",
       "        text-align: right;\n",
       "    }\n",
       "</style>\n",
       "<table border=\"1\" class=\"dataframe\">\n",
       "  <thead>\n",
       "    <tr style=\"text-align: right;\">\n",
       "      <th></th>\n",
       "      <th>Sage.n</th>\n",
       "      <th>Sagef</th>\n",
       "      <th>sagef</th>\n",
       "      <th>mpmath</th>\n",
       "      <th>Sage53</th>\n",
       "      <th>scipy</th>\n",
       "      <th>cython</th>\n",
       "      <th>Pari-p15</th>\n",
       "      <th>Pari-p20</th>\n",
       "    </tr>\n",
       "  </thead>\n",
       "  <tbody>\n",
       "    <tr>\n",
       "      <th>10</th>\n",
       "      <td>0.009588</td>\n",
       "      <td>0.005085</td>\n",
       "      <td>0.005120</td>\n",
       "      <td>0.005596</td>\n",
       "      <td>0.005454</td>\n",
       "      <td>0.000446</td>\n",
       "      <td>0.000093</td>\n",
       "      <td>0.000318</td>\n",
       "      <td>0.000533</td>\n",
       "    </tr>\n",
       "    <tr>\n",
       "      <th>100</th>\n",
       "      <td>0.086005</td>\n",
       "      <td>0.036544</td>\n",
       "      <td>0.036810</td>\n",
       "      <td>0.040905</td>\n",
       "      <td>0.039144</td>\n",
       "      <td>0.003925</td>\n",
       "      <td>0.000563</td>\n",
       "      <td>0.001567</td>\n",
       "      <td>0.011564</td>\n",
       "    </tr>\n",
       "    <tr>\n",
       "      <th>1000</th>\n",
       "      <td>0.833054</td>\n",
       "      <td>0.371368</td>\n",
       "      <td>0.371117</td>\n",
       "      <td>0.403198</td>\n",
       "      <td>0.391041</td>\n",
       "      <td>0.039340</td>\n",
       "      <td>0.005852</td>\n",
       "      <td>0.028700</td>\n",
       "      <td>0.116267</td>\n",
       "    </tr>\n",
       "    <tr>\n",
       "      <th>10000</th>\n",
       "      <td>8.562567</td>\n",
       "      <td>3.756837</td>\n",
       "      <td>3.735895</td>\n",
       "      <td>4.054545</td>\n",
       "      <td>3.930299</td>\n",
       "      <td>0.393225</td>\n",
       "      <td>0.057687</td>\n",
       "      <td>0.317500</td>\n",
       "      <td>1.156400</td>\n",
       "    </tr>\n",
       "  </tbody>\n",
       "</table>\n",
       "</div>"
      ],
      "text/plain": [
       "         Sage.n     Sagef     sagef    mpmath    Sage53     scipy    cython  \\\n",
       "10     0.009588  0.005085  0.005120  0.005596  0.005454  0.000446  0.000093   \n",
       "100    0.086005  0.036544  0.036810  0.040905  0.039144  0.003925  0.000563   \n",
       "1000   0.833054  0.371368  0.371117  0.403198  0.391041  0.039340  0.005852   \n",
       "10000  8.562567  3.756837  3.735895  4.054545  3.930299  0.393225  0.057687   \n",
       "\n",
       "       Pari-p15  Pari-p20  \n",
       "10     0.000318  0.000533  \n",
       "100    0.001567  0.011564  \n",
       "1000   0.028700  0.116267  \n",
       "10000  0.317500  1.156400  "
      ]
     },
     "execution_count": 53,
     "metadata": {},
     "output_type": "execute_result"
    }
   ],
   "source": [
    "times"
   ]
  },
  {
   "cell_type": "code",
   "execution_count": 54,
   "metadata": {},
   "outputs": [],
   "source": [
    "# reference python times for pdf\n",
    "tWpy = 3.7066538833333325/2"
   ]
  },
  {
   "cell_type": "code",
   "execution_count": 55,
   "metadata": {
    "ExecuteTime": {
     "end_time": "2021-04-22T17:43:06.778815Z",
     "start_time": "2021-04-22T17:43:06.758814Z"
    }
   },
   "outputs": [
    {
     "data": {
      "text/html": [
       "<div>\n",
       "<style scoped>\n",
       "    .dataframe tbody tr th:only-of-type {\n",
       "        vertical-align: middle;\n",
       "    }\n",
       "\n",
       "    .dataframe tbody tr th {\n",
       "        vertical-align: top;\n",
       "    }\n",
       "\n",
       "    .dataframe thead th {\n",
       "        text-align: right;\n",
       "    }\n",
       "</style>\n",
       "<table border=\"1\" class=\"dataframe\">\n",
       "  <thead>\n",
       "    <tr style=\"text-align: right;\">\n",
       "      <th></th>\n",
       "      <th>Sage.n</th>\n",
       "      <th>Sagef</th>\n",
       "      <th>sagef</th>\n",
       "      <th>mpmath</th>\n",
       "      <th>Sage53</th>\n",
       "      <th>scipy</th>\n",
       "      <th>cython</th>\n",
       "      <th>Pari-p15</th>\n",
       "      <th>Pari-p20</th>\n",
       "    </tr>\n",
       "  </thead>\n",
       "  <tbody>\n",
       "    <tr>\n",
       "      <th>10000</th>\n",
       "      <td>0.216</td>\n",
       "      <td>0.493</td>\n",
       "      <td>0.496</td>\n",
       "      <td>0.457</td>\n",
       "      <td>0.472</td>\n",
       "      <td>4.713</td>\n",
       "      <td>32.127</td>\n",
       "      <td>5.837</td>\n",
       "      <td>1.603</td>\n",
       "    </tr>\n",
       "  </tbody>\n",
       "</table>\n",
       "</div>"
      ],
      "text/plain": [
       "      Sage.n  Sagef  sagef mpmath Sage53  scipy  cython Pari-p15 Pari-p20\n",
       "10000  0.216  0.493  0.496  0.457  0.472  4.713  32.127    5.837    1.603"
      ]
     },
     "execution_count": 55,
     "metadata": {},
     "output_type": "execute_result"
    }
   ],
   "source": [
    "accel = times.apply(lambda x:tWpy/v(x)).applymap(lambda x: round(x,3))\n",
    "accel.filter(like='10000', axis=0)"
   ]
  },
  {
   "cell_type": "code",
   "execution_count": 56,
   "metadata": {
    "ExecuteTime": {
     "end_time": "2021-04-22T20:06:23.118253Z",
     "start_time": "2021-04-22T20:06:23.069384Z"
    }
   },
   "outputs": [
    {
     "data": {
      "text/html": [
       "<div>\n",
       "<style scoped>\n",
       "    .dataframe tbody tr th:only-of-type {\n",
       "        vertical-align: middle;\n",
       "    }\n",
       "\n",
       "    .dataframe tbody tr th {\n",
       "        vertical-align: top;\n",
       "    }\n",
       "\n",
       "    .dataframe thead th {\n",
       "        text-align: right;\n",
       "    }\n",
       "</style>\n",
       "<table border=\"1\" class=\"dataframe\">\n",
       "  <thead>\n",
       "    <tr style=\"text-align: right;\">\n",
       "      <th></th>\n",
       "      <th>Sage.n</th>\n",
       "      <th>Sagef</th>\n",
       "      <th>sagef</th>\n",
       "      <th>mpmath</th>\n",
       "      <th>Sage53</th>\n",
       "      <th>scipy</th>\n",
       "      <th>cython</th>\n",
       "      <th>Pari-p15</th>\n",
       "      <th>Pari-p20</th>\n",
       "    </tr>\n",
       "  </thead>\n",
       "  <tbody>\n",
       "    <tr>\n",
       "      <th>10</th>\n",
       "      <td>[6.e-124, 3.e-17]</td>\n",
       "      <td>[6.e-124, 3.e-17]</td>\n",
       "      <td>[1.e-122, 2.e-16]</td>\n",
       "      <td>[6.e-124, 3.e-17]</td>\n",
       "      <td>[6.e-124, 3.e-17]</td>\n",
       "      <td>[2.e-122, 2.e-16]</td>\n",
       "      <td>[2.e-122, 2.e-16]</td>\n",
       "      <td>[4.e-121, 2.e-14]</td>\n",
       "      <td>[6.e-124, 3.e-17]</td>\n",
       "    </tr>\n",
       "    <tr>\n",
       "      <th>100</th>\n",
       "      <td>[6.e-124, 1.e-15]</td>\n",
       "      <td>[6.e-124, 2.e-15]</td>\n",
       "      <td>[1.e-122, 1.e-15]</td>\n",
       "      <td>[6.e-124, 2.e-15]</td>\n",
       "      <td>[6.e-124, 2.e-15]</td>\n",
       "      <td>[2.e-122, 2.e-11]</td>\n",
       "      <td>[2.e-122, 2.e-11]</td>\n",
       "      <td>[4.e-121, 4.e-14]</td>\n",
       "      <td>[6.e-124, 6.e-17]</td>\n",
       "    </tr>\n",
       "    <tr>\n",
       "      <th>1000</th>\n",
       "      <td>[6.e-124, 3.e-15]</td>\n",
       "      <td>[6.e-124, 2.e-15]</td>\n",
       "      <td>[1.e-122, 2.e-15]</td>\n",
       "      <td>[6.e-124, 2.e-15]</td>\n",
       "      <td>[6.e-124, 2.e-15]</td>\n",
       "      <td>[2.e-122, 4.e-10]</td>\n",
       "      <td>[2.e-122, 4.e-10]</td>\n",
       "      <td>[2.e-121, 5.e-14]</td>\n",
       "      <td>[0.e+00, 2.e-16]</td>\n",
       "    </tr>\n",
       "    <tr>\n",
       "      <th>10000</th>\n",
       "      <td>[0.e+00, 3.e-15]</td>\n",
       "      <td>[0.e+00, 3.e-15]</td>\n",
       "      <td>[0.e+00, 3.e-15]</td>\n",
       "      <td>[6.e-124, 3.e-15]</td>\n",
       "      <td>[0.e+00, 3.e-15]</td>\n",
       "      <td>[2.e-122, 5.e-10]</td>\n",
       "      <td>[2.e-122, 5.e-10]</td>\n",
       "      <td>[2.e-122, 5.e-14]</td>\n",
       "      <td>[0.e+00, 2.e-16]</td>\n",
       "    </tr>\n",
       "  </tbody>\n",
       "</table>\n",
       "</div>"
      ],
      "text/plain": [
       "                  Sage.n              Sagef              sagef  \\\n",
       "10     [6.e-124, 3.e-17]  [6.e-124, 3.e-17]  [1.e-122, 2.e-16]   \n",
       "100    [6.e-124, 1.e-15]  [6.e-124, 2.e-15]  [1.e-122, 1.e-15]   \n",
       "1000   [6.e-124, 3.e-15]  [6.e-124, 2.e-15]  [1.e-122, 2.e-15]   \n",
       "10000   [0.e+00, 3.e-15]   [0.e+00, 3.e-15]   [0.e+00, 3.e-15]   \n",
       "\n",
       "                  mpmath             Sage53              scipy  \\\n",
       "10     [6.e-124, 3.e-17]  [6.e-124, 3.e-17]  [2.e-122, 2.e-16]   \n",
       "100    [6.e-124, 2.e-15]  [6.e-124, 2.e-15]  [2.e-122, 2.e-11]   \n",
       "1000   [6.e-124, 2.e-15]  [6.e-124, 2.e-15]  [2.e-122, 4.e-10]   \n",
       "10000  [6.e-124, 3.e-15]   [0.e+00, 3.e-15]  [2.e-122, 5.e-10]   \n",
       "\n",
       "                  cython           Pari-p15           Pari-p20  \n",
       "10     [2.e-122, 2.e-16]  [4.e-121, 2.e-14]  [6.e-124, 3.e-17]  \n",
       "100    [2.e-122, 2.e-11]  [4.e-121, 4.e-14]  [6.e-124, 6.e-17]  \n",
       "1000   [2.e-122, 4.e-10]  [2.e-121, 5.e-14]   [0.e+00, 2.e-16]  \n",
       "10000  [2.e-122, 5.e-10]  [2.e-122, 5.e-14]   [0.e+00, 2.e-16]  "
      ]
     },
     "execution_count": 56,
     "metadata": {},
     "output_type": "execute_result"
    }
   ],
   "source": [
    "errs['Pari-p15'] = [scn(item,0) for item in Parierrs.values()]\n",
    "errs['Pari-p20'] = [scn(item,0) for item in Parierrs2.values()]\n",
    "errs"
   ]
  },
  {
   "cell_type": "code",
   "execution_count": 57,
   "metadata": {},
   "outputs": [
    {
     "data": {
      "text/html": [
       "<div>\n",
       "<style scoped>\n",
       "    .dataframe tbody tr th:only-of-type {\n",
       "        vertical-align: middle;\n",
       "    }\n",
       "\n",
       "    .dataframe tbody tr th {\n",
       "        vertical-align: top;\n",
       "    }\n",
       "\n",
       "    .dataframe thead th {\n",
       "        text-align: right;\n",
       "    }\n",
       "</style>\n",
       "<table border=\"1\" class=\"dataframe\">\n",
       "  <thead>\n",
       "    <tr style=\"text-align: right;\">\n",
       "      <th></th>\n",
       "      <th>Sage.n</th>\n",
       "      <th>Sagef</th>\n",
       "      <th>sagef</th>\n",
       "      <th>mpmath</th>\n",
       "      <th>Sage53</th>\n",
       "      <th>scipy</th>\n",
       "      <th>cython</th>\n",
       "      <th>Pari-p15</th>\n",
       "      <th>Pari-p20</th>\n",
       "    </tr>\n",
       "  </thead>\n",
       "  <tbody>\n",
       "    <tr>\n",
       "      <th>10</th>\n",
       "      <td>[6.e-124, 3.e-17]</td>\n",
       "      <td>[6.e-124, 3.e-17]</td>\n",
       "      <td>[1.e-122, 2.e-16]</td>\n",
       "      <td>[6.e-124, 3.e-17]</td>\n",
       "      <td>[6.e-124, 3.e-17]</td>\n",
       "      <td>[2.e-122, 2.e-16]</td>\n",
       "      <td>[2.e-122, 2.e-16]</td>\n",
       "      <td>[4.e-121, 2.e-14]</td>\n",
       "      <td>[6.e-124, 3.e-17]</td>\n",
       "    </tr>\n",
       "    <tr>\n",
       "      <th>100</th>\n",
       "      <td>[6.e-124, 1.e-15]</td>\n",
       "      <td>[6.e-124, 2.e-15]</td>\n",
       "      <td>[1.e-122, 1.e-15]</td>\n",
       "      <td>[6.e-124, 2.e-15]</td>\n",
       "      <td>[6.e-124, 2.e-15]</td>\n",
       "      <td>[2.e-122, 2.e-11]</td>\n",
       "      <td>[2.e-122, 2.e-11]</td>\n",
       "      <td>[4.e-121, 4.e-14]</td>\n",
       "      <td>[6.e-124, 6.e-17]</td>\n",
       "    </tr>\n",
       "    <tr>\n",
       "      <th>1000</th>\n",
       "      <td>[6.e-124, 3.e-15]</td>\n",
       "      <td>[6.e-124, 2.e-15]</td>\n",
       "      <td>[1.e-122, 2.e-15]</td>\n",
       "      <td>[6.e-124, 2.e-15]</td>\n",
       "      <td>[6.e-124, 2.e-15]</td>\n",
       "      <td>[2.e-122, 4.e-10]</td>\n",
       "      <td>[2.e-122, 4.e-10]</td>\n",
       "      <td>[2.e-121, 5.e-14]</td>\n",
       "      <td>[0.e+00, 2.e-16]</td>\n",
       "    </tr>\n",
       "    <tr>\n",
       "      <th>10000</th>\n",
       "      <td>[0.e+00, 3.e-15]</td>\n",
       "      <td>[0.e+00, 3.e-15]</td>\n",
       "      <td>[0.e+00, 3.e-15]</td>\n",
       "      <td>[6.e-124, 3.e-15]</td>\n",
       "      <td>[0.e+00, 3.e-15]</td>\n",
       "      <td>[2.e-122, 5.e-10]</td>\n",
       "      <td>[2.e-122, 5.e-10]</td>\n",
       "      <td>[2.e-122, 5.e-14]</td>\n",
       "      <td>[0.e+00, 2.e-16]</td>\n",
       "    </tr>\n",
       "  </tbody>\n",
       "</table>\n",
       "</div>"
      ],
      "text/plain": [
       "                  Sage.n              Sagef              sagef  \\\n",
       "10     [6.e-124, 3.e-17]  [6.e-124, 3.e-17]  [1.e-122, 2.e-16]   \n",
       "100    [6.e-124, 1.e-15]  [6.e-124, 2.e-15]  [1.e-122, 1.e-15]   \n",
       "1000   [6.e-124, 3.e-15]  [6.e-124, 2.e-15]  [1.e-122, 2.e-15]   \n",
       "10000   [0.e+00, 3.e-15]   [0.e+00, 3.e-15]   [0.e+00, 3.e-15]   \n",
       "\n",
       "                  mpmath             Sage53              scipy  \\\n",
       "10     [6.e-124, 3.e-17]  [6.e-124, 3.e-17]  [2.e-122, 2.e-16]   \n",
       "100    [6.e-124, 2.e-15]  [6.e-124, 2.e-15]  [2.e-122, 2.e-11]   \n",
       "1000   [6.e-124, 2.e-15]  [6.e-124, 2.e-15]  [2.e-122, 4.e-10]   \n",
       "10000  [6.e-124, 3.e-15]   [0.e+00, 3.e-15]  [2.e-122, 5.e-10]   \n",
       "\n",
       "                  cython           Pari-p15           Pari-p20  \n",
       "10     [2.e-122, 2.e-16]  [4.e-121, 2.e-14]  [6.e-124, 3.e-17]  \n",
       "100    [2.e-122, 2.e-11]  [4.e-121, 4.e-14]  [6.e-124, 6.e-17]  \n",
       "1000   [2.e-122, 4.e-10]  [2.e-121, 5.e-14]   [0.e+00, 2.e-16]  \n",
       "10000  [2.e-122, 5.e-10]  [2.e-122, 5.e-14]   [0.e+00, 2.e-16]  "
      ]
     },
     "execution_count": 57,
     "metadata": {},
     "output_type": "execute_result"
    }
   ],
   "source": [
    "errs.applymap(lambda x:x[:2])"
   ]
  },
  {
   "cell_type": "code",
   "execution_count": 58,
   "metadata": {},
   "outputs": [
    {
     "data": {
      "text/html": [
       "<div>\n",
       "<style scoped>\n",
       "    .dataframe tbody tr th:only-of-type {\n",
       "        vertical-align: middle;\n",
       "    }\n",
       "\n",
       "    .dataframe tbody tr th {\n",
       "        vertical-align: top;\n",
       "    }\n",
       "\n",
       "    .dataframe thead th {\n",
       "        text-align: right;\n",
       "    }\n",
       "</style>\n",
       "<table border=\"1\" class=\"dataframe\">\n",
       "  <thead>\n",
       "    <tr style=\"text-align: right;\">\n",
       "      <th></th>\n",
       "      <th>Sage.n</th>\n",
       "      <th>Sagef</th>\n",
       "      <th>sagef</th>\n",
       "      <th>mpmath</th>\n",
       "      <th>Sage53</th>\n",
       "      <th>scipy</th>\n",
       "      <th>cython</th>\n",
       "      <th>Pari-p15</th>\n",
       "      <th>Pari-p20</th>\n",
       "    </tr>\n",
       "  </thead>\n",
       "  <tbody>\n",
       "    <tr>\n",
       "      <th>10</th>\n",
       "      <td>[0.009588489999684195, 6.e-124, 3.e-17]</td>\n",
       "      <td>[0.005084900000171425, 6.e-124, 3.e-17]</td>\n",
       "      <td>[0.00511957666676608, 1.e-122, 2.e-16]</td>\n",
       "      <td>[0.005596186666662106, 6.e-124, 3.e-17]</td>\n",
       "      <td>[0.005454096666411109, 6.e-124, 3.e-17]</td>\n",
       "      <td>[0.00044597666662108776, 2.e-122, 2.e-16]</td>\n",
       "      <td>[9.32366664831837e-05, 2.e-122, 2.e-16]</td>\n",
       "      <td>[0.0003175000000000001, 4.e-121, 2.e-14]</td>\n",
       "      <td>[0.0005333333333333334, 6.e-124, 3.e-17]</td>\n",
       "    </tr>\n",
       "    <tr>\n",
       "      <th>100</th>\n",
       "      <td>[0.0860049000000193, 6.e-124, 1.e-15]</td>\n",
       "      <td>[0.03654373999985788, 6.e-124, 2.e-15]</td>\n",
       "      <td>[0.036809526666669014, 1.e-122, 1.e-15]</td>\n",
       "      <td>[0.040904919999835934, 6.e-124, 2.e-15]</td>\n",
       "      <td>[0.039143619999958905, 6.e-124, 2.e-15]</td>\n",
       "      <td>[0.003924666666474271, 2.e-122, 2.e-11]</td>\n",
       "      <td>[0.000562990000131928, 2.e-122, 2.e-11]</td>\n",
       "      <td>[0.0015666666666666667, 4.e-121, 4.e-14]</td>\n",
       "      <td>[0.011564000000000001, 6.e-124, 6.e-17]</td>\n",
       "    </tr>\n",
       "    <tr>\n",
       "      <th>1000</th>\n",
       "      <td>[0.8330543366665855, 6.e-124, 3.e-15]</td>\n",
       "      <td>[0.37136791000011726, 6.e-124, 2.e-15]</td>\n",
       "      <td>[0.37111743999994357, 1.e-122, 2.e-15]</td>\n",
       "      <td>[0.4031980166665259, 6.e-124, 2.e-15]</td>\n",
       "      <td>[0.3910407666667501, 6.e-124, 2.e-15]</td>\n",
       "      <td>[0.03934012333338615, 2.e-122, 4.e-10]</td>\n",
       "      <td>[0.005851816666593852, 2.e-122, 4.e-10]</td>\n",
       "      <td>[0.028700000000000003, 2.e-121, 5.e-14]</td>\n",
       "      <td>[0.11626666666666667, 0.e+00, 2.e-16]</td>\n",
       "    </tr>\n",
       "    <tr>\n",
       "      <th>10000</th>\n",
       "      <td>[8.562566959999822, 0.e+00, 3.e-15]</td>\n",
       "      <td>[3.756837010000163, 0.e+00, 3.e-15]</td>\n",
       "      <td>[3.7358952033335906, 0.e+00, 3.e-15]</td>\n",
       "      <td>[4.054545016666573, 6.e-124, 3.e-15]</td>\n",
       "      <td>[3.930299429999771, 0.e+00, 3.e-15]</td>\n",
       "      <td>[0.39322508666664363, 2.e-122, 5.e-10]</td>\n",
       "      <td>[0.05768693999974251, 2.e-122, 5.e-10]</td>\n",
       "      <td>[0.31750000000000006, 2.e-122, 5.e-14]</td>\n",
       "      <td>[1.1564, 0.e+00, 2.e-16]</td>\n",
       "    </tr>\n",
       "  </tbody>\n",
       "</table>\n",
       "</div>"
      ],
      "text/plain": [
       "                                        Sage.n  \\\n",
       "10     [0.009588489999684195, 6.e-124, 3.e-17]   \n",
       "100      [0.0860049000000193, 6.e-124, 1.e-15]   \n",
       "1000     [0.8330543366665855, 6.e-124, 3.e-15]   \n",
       "10000      [8.562566959999822, 0.e+00, 3.e-15]   \n",
       "\n",
       "                                         Sagef  \\\n",
       "10     [0.005084900000171425, 6.e-124, 3.e-17]   \n",
       "100     [0.03654373999985788, 6.e-124, 2.e-15]   \n",
       "1000    [0.37136791000011726, 6.e-124, 2.e-15]   \n",
       "10000      [3.756837010000163, 0.e+00, 3.e-15]   \n",
       "\n",
       "                                         sagef  \\\n",
       "10      [0.00511957666676608, 1.e-122, 2.e-16]   \n",
       "100    [0.036809526666669014, 1.e-122, 1.e-15]   \n",
       "1000    [0.37111743999994357, 1.e-122, 2.e-15]   \n",
       "10000     [3.7358952033335906, 0.e+00, 3.e-15]   \n",
       "\n",
       "                                        mpmath  \\\n",
       "10     [0.005596186666662106, 6.e-124, 3.e-17]   \n",
       "100    [0.040904919999835934, 6.e-124, 2.e-15]   \n",
       "1000     [0.4031980166665259, 6.e-124, 2.e-15]   \n",
       "10000     [4.054545016666573, 6.e-124, 3.e-15]   \n",
       "\n",
       "                                        Sage53  \\\n",
       "10     [0.005454096666411109, 6.e-124, 3.e-17]   \n",
       "100    [0.039143619999958905, 6.e-124, 2.e-15]   \n",
       "1000     [0.3910407666667501, 6.e-124, 2.e-15]   \n",
       "10000      [3.930299429999771, 0.e+00, 3.e-15]   \n",
       "\n",
       "                                           scipy  \\\n",
       "10     [0.00044597666662108776, 2.e-122, 2.e-16]   \n",
       "100      [0.003924666666474271, 2.e-122, 2.e-11]   \n",
       "1000      [0.03934012333338615, 2.e-122, 4.e-10]   \n",
       "10000     [0.39322508666664363, 2.e-122, 5.e-10]   \n",
       "\n",
       "                                        cython  \\\n",
       "10     [9.32366664831837e-05, 2.e-122, 2.e-16]   \n",
       "100    [0.000562990000131928, 2.e-122, 2.e-11]   \n",
       "1000   [0.005851816666593852, 2.e-122, 4.e-10]   \n",
       "10000   [0.05768693999974251, 2.e-122, 5.e-10]   \n",
       "\n",
       "                                       Pari-p15  \\\n",
       "10     [0.0003175000000000001, 4.e-121, 2.e-14]   \n",
       "100    [0.0015666666666666667, 4.e-121, 4.e-14]   \n",
       "1000    [0.028700000000000003, 2.e-121, 5.e-14]   \n",
       "10000    [0.31750000000000006, 2.e-122, 5.e-14]   \n",
       "\n",
       "                                       Pari-p20  \n",
       "10     [0.0005333333333333334, 6.e-124, 3.e-17]  \n",
       "100     [0.011564000000000001, 6.e-124, 6.e-17]  \n",
       "1000      [0.11626666666666667, 0.e+00, 2.e-16]  \n",
       "10000                  [1.1564, 0.e+00, 2.e-16]  "
      ]
     },
     "execution_count": 58,
     "metadata": {},
     "output_type": "execute_result"
    }
   ],
   "source": [
    "bench = times.applymap(lambda x: [x])+errs\n",
    "bench"
   ]
  },
  {
   "cell_type": "code",
   "execution_count": 59,
   "metadata": {},
   "outputs": [],
   "source": [
    "bench.to_csv('pdfAnalyticComparison.csv')"
   ]
  },
  {
   "cell_type": "markdown",
   "metadata": {},
   "source": [
    "***\n",
    "<a id=references></a>\n",
    "# <font color=brown> References </font>\n",
    "This notebook belongs to supplementary materials of the paper submitted to Journal of Statistical Computation and\n",
    "Simulation and available at  <https://arxiv.org/abs/2105.04427>.\n",
    "* Hančová, M., Gajdoš, A., Hanč, J. (2021). A practical, effective calculation of gamma difference distributions with open data science tools. arXiv:2105.04427 [cs, math, stat], https://arxiv.org/abs/2105.04427\n",
    "\n",
    "### Abstract of the paper\n",
    "\n",
    "At present, there is still no officially accepted and extensively verified implementation of computing the gamma difference distribution allowing unequal shape parameters. We explore four computational ways of the gamma difference distribution with the different shape parameters resulting from time series kriging, a forecasting approach based on the best linear unbiased prediction, and linear mixed models. The results of our numerical study, with emphasis on using open data science tools, demonstrate that our open tool implemented in high-performance Python(with Numba) is exponentially fast, highly accurate, and very reliable. It combines numerical inversion of the characteristic function and the trapezoidal rule with the double exponential oscillatory transformation (DE quadrature). At the double 53-bit precision, our tool outperformed the speed of the analytical computation based on Tricomi's $U(a, b, z)$ function in CAS software (commercial Mathematica, open SageMath) by 1.5-2 orders. At the precision of scientific numerical computational tools, it exceeded open SciPy, NumPy, and commercial MATLAB 5-10 times. The potential future application of our tool for a mixture of characteristic functions could open new possibilities for fast data analysis based on exact probability distributions in areas like multidimensional statistics, measurement uncertainty analysis in metrology as well as in financial mathematics and risk analysis. "
   ]
  }
 ],
 "metadata": {
  "hide_input": false,
  "kernelspec": {
   "display_name": "SageMath 9.2",
   "language": "sage",
   "name": "sagemath"
  },
  "language_info": {
   "codemirror_mode": {
    "name": "ipython",
    "version": 3
   },
   "file_extension": ".py",
   "mimetype": "text/x-python",
   "name": "python",
   "nbconvert_exporter": "python",
   "pygments_lexer": "ipython3",
   "version": "3.7.7"
  },
  "toc": {
   "base_numbering": 1,
   "nav_menu": {},
   "number_sections": true,
   "sideBar": true,
   "skip_h1_title": false,
   "title_cell": "Table of Contents",
   "title_sidebar": "Contents",
   "toc_cell": false,
   "toc_position": {},
   "toc_section_display": true,
   "toc_window_display": false
  },
  "varInspector": {
   "cols": {
    "lenName": 16,
    "lenType": 16,
    "lenVar": 40
   },
   "kernels_config": {
    "python": {
     "delete_cmd_postfix": "",
     "delete_cmd_prefix": "del ",
     "library": "var_list.py",
     "varRefreshCmd": "print(var_dic_list())"
    },
    "r": {
     "delete_cmd_postfix": ") ",
     "delete_cmd_prefix": "rm(",
     "library": "var_list.r",
     "varRefreshCmd": "cat(var_dic_list()) "
    }
   },
   "types_to_exclude": [
    "module",
    "function",
    "builtin_function_or_method",
    "instance",
    "_Feature"
   ],
   "window_display": false
  }
 },
 "nbformat": 4,
 "nbformat_minor": 1
}
