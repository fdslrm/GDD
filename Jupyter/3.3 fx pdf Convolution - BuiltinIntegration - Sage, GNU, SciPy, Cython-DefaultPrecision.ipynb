{
 "cells": [
  {
   "cell_type": "markdown",
   "metadata": {},
   "source": [
    "**Authors:** Jozef Hanč, Martina Hančová  <br> *[Faculty of Science](https://www.upjs.sk/en/faculty-of-science/?prefferedLang=EN), P. J. Šafárik University in Košice, Slovakia* <br> emails: [martina.hancova@upjs.sk](mailto:martina.hancova@upjs.sk)\n",
    "***\n",
    "\n",
    "# <font color = brown, size=6> $\\mathcal{GDD}$ pdf convolution integral</font>\n",
    "\n",
    "# Built-in automatic numerical integration procedures - default precision\n",
    "\n",
    "<font size=4> Computational tools: </font>  **<font size=4>Pari, Sage, SciPy, Cython</font>**  "
   ]
  },
  {
   "cell_type": "code",
   "execution_count": 1,
   "metadata": {
    "ExecuteTime": {
     "end_time": "2021-04-22T17:30:05.960563Z",
     "start_time": "2021-04-22T17:30:05.956561Z"
    }
   },
   "outputs": [
    {
     "data": {
      "text/plain": [
       "{'sagelib': '9.2',\n",
       " 'scipy': '1.5.2',\n",
       " 'mpmath': '1.1.0',\n",
       " 'numpy': '1.19.1',\n",
       " 'cython': '0.29.21',\n",
       " 'matplotlib': '3.3.1',\n",
       " 'pari': '2.11.4.p0'}"
      ]
     },
     "execution_count": 1,
     "metadata": {},
     "output_type": "execute_result"
    }
   ],
   "source": [
    "N = 4 #test up to 10^N pdf values\n",
    "\n",
    "import numpy as np\n",
    "import pandas as pd\n",
    "import matplotlib.pyplot as plt\n",
    "plt.style.use('seaborn-whitegrid')\n",
    "\n",
    "from numpy import inf as INF\n",
    "v = lambda LIST: vector(LIST)\n",
    "from time import time\n",
    "\n",
    "import math, cmath\n",
    "import scipy\n",
    "\n",
    "# approximate formulas for precisions expressed in bits and decimal places\n",
    "bits = lambda d:round((d+1)*ln(10)/ln(2)) \n",
    "dps = lambda b:round(b*ln(2)/ln(10) - 1)\n",
    "\n",
    "# accuracy in Python\n",
    "def abs_errs(df1, df2):\n",
    "    N = len(df1)\n",
    "    errors = [abs(df1[i]-df2[i]) for i in range(N)]\n",
    "    return errors\n",
    "\n",
    "ver = installed_packages()\n",
    "tools = ['sagelib', 'scipy', 'mpmath', 'numpy', 'cython', 'matplotlib', 'pari']\n",
    "vers = {tool:ver[tool] for tool in tools}\n",
    "vers"
   ]
  },
  {
   "cell_type": "markdown",
   "metadata": {},
   "source": [
    "## $\\mathcal{GDD}$ pdf  $-$ analytic expression\n",
    "\n",
    "$\n",
    "f(z)=\n",
    "\\dfrac{\\beta_{1}^{\\alpha_{1}} \\beta_{2}^{\\alpha_{2}}}{\\beta^{\\alpha-1}}\n",
    "\\begin{cases}\n",
    "{\\dfrac{e^{z \\beta_{2}}}{\\Gamma\\left(\\alpha_{2}\\right)} U\\left(1-\\alpha_{2}, 2-\\alpha,-z \\beta\\right),} & {z<0} \\\\[12pt]\n",
    "\\begin{array}{cc} \n",
    "\\frac{\\Gamma(\\alpha-1)}{\\beta^{a / 2-1} \\Gamma\\left(\\alpha_{1}\\right) \\Gamma\\left(\\alpha_{2}\\right)}, & \\scriptstyle 1<\\alpha \\\\ \n",
    "\\infty,  & \\scriptstyle 0<\\alpha \\leq 1 \n",
    "\\end{array}, & z=0 \\\\[12pt] \n",
    "{\\dfrac{e^{-z \\beta_{1}}}{\\Gamma\\left(\\alpha_{1}\\right)} U\\left(1-\\alpha_{1}, 2-\\alpha, z \\beta\\right),} & {z>0}\n",
    "\\end{cases}\n",
    "$\n",
    "\n",
    "\n",
    "$\\alpha=\\alpha_{1}+\\alpha_{2}, \\quad \\beta=\\beta_{1}+\\beta_{2}$"
   ]
  },
  {
   "cell_type": "code",
   "execution_count": 2,
   "metadata": {},
   "outputs": [],
   "source": [
    "# pre-calulated analytic results from mpmath, Pari GP and Arb\n",
    "dpari = {str(10**(n+1)):np.loadtxt('data/Pari_Sage_pdf'+str(10**(n+1))+'.txt', delimiter=',',\n",
    "                                   dtype=np.longdouble) for n in range(N)}\n",
    "dx = {str(10**(n+1)):np.loadtxt('data/xvalues'+str(10**(n+1))+'.txt', dtype=np.longdouble) for n in range(N)}"
   ]
  },
  {
   "cell_type": "markdown",
   "metadata": {},
   "source": [
    "# Pdf as a convolution integral\n",
    "<div style=\"display:none\">\n",
    "$\n",
    " \\newcommand{\\a}{\\alpha}\n",
    " \\newcommand{\\b}{\\beta}\n",
    " \\newcommand{\\cft}{\\varphi(t)}\n",
    "  \\newcommand{\\Rv}[1]{\\mathscr{R}^{#1}}\n",
    "$\n",
    "</div>\n",
    "\n",
    "$\n",
    "f(z)=\n",
    "\\dfrac{\\beta_{1}^{\\alpha_{1}} \\beta_{2}^{\\alpha_{2}}}{\\Gamma\\left(\\alpha_{1}\\right) \\Gamma\\left(\\alpha_{2}\\right)}\n",
    "\\begin{cases}\n",
    "{e^{-\\beta_{1} z} \\displaystyle \\int_{-z}^{\\infty} x^{\\alpha_{2}-1}(x+z)^{\\alpha_{1}-1} e^{-\\beta x} d x,} & {z<0} \\\\[12pt]\n",
    "\\begin{array}{cc} \n",
    "\\frac{\\Gamma(\\alpha-1)}{\\beta^{a-1}}, & \\scriptstyle 1<\\alpha \\\\ \n",
    "\\infty,  & \\scriptstyle 0<\\alpha \\leq 1 \n",
    "\\end{array}, & z=0 \\\\[12pt] \n",
    "{e^{\\beta_{2} z} \\displaystyle \\int_{z}^{\\infty} x^{\\alpha_{1}-1}(x-z)^{\\alpha_{2}-1} e^{-\\beta x} d x,} & {z>0}\n",
    "\\end{cases}\n",
    "$\n",
    "\n",
    "$\\alpha=\\alpha_{1}+\\alpha_{2}, \\quad \\beta=\\beta_{1}+\\beta_{2}$"
   ]
  },
  {
   "cell_type": "markdown",
   "metadata": {},
   "source": [
    "## Sage $-$ GLS library"
   ]
  },
  {
   "cell_type": "code",
   "execution_count": 3,
   "metadata": {
    "ExecuteTime": {
     "end_time": "2021-04-22T17:30:09.344995Z",
     "start_time": "2021-04-22T17:30:09.332402Z"
    }
   },
   "outputs": [],
   "source": [
    "eps = 1e-15\n",
    "a1, b1 = 0.5, 1.0\n",
    "a2, b2 = 8.5, 93.0\n",
    "a, b = a1+a2, b1+b2\n",
    "c = b1^a1*b2^a2/gamma(a1)/gamma(a2)\n",
    "gls_kwargs = {} #{'eps_rel': eps, 'eps_abs':eps, 'max_points':1000}\n",
    "\n",
    "# defining f(z) 53-bit\n",
    "fm = lambda z: numerical_integral(c*exp(-z*b1)*x**(a2-1)*(x+z)**(a1-1)*exp(-b*x), -z, oo,**gls_kwargs)[0] \n",
    "f0 = lambda z: c*gamma(a-1)/b**(a-1) if a>1 else oo\n",
    "fp = lambda z: numerical_integral(c*exp(z*b2)*x**(a1-1)*(x-z)**(a2-1)*exp(-b*x), z, oo,**gls_kwargs)[0] \n",
    "\n",
    "fsage = lambda z: fp(z) if z > 0 else fm(z) if z < 0 else f0(z)"
   ]
  },
  {
   "cell_type": "code",
   "execution_count": 4,
   "metadata": {},
   "outputs": [],
   "source": [
    "A1, B1 = QQ(a1), QQ(b1)\n",
    "A2, B2 = QQ(a2), QQ(b2)\n",
    "A, B = A1+A2, B1+B2\n",
    "C = B1^A1*B2^A2/gamma(A1)/gamma(A2)\n",
    "\n",
    "# defining f(z) Sage\n",
    "fmS = lambda z: numerical_integral(C*exp(-z*B1)*x**(A2-1)*(x+z)**(A1-1)*exp(-B*x), -z, oo,**gls_kwargs)[0] \n",
    "f0S = lambda z: (C*gamma(A-1)/B**(A-1)).n() if a>1 else oo\n",
    "fpS= lambda z: numerical_integral(C*exp(z*B2)*x**(A1-1)*(x-z)**(A2-1)*exp(-B*x), z, oo,**gls_kwargs)[0] \n",
    "\n",
    "fSage = lambda z: fpS(z) if z > 0 else fmS(z) if z < 0 else f0S(z)"
   ]
  },
  {
   "cell_type": "code",
   "execution_count": 5,
   "metadata": {},
   "outputs": [],
   "source": [
    "# defining f(z) Sage fast float\n",
    "f0f = lambda: (C*gamma(A-1)/B**(A-1)).n() if a>1 else oo\n",
    "\n",
    "gm(z,x) = C*exp(-z*B1)*x**(A2-1)*(x+z)**(A1-1)*exp(-B*x); gmf = fast_float(gm(z,x),z,x)\n",
    "fmf = lambda z: numerical_integral(lambda x:gmf(z,x), -z, oo,**gls_kwargs)[0] \n",
    "\n",
    "gp(z,x) = C*exp(z*B2)*x**(A1-1)*(x-z)**(A2-1)*exp(-B*x); gpf = fast_float(gp(z,x), z, x)\n",
    "fpf = lambda z: numerical_integral(lambda x:gpf(z,x), z, oo,**gls_kwargs)[0] \n",
    "\n",
    "fsagef = lambda z: fpf(z) if z > 0 else fmf(z) if z < 0 else f0f()"
   ]
  },
  {
   "cell_type": "code",
   "execution_count": 6,
   "metadata": {},
   "outputs": [
    {
     "data": {
      "text/plain": [
       "(5.33842006763106, 5.3384200676310565, 8.05289321431687, 8.052893214316866)"
      ]
     },
     "execution_count": 6,
     "metadata": {},
     "output_type": "execute_result"
    }
   ],
   "source": [
    "gm(-0.1, 0.15).n(), gmf(-0.1, 0.15), gp(0.1, 0.15).n(), gpf(0.1, 0.15)"
   ]
  },
  {
   "cell_type": "code",
   "execution_count": 7,
   "metadata": {},
   "outputs": [
    {
     "data": {
      "text/plain": [
       "0.18154352175633093"
      ]
     },
     "execution_count": 7,
     "metadata": {},
     "output_type": "execute_result"
    }
   ],
   "source": [
    "fpf(1)"
   ]
  },
  {
   "cell_type": "code",
   "execution_count": 8,
   "metadata": {},
   "outputs": [
    {
     "data": {
      "text/plain": [
       "(0.1815435217563309, 0.18154352175633093, 0.18154352175633093)"
      ]
     },
     "execution_count": 8,
     "metadata": {},
     "output_type": "execute_result"
    }
   ],
   "source": [
    "sageval = fSage(1), fsage(1), fsagef(1)\n",
    "sageval"
   ]
  },
  {
   "cell_type": "markdown",
   "metadata": {},
   "source": [
    "## SciPy"
   ]
  },
  {
   "cell_type": "code",
   "execution_count": 9,
   "metadata": {
    "ExecuteTime": {
     "end_time": "2021-04-22T17:30:06.422487Z",
     "start_time": "2021-04-22T17:30:06.263009Z"
    }
   },
   "outputs": [],
   "source": [
    "# importing scientific python library for fast computing\n",
    "import scipy.special as sp\n",
    "from scipy.integrate import quad"
   ]
  },
  {
   "cell_type": "code",
   "execution_count": 10,
   "metadata": {
    "ExecuteTime": {
     "end_time": "2021-04-22T17:30:06.437634Z",
     "start_time": "2021-04-22T17:30:06.423010Z"
    }
   },
   "outputs": [],
   "source": [
    "cs = b1**a1*b2**a2/(sp.gamma(a1)*sp.gamma(a2))\n",
    "sci_kwargs = {} #{'epsabs':eps, 'epsrel':eps, 'limit':1000}\n",
    "\n",
    "# defining f(z)\n",
    "fms = lambda z: quad(lambda x:c*math.exp(-z*b1)*x**(a2-1)*(x+z)**(a1-1)*math.exp(-b*x), -z, oo,**sci_kwargs)[0] \n",
    "f0s = lambda z: c*sp.gamma(a-1)/b**(a-1) if a>1 else oo\n",
    "fps = lambda z: quad(lambda x: c*math.exp(z*b2)*x**(a1-1)*(x-z)**(a2-1)*math.exp(-b*x), z, oo,**sci_kwargs)[0] \n",
    "\n",
    "fsci = lambda z: fps(z) if z > 0 else fms(z) if z < 0 else f0s(z)"
   ]
  },
  {
   "cell_type": "code",
   "execution_count": 11,
   "metadata": {
    "ExecuteTime": {
     "end_time": "2021-04-22T17:30:08.679283Z",
     "start_time": "2021-04-22T17:30:08.662358Z"
    }
   },
   "outputs": [
    {
     "data": {
      "text/plain": [
       "0.181543521756319"
      ]
     },
     "execution_count": 11,
     "metadata": {},
     "output_type": "execute_result"
    }
   ],
   "source": [
    "fsci(1)"
   ]
  },
  {
   "cell_type": "markdown",
   "metadata": {},
   "source": [
    "## Cython"
   ]
  },
  {
   "cell_type": "code",
   "execution_count": 12,
   "metadata": {},
   "outputs": [],
   "source": [
    "%load_ext Cython"
   ]
  },
  {
   "cell_type": "code",
   "execution_count": 13,
   "metadata": {},
   "outputs": [],
   "source": [
    "%%cython\n",
    "cimport scipy.special.cython_special as cs\n",
    "cimport libc.math as lc\n",
    "from numpy.math cimport INFINITY\n",
    "from scipy.integrate import quad \n",
    "\n",
    "def fmcy(double x, double z, double a1, double a2, double b1, double b2):\n",
    "    cdef:\n",
    "        double a = a1+a2\n",
    "        double b = b1+b2\n",
    "        double c = lc.pow(b1,a1)*lc.pow(b2,a2)/cs.gamma(a1)/cs.gamma(a2)\n",
    "       \n",
    "    return c*lc.exp(-z*b1)*lc.pow(x,a2-1)*lc.pow(x+z,a1-1)*lc.exp(-b*x) \n",
    "    \n",
    "\n",
    "def fpcy(double x, double z, double a1, double a2, double b1, double b2):\n",
    "    cdef:\n",
    "        double a = a1+a2\n",
    "        double b = b1+b2\n",
    "        double c = lc.pow(b1,a1)*lc.pow(b2,a2)/cs.gamma(a1)/cs.gamma(a2)\n",
    "  \n",
    "    return c*lc.exp(z*b2)*lc.pow(x,a1-1)*lc.pow(x-z,a2-1)*lc.exp(-b*x)\n",
    "    \n",
    "def f0cy(double a1, double a2, double b1, double b2):\n",
    "    cdef:\n",
    "        double a = a1+a2\n",
    "        double b = b1+b2\n",
    "        double c = lc.pow(b1,a1)*lc.pow(b2,a2)/cs.gamma(a1)/cs.gamma(a2)\n",
    "        double d = c*cs.gamma(a-1)/lc.pow(b, a-1)\n",
    "    \n",
    "    if a<1: value = d\n",
    "    else: value = INFINITY\n",
    "    return value"
   ]
  },
  {
   "cell_type": "code",
   "execution_count": 14,
   "metadata": {},
   "outputs": [],
   "source": [
    "def fcys(z):\n",
    "    if z>0: \n",
    "        value = quad(lambda x: fpcy(x,z,a1,a2,b1,b2), z, oo, **sci_kwargs)[0]\n",
    "    elif z<0:\n",
    "        value = quad(lambda x: fmcy(x,z,a1,a2,b1,b2), -z, oo, **sci_kwargs)[0]\n",
    "    else:\n",
    "        value = f0cy(a1,a2, b1, b2)\n",
    "    return value\n",
    "\n",
    "def fcyg(z):\n",
    "    if z>0: \n",
    "        value = numerical_integral(lambda x: fpcy(x,z,a1,a2,b1,b2), z, oo, **gls_kwargs)[0]\n",
    "    elif z<0:\n",
    "        value = numerical_integral(lambda x: fmcy(x,z,a1,a2,b1,b2), -z, oo, **gls_kwargs)[0]\n",
    "    else:\n",
    "        value = f0cy(a1,a2, b1, b2)\n",
    "    return value"
   ]
  },
  {
   "cell_type": "code",
   "execution_count": 15,
   "metadata": {},
   "outputs": [
    {
     "data": {
      "text/plain": [
       "(0.18154352175633098, 0.18154352175631905)"
      ]
     },
     "execution_count": 15,
     "metadata": {},
     "output_type": "execute_result"
    }
   ],
   "source": [
    "values = fcyg(1), fcys(1)\n",
    "values"
   ]
  },
  {
   "cell_type": "markdown",
   "metadata": {},
   "source": [
    "## Pilot test"
   ]
  },
  {
   "cell_type": "code",
   "execution_count": 16,
   "metadata": {},
   "outputs": [],
   "source": [
    "pdf = {'Sage': fSage, 'sage 53': fsage, 'sci':fsci, 'sage ff': fsagef, 'sci-cy': fcys, 'gls-cy':fcyg}"
   ]
  },
  {
   "cell_type": "code",
   "execution_count": 17,
   "metadata": {
    "ExecuteTime": {
     "end_time": "2021-04-22T17:30:38.642752Z",
     "start_time": "2021-04-22T17:30:09.770152Z"
    }
   },
   "outputs": [
    {
     "name": "stdout",
     "output_type": "stream",
     "text": [
      "Sage <class 'float'> f(0.560000000000000)= 0.365175683755502\n",
      "13.6 ms ± 233 µs per loop (mean ± std. dev. of 3 runs, 10 loops each)\n",
      "\n",
      "sage 53 <class 'float'> f(0.560000000000000)= 0.365175683755502\n",
      "12.1 ms ± 306 µs per loop (mean ± std. dev. of 3 runs, 10 loops each)\n",
      "\n",
      "sci <class 'float'> f(0.560000000000000)= 0.3651756837554774\n",
      "4.77 ms ± 35.5 µs per loop (mean ± std. dev. of 3 runs, 10 loops each)\n",
      "\n",
      "sage ff <class 'float'> f(0.560000000000000)= 0.365175683755502\n",
      "63.9 µs ± 1.54 µs per loop (mean ± std. dev. of 3 runs, 10 loops each)\n",
      "\n",
      "sci-cy <class 'float'> f(0.560000000000000)= 0.3651756837554775\n",
      "139 µs ± 2.37 µs per loop (mean ± std. dev. of 3 runs, 10 loops each)\n",
      "\n",
      "gls-cy <class 'float'> f(0.560000000000000)= 0.36517568375550213\n",
      "94.6 µs ± 1.67 µs per loop (mean ± std. dev. of 3 runs, 10 loops each)\n",
      "\n"
     ]
    }
   ],
   "source": [
    "t = 0.56\n",
    "runtimes = []\n",
    "for key, fun in pdf.items():\n",
    "    print(key, type(fun(t)), 'f('+str(t)+')=', fun(t))\n",
    "    rt = %timeit -r 1 -n 10 -oq fun(t)\n",
    "    runtimes += [rt.average]\n",
    "    %timeit -r 3 -n 10 fun(t)\n",
    "    print('')"
   ]
  },
  {
   "cell_type": "code",
   "execution_count": 18,
   "metadata": {
    "scrolled": true
   },
   "outputs": [
    {
     "data": {
      "text/plain": [
       "[0.014456570000004377,\n",
       " 0.012387460000002192,\n",
       " 0.00481429000000162,\n",
       " 6.639000000632222e-05,\n",
       " 0.00013827999999875827,\n",
       " 9.665000000040891e-05]"
      ]
     },
     "execution_count": 18,
     "metadata": {},
     "output_type": "execute_result"
    }
   ],
   "source": [
    "runtimes"
   ]
  },
  {
   "cell_type": "code",
   "execution_count": 19,
   "metadata": {},
   "outputs": [
    {
     "data": {
      "text/plain": [
       "[1.0,\n",
       " 1.1670326281579775,\n",
       " 3.002845694796016,\n",
       " 217.7522216994683,\n",
       " 104.54563205188164,\n",
       " 149.5765131913421]"
      ]
     },
     "execution_count": 19,
     "metadata": {},
     "output_type": "execute_result"
    }
   ],
   "source": [
    "list(runtimes[0]/np.array(runtimes))"
   ]
  },
  {
   "cell_type": "markdown",
   "metadata": {},
   "source": [
    "# Benchmark"
   ]
  },
  {
   "cell_type": "code",
   "execution_count": 20,
   "metadata": {
    "ExecuteTime": {
     "end_time": "2021-04-22T17:30:40.414199Z",
     "start_time": "2021-04-22T17:30:40.397605Z"
    }
   },
   "outputs": [],
   "source": [
    "# testing set \n",
    "points = dx\n",
    "#points = lambda n: np.linspace(-3, 4, n)\n",
    "#points = lambda n: [-3, -3+7/(n-1), .., 4]"
   ]
  },
  {
   "cell_type": "code",
   "execution_count": 21,
   "metadata": {},
   "outputs": [],
   "source": [
    "#pdf = {'sage': fsage, 'sci':fsci, 'sci-cy': fcys, 'gnu-cy':fcyg}"
   ]
  },
  {
   "cell_type": "code",
   "execution_count": 22,
   "metadata": {
    "ExecuteTime": {
     "end_time": "2021-04-22T17:33:07.411922Z",
     "start_time": "2021-04-22T17:33:07.395888Z"
    }
   },
   "outputs": [],
   "source": [
    "methods = list(pdf.keys())\n",
    "benchmark = pd.DataFrame(index =['10', '100', '1000', '10000'], \n",
    "            columns = methods)"
   ]
  },
  {
   "cell_type": "code",
   "execution_count": 23,
   "metadata": {},
   "outputs": [
    {
     "data": {
      "text/plain": [
       "['Sage', 'sage 53', 'sci', 'sage ff', 'sci-cy', 'gls-cy']"
      ]
     },
     "execution_count": 23,
     "metadata": {},
     "output_type": "execute_result"
    }
   ],
   "source": [
    "list(pdf.keys())"
   ]
  },
  {
   "cell_type": "code",
   "execution_count": 24,
   "metadata": {},
   "outputs": [
    {
     "name": "stdout",
     "output_type": "stream",
     "text": [
      "10 Sage\n",
      "10 sage 53\n",
      "10 sci\n",
      "10 sage ff\n",
      "10 sci-cy\n",
      "10 gls-cy\n",
      "*************************\n",
      "10  runtime = 2.263273239135742 s\n",
      "(0.13, 1.8e-107, 9.1e-14) Sage\n",
      "(0.11, 1.8e-107, 9.1e-14) sage 53\n",
      "(0.062, 1.8e-107, 4.4e-15) sci\n",
      "(0.00076, 1.8e-107, 9.0e-14) sage ff\n",
      "(0.0011, 1.8e-107, 4.4e-15) sci-cy\n",
      "(0.0010, 1.8e-107, 9.0e-14) gls-cy\n",
      "*************************\n",
      "*************************\n",
      "100 Sage\n",
      "100 sage 53\n",
      "100 sci\n",
      "100 sage ff\n",
      "100 sci-cy\n",
      "100 gls-cy\n",
      "*************************\n",
      "100  runtime = 25.434470653533936 s\n",
      "(1.3, 1.8e-107, 1.7e-8) Sage\n",
      "(1.2, 1.8e-107, 1.7e-8) sage 53\n",
      "(0.67, 1.8e-107, 8.4e-11) sci\n",
      "(0.0078, 1.8e-107, 1.7e-8) sage ff\n",
      "(0.012, 1.8e-107, 8.4e-11) sci-cy\n",
      "(0.010, 1.8e-107, 1.7e-8) gls-cy\n",
      "*************************\n",
      "*************************\n",
      "1000 Sage\n",
      "1000 sage 53\n",
      "1000 sci\n",
      "1000 sage ff\n",
      "1000 sci-cy\n",
      "1000 gls-cy\n",
      "*************************\n",
      "1000  runtime = 257.6901898384094 s\n",
      "(13., 1.8e-107, 6.5e-8) Sage\n",
      "(12., 1.8e-107, 6.5e-8) sage 53\n",
      "(6.6, 1.8e-107, 1.0e-9) sci\n",
      "(0.077, 1.8e-107, 6.5e-8) sage ff\n",
      "(0.12, 1.8e-107, 1.0e-9) sci-cy\n",
      "(0.10, 1.8e-107, 6.5e-8) gls-cy\n",
      "*************************\n",
      "*************************\n",
      "10000 Sage\n",
      "10000 sage 53\n",
      "10000 sci\n",
      "10000 sage ff\n",
      "10000 sci-cy\n",
      "10000 gls-cy\n",
      "*************************\n",
      "10000  runtime = 3626.583744287491 s\n",
      "(170., 1.8e-107, 2.4e-7) Sage\n",
      "(220., 1.8e-107, 2.4e-7) sage 53\n",
      "(65., 1.8e-107, 7.1e-9) sci\n",
      "(0.76, 1.8e-107, 2.4e-7) sage ff\n",
      "(1.1, 1.8e-107, 7.1e-9) sci-cy\n",
      "(1.0, 1.8e-107, 2.4e-7) gls-cy\n",
      "*************************\n",
      "*************************\n"
     ]
    }
   ],
   "source": [
    "# start time\n",
    "tic = time()\n",
    "for n in range(N):\n",
    "    sample = points[str(10**(n+1))]\n",
    "    for (k,method) in enumerate(list(pdf.keys())):\n",
    "        if k<3:\n",
    "            rt = %timeit -r 3 -n 2 -oq [pdf[method](u) for u in sample]\n",
    "        else:\n",
    "            rt = %timeit -r 3 -n 10 -oq [pdf[method](u) for u in sample]                                \n",
    "        print(10**(n+1), method)\n",
    "        dm = [pdf[method](u) for u in sample]\n",
    "        dp = dpari[str(10**(n+1))]\n",
    "        ch_abs =abs_errs(dm, dp)\n",
    "        benchmark.loc[str(10**(n+1)),method] = [rt.average, min(ch_abs), max(ch_abs)]\n",
    "    #end time\n",
    "    toc = time()-tic; \n",
    "    print(25*'*')\n",
    "    print(10**(n+1),' runtime =',toc,'s')\n",
    "    for method in list(pdf.keys()):\n",
    "        print(v(benchmark.loc[str(10**(n+1)),method]).n(digits = 2), method)\n",
    "    print(25*'*')\n",
    "    print(25*'*')"
   ]
  },
  {
   "cell_type": "markdown",
   "metadata": {},
   "source": [
    "# Results"
   ]
  },
  {
   "cell_type": "code",
   "execution_count": 38,
   "metadata": {
    "ExecuteTime": {
     "end_time": "2021-04-22T17:41:48.297572Z",
     "start_time": "2021-04-22T17:41:48.264236Z"
    }
   },
   "outputs": [
    {
     "data": {
      "text/html": [
       "<div>\n",
       "<style scoped>\n",
       "    .dataframe tbody tr th:only-of-type {\n",
       "        vertical-align: middle;\n",
       "    }\n",
       "\n",
       "    .dataframe tbody tr th {\n",
       "        vertical-align: top;\n",
       "    }\n",
       "\n",
       "    .dataframe thead th {\n",
       "        text-align: right;\n",
       "    }\n",
       "</style>\n",
       "<table border=\"1\" class=\"dataframe\">\n",
       "  <thead>\n",
       "    <tr style=\"text-align: right;\">\n",
       "      <th></th>\n",
       "      <th>Sage</th>\n",
       "      <th>sage 53</th>\n",
       "      <th>sci</th>\n",
       "      <th>sage ff</th>\n",
       "      <th>sci-cy</th>\n",
       "      <th>gls-cy</th>\n",
       "    </tr>\n",
       "  </thead>\n",
       "  <tbody>\n",
       "    <tr>\n",
       "      <th>10</th>\n",
       "      <td>[0.13361341666668144, 1.8265629246189520312e-1...</td>\n",
       "      <td>[0.11448921666665986, 1.8265629246189532414e-1...</td>\n",
       "      <td>[0.062375300000004096, 1.8265629246189532414e-...</td>\n",
       "      <td>[0.0007572199999989, 1.826562924618950821e-107...</td>\n",
       "      <td>[0.0011161266666628459, 1.826562924618950821e-...</td>\n",
       "      <td>[0.000995466666665834, 1.826562924618950821e-1...</td>\n",
       "    </tr>\n",
       "    <tr>\n",
       "      <th>100</th>\n",
       "      <td>[1.3483721500000077, 1.8265629246189520312e-10...</td>\n",
       "      <td>[1.1553466166666528, 1.8265629246189532414e-10...</td>\n",
       "      <td>[0.6659201999999974, 1.8265629246189532414e-10...</td>\n",
       "      <td>[0.007764083333336203, 1.826562924618950821e-1...</td>\n",
       "      <td>[0.011599283333331793, 1.826562924618950821e-1...</td>\n",
       "      <td>[0.010254889999998795, 1.826562924618950821e-1...</td>\n",
       "    </tr>\n",
       "    <tr>\n",
       "      <th>1000</th>\n",
       "      <td>[13.288997249999966, 1.8265629246189520312e-10...</td>\n",
       "      <td>[11.958288433333337, 1.8265629246189532414e-10...</td>\n",
       "      <td>[6.628817200000033, 1.8265629246189532414e-107...</td>\n",
       "      <td>[0.07724693333333714, 1.826562924618950821e-10...</td>\n",
       "      <td>[0.11550389666666282, 1.826562924618950821e-10...</td>\n",
       "      <td>[0.10248154666666476, 1.826562924618950821e-10...</td>\n",
       "    </tr>\n",
       "    <tr>\n",
       "      <th>10000</th>\n",
       "      <td>[174.22088496666666, 1.8265629246189520312e-10...</td>\n",
       "      <td>[218.37545768333334, 1.8265629246189532414e-10...</td>\n",
       "      <td>[65.39152011666677, 1.8265629246189532414e-107...</td>\n",
       "      <td>[0.7558388866666973, 1.826562924618950821e-107...</td>\n",
       "      <td>[1.1407456833333527, 1.826562924618950821e-107...</td>\n",
       "      <td>[1.0037749200000083, 1.826562924618950821e-107...</td>\n",
       "    </tr>\n",
       "  </tbody>\n",
       "</table>\n",
       "</div>"
      ],
      "text/plain": [
       "                                                    Sage  \\\n",
       "10     [0.13361341666668144, 1.8265629246189520312e-1...   \n",
       "100    [1.3483721500000077, 1.8265629246189520312e-10...   \n",
       "1000   [13.288997249999966, 1.8265629246189520312e-10...   \n",
       "10000  [174.22088496666666, 1.8265629246189520312e-10...   \n",
       "\n",
       "                                                 sage 53  \\\n",
       "10     [0.11448921666665986, 1.8265629246189532414e-1...   \n",
       "100    [1.1553466166666528, 1.8265629246189532414e-10...   \n",
       "1000   [11.958288433333337, 1.8265629246189532414e-10...   \n",
       "10000  [218.37545768333334, 1.8265629246189532414e-10...   \n",
       "\n",
       "                                                     sci  \\\n",
       "10     [0.062375300000004096, 1.8265629246189532414e-...   \n",
       "100    [0.6659201999999974, 1.8265629246189532414e-10...   \n",
       "1000   [6.628817200000033, 1.8265629246189532414e-107...   \n",
       "10000  [65.39152011666677, 1.8265629246189532414e-107...   \n",
       "\n",
       "                                                 sage ff  \\\n",
       "10     [0.0007572199999989, 1.826562924618950821e-107...   \n",
       "100    [0.007764083333336203, 1.826562924618950821e-1...   \n",
       "1000   [0.07724693333333714, 1.826562924618950821e-10...   \n",
       "10000  [0.7558388866666973, 1.826562924618950821e-107...   \n",
       "\n",
       "                                                  sci-cy  \\\n",
       "10     [0.0011161266666628459, 1.826562924618950821e-...   \n",
       "100    [0.011599283333331793, 1.826562924618950821e-1...   \n",
       "1000   [0.11550389666666282, 1.826562924618950821e-10...   \n",
       "10000  [1.1407456833333527, 1.826562924618950821e-107...   \n",
       "\n",
       "                                                  gls-cy  \n",
       "10     [0.000995466666665834, 1.826562924618950821e-1...  \n",
       "100    [0.010254889999998795, 1.826562924618950821e-1...  \n",
       "1000   [0.10248154666666476, 1.826562924618950821e-10...  \n",
       "10000  [1.0037749200000083, 1.826562924618950821e-107...  "
      ]
     },
     "execution_count": 38,
     "metadata": {},
     "output_type": "execute_result"
    }
   ],
   "source": [
    "scn = lambda series, prec: [np.format_float_scientific(item, precision=prec) for item in v(series)]\n",
    "benchres = benchmark\n",
    "benchres"
   ]
  },
  {
   "cell_type": "markdown",
   "metadata": {},
   "source": [
    "## Run Times"
   ]
  },
  {
   "cell_type": "code",
   "execution_count": 39,
   "metadata": {
    "ExecuteTime": {
     "end_time": "2021-04-22T17:42:06.539785Z",
     "start_time": "2021-04-22T17:42:06.522993Z"
    }
   },
   "outputs": [
    {
     "data": {
      "text/html": [
       "<div>\n",
       "<style scoped>\n",
       "    .dataframe tbody tr th:only-of-type {\n",
       "        vertical-align: middle;\n",
       "    }\n",
       "\n",
       "    .dataframe tbody tr th {\n",
       "        vertical-align: top;\n",
       "    }\n",
       "\n",
       "    .dataframe thead th {\n",
       "        text-align: right;\n",
       "    }\n",
       "</style>\n",
       "<table border=\"1\" class=\"dataframe\">\n",
       "  <thead>\n",
       "    <tr style=\"text-align: right;\">\n",
       "      <th></th>\n",
       "      <th>Sage</th>\n",
       "      <th>sage 53</th>\n",
       "      <th>sci</th>\n",
       "      <th>sage ff</th>\n",
       "      <th>sci-cy</th>\n",
       "      <th>gls-cy</th>\n",
       "    </tr>\n",
       "  </thead>\n",
       "  <tbody>\n",
       "    <tr>\n",
       "      <th>10</th>\n",
       "      <td>0.133613</td>\n",
       "      <td>0.114489</td>\n",
       "      <td>0.062375</td>\n",
       "      <td>0.000757</td>\n",
       "      <td>0.001116</td>\n",
       "      <td>0.000995</td>\n",
       "    </tr>\n",
       "    <tr>\n",
       "      <th>100</th>\n",
       "      <td>1.348372</td>\n",
       "      <td>1.155347</td>\n",
       "      <td>0.665920</td>\n",
       "      <td>0.007764</td>\n",
       "      <td>0.011599</td>\n",
       "      <td>0.010255</td>\n",
       "    </tr>\n",
       "    <tr>\n",
       "      <th>1000</th>\n",
       "      <td>13.288997</td>\n",
       "      <td>11.958288</td>\n",
       "      <td>6.628817</td>\n",
       "      <td>0.077247</td>\n",
       "      <td>0.115504</td>\n",
       "      <td>0.102482</td>\n",
       "    </tr>\n",
       "    <tr>\n",
       "      <th>10000</th>\n",
       "      <td>174.220885</td>\n",
       "      <td>218.375458</td>\n",
       "      <td>65.391520</td>\n",
       "      <td>0.755839</td>\n",
       "      <td>1.140746</td>\n",
       "      <td>1.003775</td>\n",
       "    </tr>\n",
       "  </tbody>\n",
       "</table>\n",
       "</div>"
      ],
      "text/plain": [
       "             Sage     sage 53        sci   sage ff    sci-cy    gls-cy\n",
       "10       0.133613    0.114489   0.062375  0.000757  0.001116  0.000995\n",
       "100      1.348372    1.155347   0.665920  0.007764  0.011599  0.010255\n",
       "1000    13.288997   11.958288   6.628817  0.077247  0.115504  0.102482\n",
       "10000  174.220885  218.375458  65.391520  0.755839  1.140746  1.003775"
      ]
     },
     "execution_count": 39,
     "metadata": {},
     "output_type": "execute_result"
    }
   ],
   "source": [
    "# average runtimes\n",
    "times = benchres.applymap(lambda x: x[0] if isinstance(x, list) else x)\n",
    "times"
   ]
  },
  {
   "cell_type": "code",
   "execution_count": 40,
   "metadata": {},
   "outputs": [
    {
     "data": {
      "text/html": [
       "<div>\n",
       "<style scoped>\n",
       "    .dataframe tbody tr th:only-of-type {\n",
       "        vertical-align: middle;\n",
       "    }\n",
       "\n",
       "    .dataframe tbody tr th {\n",
       "        vertical-align: top;\n",
       "    }\n",
       "\n",
       "    .dataframe thead th {\n",
       "        text-align: right;\n",
       "    }\n",
       "</style>\n",
       "<table border=\"1\" class=\"dataframe\">\n",
       "  <thead>\n",
       "    <tr style=\"text-align: right;\">\n",
       "      <th></th>\n",
       "      <th>Sage</th>\n",
       "      <th>sage 53</th>\n",
       "      <th>sci</th>\n",
       "      <th>sage ff</th>\n",
       "      <th>sci-cy</th>\n",
       "      <th>gls-cy</th>\n",
       "    </tr>\n",
       "  </thead>\n",
       "  <tbody>\n",
       "    <tr>\n",
       "      <th>10</th>\n",
       "      <td>1.367051e-104</td>\n",
       "      <td>1.595402e-104</td>\n",
       "      <td>2.928343e-104</td>\n",
       "      <td>2.412196e-102</td>\n",
       "      <td>1.636519e-102</td>\n",
       "      <td>1.834881e-102</td>\n",
       "    </tr>\n",
       "    <tr>\n",
       "      <th>100</th>\n",
       "      <td>1.354643e-105</td>\n",
       "      <td>1.580965e-105</td>\n",
       "      <td>2.742916e-105</td>\n",
       "      <td>2.352580e-103</td>\n",
       "      <td>1.574720e-103</td>\n",
       "      <td>1.781163e-103</td>\n",
       "    </tr>\n",
       "    <tr>\n",
       "      <th>1000</th>\n",
       "      <td>1.374493e-106</td>\n",
       "      <td>1.527445e-106</td>\n",
       "      <td>2.755488e-106</td>\n",
       "      <td>2.364577e-104</td>\n",
       "      <td>1.581386e-104</td>\n",
       "      <td>1.782333e-104</td>\n",
       "    </tr>\n",
       "    <tr>\n",
       "      <th>10000</th>\n",
       "      <td>1.048418e-107</td>\n",
       "      <td>8.364323e-108</td>\n",
       "      <td>2.793272e-107</td>\n",
       "      <td>2.416604e-105</td>\n",
       "      <td>1.601201e-105</td>\n",
       "      <td>1.819694e-105</td>\n",
       "    </tr>\n",
       "  </tbody>\n",
       "</table>\n",
       "</div>"
      ],
      "text/plain": [
       "                Sage        sage 53            sci        sage ff  \\\n",
       "10     1.367051e-104  1.595402e-104  2.928343e-104  2.412196e-102   \n",
       "100    1.354643e-105  1.580965e-105  2.742916e-105  2.352580e-103   \n",
       "1000   1.374493e-106  1.527445e-106  2.755488e-106  2.364577e-104   \n",
       "10000  1.048418e-107  8.364323e-108  2.793272e-107  2.416604e-105   \n",
       "\n",
       "              sci-cy         gls-cy  \n",
       "10     1.636519e-102  1.834881e-102  \n",
       "100    1.574720e-103  1.781163e-103  \n",
       "1000   1.581386e-104  1.782333e-104  \n",
       "10000  1.601201e-105  1.819694e-105  "
      ]
     },
     "execution_count": 40,
     "metadata": {},
     "output_type": "execute_result"
    }
   ],
   "source": [
    "# relative stdev = variation coeficient in %\n",
    "delta = benchres.applymap(lambda x:x[1]/x[0])\n",
    "delta.multiply(100)"
   ]
  },
  {
   "cell_type": "code",
   "execution_count": 41,
   "metadata": {
    "ExecuteTime": {
     "end_time": "2021-04-22T17:42:20.153132Z",
     "start_time": "2021-04-22T17:42:20.132315Z"
    }
   },
   "outputs": [
    {
     "data": {
      "text/plain": [
       "Sage       174.220885\n",
       "sage 53    218.375458\n",
       "sci         65.391520\n",
       "sage ff      0.755839\n",
       "sci-cy       1.140746\n",
       "gls-cy       1.003775\n",
       "dtype: float64"
      ]
     },
     "execution_count": 41,
     "metadata": {},
     "output_type": "execute_result"
    }
   ],
   "source": [
    "tmax = times.max()\n",
    "tmax"
   ]
  },
  {
   "cell_type": "code",
   "execution_count": 43,
   "metadata": {},
   "outputs": [],
   "source": [
    "twpy = 3.7066538833333325/2"
   ]
  },
  {
   "cell_type": "code",
   "execution_count": 44,
   "metadata": {},
   "outputs": [
    {
     "data": {
      "text/plain": [
       "Sage       0.010638\n",
       "sage 53    0.008487\n",
       "sci        0.028342\n",
       "sage ff    2.452013\n",
       "sci-cy     1.624663\n",
       "gls-cy     1.846357\n",
       "dtype: float64"
      ]
     },
     "execution_count": 44,
     "metadata": {},
     "output_type": "execute_result"
    }
   ],
   "source": [
    "tmax.apply(lambda x:twpy/x)"
   ]
  },
  {
   "cell_type": "code",
   "execution_count": 45,
   "metadata": {},
   "outputs": [
    {
     "data": {
      "text/html": [
       "<div>\n",
       "<style scoped>\n",
       "    .dataframe tbody tr th:only-of-type {\n",
       "        vertical-align: middle;\n",
       "    }\n",
       "\n",
       "    .dataframe tbody tr th {\n",
       "        vertical-align: top;\n",
       "    }\n",
       "\n",
       "    .dataframe thead th {\n",
       "        text-align: right;\n",
       "    }\n",
       "</style>\n",
       "<table border=\"1\" class=\"dataframe\">\n",
       "  <thead>\n",
       "    <tr style=\"text-align: right;\">\n",
       "      <th></th>\n",
       "      <th>Sage</th>\n",
       "      <th>sage 53</th>\n",
       "      <th>sci</th>\n",
       "      <th>sage ff</th>\n",
       "      <th>sci-cy</th>\n",
       "      <th>gls-cy</th>\n",
       "    </tr>\n",
       "  </thead>\n",
       "  <tbody>\n",
       "    <tr>\n",
       "      <th>10</th>\n",
       "      <td>1.34e-01</td>\n",
       "      <td>1.14e-01</td>\n",
       "      <td>6.24e-02</td>\n",
       "      <td>7.57e-04</td>\n",
       "      <td>1.12e-03</td>\n",
       "      <td>9.95e-04</td>\n",
       "    </tr>\n",
       "    <tr>\n",
       "      <th>100</th>\n",
       "      <td>1.35e+00</td>\n",
       "      <td>1.16e+00</td>\n",
       "      <td>6.66e-01</td>\n",
       "      <td>7.76e-03</td>\n",
       "      <td>1.16e-02</td>\n",
       "      <td>1.03e-02</td>\n",
       "    </tr>\n",
       "    <tr>\n",
       "      <th>1000</th>\n",
       "      <td>1.33e+01</td>\n",
       "      <td>1.2e+01</td>\n",
       "      <td>6.63e+00</td>\n",
       "      <td>7.72e-02</td>\n",
       "      <td>1.16e-01</td>\n",
       "      <td>1.02e-01</td>\n",
       "    </tr>\n",
       "    <tr>\n",
       "      <th>10000</th>\n",
       "      <td>1.74e+02</td>\n",
       "      <td>2.18e+02</td>\n",
       "      <td>6.54e+01</td>\n",
       "      <td>7.56e-01</td>\n",
       "      <td>1.14e+00</td>\n",
       "      <td>1.00e+00</td>\n",
       "    </tr>\n",
       "  </tbody>\n",
       "</table>\n",
       "</div>"
      ],
      "text/plain": [
       "           Sage   sage 53       sci   sage ff    sci-cy    gls-cy\n",
       "10     1.34e-01  1.14e-01  6.24e-02  7.57e-04  1.12e-03  9.95e-04\n",
       "100    1.35e+00  1.16e+00  6.66e-01  7.76e-03  1.16e-02  1.03e-02\n",
       "1000   1.33e+01   1.2e+01  6.63e+00  7.72e-02  1.16e-01  1.02e-01\n",
       "10000  1.74e+02  2.18e+02  6.54e+01  7.56e-01  1.14e+00  1.00e+00"
      ]
     },
     "execution_count": 45,
     "metadata": {},
     "output_type": "execute_result"
    }
   ],
   "source": [
    "times.apply(lambda x: scn(x,2))"
   ]
  },
  {
   "cell_type": "markdown",
   "metadata": {},
   "source": [
    "## Errors"
   ]
  },
  {
   "cell_type": "code",
   "execution_count": 46,
   "metadata": {
    "ExecuteTime": {
     "end_time": "2021-04-22T17:54:26.026418Z",
     "start_time": "2021-04-22T17:54:26.015406Z"
    }
   },
   "outputs": [],
   "source": [
    "errs = benchres.applymap(lambda x: scn(x[1:], 0) if isinstance(x, list) else x)"
   ]
  },
  {
   "cell_type": "code",
   "execution_count": 47,
   "metadata": {
    "ExecuteTime": {
     "end_time": "2021-04-22T17:54:27.709231Z",
     "start_time": "2021-04-22T17:54:27.688742Z"
    }
   },
   "outputs": [
    {
     "data": {
      "text/html": [
       "<div>\n",
       "<style scoped>\n",
       "    .dataframe tbody tr th:only-of-type {\n",
       "        vertical-align: middle;\n",
       "    }\n",
       "\n",
       "    .dataframe tbody tr th {\n",
       "        vertical-align: top;\n",
       "    }\n",
       "\n",
       "    .dataframe thead th {\n",
       "        text-align: right;\n",
       "    }\n",
       "</style>\n",
       "<table border=\"1\" class=\"dataframe\">\n",
       "  <thead>\n",
       "    <tr style=\"text-align: right;\">\n",
       "      <th></th>\n",
       "      <th>Sage</th>\n",
       "      <th>sage 53</th>\n",
       "      <th>sci</th>\n",
       "      <th>sage ff</th>\n",
       "      <th>sci-cy</th>\n",
       "      <th>gls-cy</th>\n",
       "    </tr>\n",
       "  </thead>\n",
       "  <tbody>\n",
       "    <tr>\n",
       "      <th>10</th>\n",
       "      <td>[2.e-107, 9.e-14]</td>\n",
       "      <td>[2.e-107, 9.e-14]</td>\n",
       "      <td>[2.e-107, 4.e-15]</td>\n",
       "      <td>[2.e-107, 9.e-14]</td>\n",
       "      <td>[2.e-107, 4.e-15]</td>\n",
       "      <td>[2.e-107, 9.e-14]</td>\n",
       "    </tr>\n",
       "    <tr>\n",
       "      <th>100</th>\n",
       "      <td>[2.e-107, 2.e-08]</td>\n",
       "      <td>[2.e-107, 2.e-08]</td>\n",
       "      <td>[2.e-107, 8.e-11]</td>\n",
       "      <td>[2.e-107, 2.e-08]</td>\n",
       "      <td>[2.e-107, 8.e-11]</td>\n",
       "      <td>[2.e-107, 2.e-08]</td>\n",
       "    </tr>\n",
       "    <tr>\n",
       "      <th>1000</th>\n",
       "      <td>[2.e-107, 7.e-08]</td>\n",
       "      <td>[2.e-107, 7.e-08]</td>\n",
       "      <td>[2.e-107, 1.e-09]</td>\n",
       "      <td>[2.e-107, 7.e-08]</td>\n",
       "      <td>[2.e-107, 1.e-09]</td>\n",
       "      <td>[2.e-107, 7.e-08]</td>\n",
       "    </tr>\n",
       "    <tr>\n",
       "      <th>10000</th>\n",
       "      <td>[2.e-107, 2.e-07]</td>\n",
       "      <td>[2.e-107, 2.e-07]</td>\n",
       "      <td>[2.e-107, 7.e-09]</td>\n",
       "      <td>[2.e-107, 2.e-07]</td>\n",
       "      <td>[2.e-107, 7.e-09]</td>\n",
       "      <td>[2.e-107, 2.e-07]</td>\n",
       "    </tr>\n",
       "  </tbody>\n",
       "</table>\n",
       "</div>"
      ],
      "text/plain": [
       "                    Sage            sage 53                sci  \\\n",
       "10     [2.e-107, 9.e-14]  [2.e-107, 9.e-14]  [2.e-107, 4.e-15]   \n",
       "100    [2.e-107, 2.e-08]  [2.e-107, 2.e-08]  [2.e-107, 8.e-11]   \n",
       "1000   [2.e-107, 7.e-08]  [2.e-107, 7.e-08]  [2.e-107, 1.e-09]   \n",
       "10000  [2.e-107, 2.e-07]  [2.e-107, 2.e-07]  [2.e-107, 7.e-09]   \n",
       "\n",
       "                 sage ff             sci-cy             gls-cy  \n",
       "10     [2.e-107, 9.e-14]  [2.e-107, 4.e-15]  [2.e-107, 9.e-14]  \n",
       "100    [2.e-107, 2.e-08]  [2.e-107, 8.e-11]  [2.e-107, 2.e-08]  \n",
       "1000   [2.e-107, 7.e-08]  [2.e-107, 1.e-09]  [2.e-107, 7.e-08]  \n",
       "10000  [2.e-107, 2.e-07]  [2.e-107, 7.e-09]  [2.e-107, 2.e-07]  "
      ]
     },
     "execution_count": 47,
     "metadata": {},
     "output_type": "execute_result"
    }
   ],
   "source": [
    "errs"
   ]
  },
  {
   "cell_type": "code",
   "execution_count": 48,
   "metadata": {},
   "outputs": [
    {
     "data": {
      "text/html": [
       "<div>\n",
       "<style scoped>\n",
       "    .dataframe tbody tr th:only-of-type {\n",
       "        vertical-align: middle;\n",
       "    }\n",
       "\n",
       "    .dataframe tbody tr th {\n",
       "        vertical-align: top;\n",
       "    }\n",
       "\n",
       "    .dataframe thead th {\n",
       "        text-align: right;\n",
       "    }\n",
       "</style>\n",
       "<table border=\"1\" class=\"dataframe\">\n",
       "  <thead>\n",
       "    <tr style=\"text-align: right;\">\n",
       "      <th></th>\n",
       "      <th>Sage</th>\n",
       "      <th>sage 53</th>\n",
       "      <th>sci</th>\n",
       "      <th>sage ff</th>\n",
       "      <th>sci-cy</th>\n",
       "      <th>gls-cy</th>\n",
       "    </tr>\n",
       "  </thead>\n",
       "  <tbody>\n",
       "    <tr>\n",
       "      <th>10</th>\n",
       "      <td>[2.e-107, 9.e-14]</td>\n",
       "      <td>[2.e-107, 9.e-14]</td>\n",
       "      <td>[2.e-107, 4.e-15]</td>\n",
       "      <td>[2.e-107, 9.e-14]</td>\n",
       "      <td>[2.e-107, 4.e-15]</td>\n",
       "      <td>[2.e-107, 9.e-14]</td>\n",
       "    </tr>\n",
       "    <tr>\n",
       "      <th>100</th>\n",
       "      <td>[2.e-107, 2.e-08]</td>\n",
       "      <td>[2.e-107, 2.e-08]</td>\n",
       "      <td>[2.e-107, 8.e-11]</td>\n",
       "      <td>[2.e-107, 2.e-08]</td>\n",
       "      <td>[2.e-107, 8.e-11]</td>\n",
       "      <td>[2.e-107, 2.e-08]</td>\n",
       "    </tr>\n",
       "    <tr>\n",
       "      <th>1000</th>\n",
       "      <td>[2.e-107, 7.e-08]</td>\n",
       "      <td>[2.e-107, 7.e-08]</td>\n",
       "      <td>[2.e-107, 1.e-09]</td>\n",
       "      <td>[2.e-107, 7.e-08]</td>\n",
       "      <td>[2.e-107, 1.e-09]</td>\n",
       "      <td>[2.e-107, 7.e-08]</td>\n",
       "    </tr>\n",
       "    <tr>\n",
       "      <th>10000</th>\n",
       "      <td>[2.e-107, 2.e-07]</td>\n",
       "      <td>[2.e-107, 2.e-07]</td>\n",
       "      <td>[2.e-107, 7.e-09]</td>\n",
       "      <td>[2.e-107, 2.e-07]</td>\n",
       "      <td>[2.e-107, 7.e-09]</td>\n",
       "      <td>[2.e-107, 2.e-07]</td>\n",
       "    </tr>\n",
       "  </tbody>\n",
       "</table>\n",
       "</div>"
      ],
      "text/plain": [
       "                    Sage            sage 53                sci  \\\n",
       "10     [2.e-107, 9.e-14]  [2.e-107, 9.e-14]  [2.e-107, 4.e-15]   \n",
       "100    [2.e-107, 2.e-08]  [2.e-107, 2.e-08]  [2.e-107, 8.e-11]   \n",
       "1000   [2.e-107, 7.e-08]  [2.e-107, 7.e-08]  [2.e-107, 1.e-09]   \n",
       "10000  [2.e-107, 2.e-07]  [2.e-107, 2.e-07]  [2.e-107, 7.e-09]   \n",
       "\n",
       "                 sage ff             sci-cy             gls-cy  \n",
       "10     [2.e-107, 9.e-14]  [2.e-107, 4.e-15]  [2.e-107, 9.e-14]  \n",
       "100    [2.e-107, 2.e-08]  [2.e-107, 8.e-11]  [2.e-107, 2.e-08]  \n",
       "1000   [2.e-107, 7.e-08]  [2.e-107, 1.e-09]  [2.e-107, 7.e-08]  \n",
       "10000  [2.e-107, 2.e-07]  [2.e-107, 7.e-09]  [2.e-107, 2.e-07]  "
      ]
     },
     "execution_count": 48,
     "metadata": {},
     "output_type": "execute_result"
    }
   ],
   "source": [
    "errs.applymap(lambda x: x[:2])"
   ]
  },
  {
   "cell_type": "code",
   "execution_count": 54,
   "metadata": {},
   "outputs": [],
   "source": [
    "benchmark.to_csv('PdfConvolutionIntegratorsComparison.csv')"
   ]
  },
  {
   "cell_type": "markdown",
   "metadata": {},
   "source": [
    "# cross-checking: plots"
   ]
  },
  {
   "cell_type": "code",
   "execution_count": 55,
   "metadata": {},
   "outputs": [],
   "source": [
    "points = np.linspace(-3, 4, 1000)"
   ]
  },
  {
   "cell_type": "code",
   "execution_count": 56,
   "metadata": {
    "scrolled": true
   },
   "outputs": [
    {
     "data": {
      "image/png": "[encoded data removed]",
      "text/plain": [
       "<Figure size 432x288 with 1 Axes>"
      ]
     },
     "metadata": {},
     "output_type": "display_data"
    },
    {
     "data": {
      "image/png": "[encoded data removed]",
      "text/plain": [
       "<Figure size 432x288 with 1 Axes>"
      ]
     },
     "metadata": {},
     "output_type": "display_data"
    },
    {
     "data": {
      "image/png": "[encoded data removed]",
      "text/plain": [
       "<Figure size 432x288 with 1 Axes>"
      ]
     },
     "metadata": {},
     "output_type": "display_data"
    },
    {
     "data": {
      "image/png": "[encoded data removed]",
      "text/plain": [
       "<Figure size 432x288 with 1 Axes>"
      ]
     },
     "metadata": {},
     "output_type": "display_data"
    },
    {
     "data": {
      "image/png": "[encoded data removed]",
      "text/plain": [
       "<Figure size 432x288 with 1 Axes>"
      ]
     },
     "metadata": {},
     "output_type": "display_data"
    },
    {
     "data": {
      "image/png": "[encoded data removed]",
      "text/plain": [
       "<Figure size 432x288 with 1 Axes>"
      ]
     },
     "metadata": {},
     "output_type": "display_data"
    }
   ],
   "source": [
    "for method in list(pdf.keys()):\n",
    "    yh = [pdf[method](u) for u in points]\n",
    "    plt.plot(points,yh)\n",
    "    plt.title(method)\n",
    "    plt.show();"
   ]
  },
  {
   "cell_type": "markdown",
   "metadata": {},
   "source": [
    "***\n",
    "<a id=references></a>\n",
    "# <font color=brown> References </font>\n",
    "This notebook belongs to supplementary materials of the paper submitted to Journal of Statistical Computation and\n",
    "Simulation and available at  <https://arxiv.org/abs/2105.04427>.\n",
    "* Hančová, M., Gajdoš, A., Hanč, J. (2021). A practical, effective calculation of gamma difference distributions with open data science tools. arXiv:2105.04427 [cs, math, stat], https://arxiv.org/abs/2105.04427\n",
    "\n",
    "### Abstract of the paper\n",
    "\n",
    "At present, there is still no officially accepted and extensively verified implementation of computing the gamma difference distribution allowing unequal shape parameters. We explore four computational ways of the gamma difference distribution with the different shape parameters resulting from time series kriging, a forecasting approach based on the best linear unbiased prediction, and linear mixed models. The results of our numerical study, with emphasis on using open data science tools, demonstrate that our open tool implemented in high-performance Python(with Numba) is exponentially fast, highly accurate, and very reliable. It combines numerical inversion of the characteristic function and the trapezoidal rule with the double exponential oscillatory transformation (DE quadrature). At the double 53-bit precision, our tool outperformed the speed of the analytical computation based on Tricomi's $U(a, b, z)$ function in CAS software (commercial Mathematica, open SageMath) by 1.5-2 orders. At the precision of scientific numerical computational tools, it exceeded open SciPy, NumPy, and commercial MATLAB 5-10 times. The potential future application of our tool for a mixture of characteristic functions could open new possibilities for fast data analysis based on exact probability distributions in areas like multidimensional statistics, measurement uncertainty analysis in metrology as well as in financial mathematics and risk analysis. "
   ]
  }
 ],
 "metadata": {
  "hide_input": false,
  "kernelspec": {
   "display_name": "SageMath 9.2",
   "language": "sage",
   "name": "sagemath"
  },
  "language_info": {
   "codemirror_mode": {
    "name": "ipython",
    "version": 3
   },
   "file_extension": ".py",
   "mimetype": "text/x-python",
   "name": "python",
   "nbconvert_exporter": "python",
   "pygments_lexer": "ipython3",
   "version": "3.7.7"
  },
  "toc": {
   "base_numbering": 1,
   "nav_menu": {},
   "number_sections": true,
   "sideBar": true,
   "skip_h1_title": false,
   "title_cell": "Table of Contents",
   "title_sidebar": "Contents",
   "toc_cell": false,
   "toc_position": {},
   "toc_section_display": true,
   "toc_window_display": false
  },
  "varInspector": {
   "cols": {
    "lenName": 16,
    "lenType": 16,
    "lenVar": 40
   },
   "kernels_config": {
    "python": {
     "delete_cmd_postfix": "",
     "delete_cmd_prefix": "del ",
     "library": "var_list.py",
     "varRefreshCmd": "print(var_dic_list())"
    },
    "r": {
     "delete_cmd_postfix": ") ",
     "delete_cmd_prefix": "rm(",
     "library": "var_list.r",
     "varRefreshCmd": "cat(var_dic_list()) "
    }
   },
   "types_to_exclude": [
    "module",
    "function",
    "builtin_function_or_method",
    "instance",
    "_Feature"
   ],
   "window_display": false
  }
 },
 "nbformat": 4,
 "nbformat_minor": 1
}
